{
 "cells": [
  {
   "cell_type": "markdown",
   "metadata": {},
   "source": [
    "# Data Mining Report"
   ]
  },
  {
   "cell_type": "markdown",
   "metadata": {},
   "source": [
    "**Authors:** Johannes HYGRELL, Andrieu GIRARD, Hugo DEGEORGES, Benjamin KERMANI \\\n",
    "**Prof:** Dr. Mehdi Kaytoue"
   ]
  },
  {
   "cell_type": "markdown",
   "metadata": {},
   "source": [
    "## Table of Contents\n",
    "\n",
    "- [1 - Introduction](#1)\n",
    "- [2 - Packages & Global Variables](#2)\n",
    "- [3 - Data Acquisition](#3)\n",
    "- [4 - Data Pre-processing](#4)\n",
    "- [5 - Data Visualisation](#5)\n",
    "- [6 - Method 1 : Scaled Manhattan Distance](#6)\n",
    "- [7 - Method 2 : Keyboard Image Mapping](#7)\n",
    "- [8 - Method 3 : Decision Tree](#8)\n",
    "- [9 - Evaluation](#9)\n",
    "- [10 - Conclusion](#10)"
   ]
  },
  {
   "cell_type": "markdown",
   "metadata": {},
   "source": [
    "<a name='1'></a>\n",
    "## 1 - Introduction"
   ]
  },
  {
   "cell_type": "markdown",
   "metadata": {},
   "source": [
    "Data mining project on keystroke dynamics as part of the Machine Learning specialization at INSA Lyon (5IF - OT2).\n",
    "\n",
    "The goal is to study different research aspects of keystroke dynamics using data mining and knowledge discovery techniques.\n",
    "\n",
    "- **Research questions we want to address**\n",
    "    - To what extent can we identify users only using their keystrokes signature?\n",
    "    - Has the keyboard layout an influence on the users keystroke profile?\n",
    "    - What are the most important (i.e discriminant) features extractable from the data?\n",
    "- **Data acquisition**\n",
    "    - Keylogger to acquire our own data on a fixed text (pangrams) for the references, and [random texts](https://www.typelit.io/) for the traces to re-identify\n",
    "- **Methods**\n",
    "    - Scaled manhattan distance\n",
    "    - Keyboard image mapping\n",
    "    - Decision Tree\n",
    "- **Data evaluation**\n",
    "    - Accuracy\n",
    "    - f1-Score\n",
    "    - log-loss Crossentropy\n",
    "\n",
    "Roles of the Authors:\n",
    "\n",
    "- Johannes HYGRELL: Decision Tree Model, Scaled Manhattan Distance Model, Evaluation/Train-Test Code\n",
    "- Andrieu GIRARD: Research, Data Visualization\n",
    "- Hugo DEGEORGES: Key logging functionality, Preprocessing, Keyboard Image Mapping Model, Data Visualization\n",
    "- Benjamin KERMANI: Preprocessing, Decision Tree Model\n",
    "\n",
    "Bibliography:\n",
    "- Keystroke Dynamics for User Authentication (https://projet.liris.cnrs.fr/imagine/pub/proceedings/CVPR2012/data/papers/workshops/W13_18.pdf)\n",
    "- Utilizing overt and latent linguistic structure to improve keystroke-based authentication (https://www.sciencedirect.com/science/article/abs/pii/S0262885616301019)"
   ]
  },
  {
   "cell_type": "markdown",
   "metadata": {},
   "source": [
    "<a name='2'></a>\n",
    "## 2 - Packages & Global Variables"
   ]
  },
  {
   "cell_type": "code",
   "execution_count": 34,
   "metadata": {},
   "outputs": [],
   "source": [
    "import pandas as pd \n",
    "import numpy as np\n",
    "from datetime import datetime\n",
    "import os\n",
    "import os\n",
    "from PIL import Image, ImageChops\n",
    "import sys\n",
    "from IPython.display import display\n",
    "from os import listdir\n",
    "from os.path import isfile, join\n",
    "import math\n",
    "import string\n",
    "import matplotlib\n",
    "import matplotlib.pyplot as plt\n",
    "import matplotlib.path as path_bis\n",
    "import matplotlib.patches as patches\n",
    "import plotly.graph_objects as go\n",
    "import cv2 # pip install opencv-python\n",
    "from pynput.keyboard import Key, Listener\n",
    "import logging\n",
    "from sklearn import tree\n",
    "from sklearn.metrics import accuracy_score, f1_score, log_loss, roc_auc_score\n",
    "\n",
    "\n",
    "# Global variables\n",
    "filepaths = []\n",
    "INPUT_DATA_FILEPATH = \"data/training/input_data/\"\n",
    "filepaths.append(INPUT_DATA_FILEPATH)\n",
    "INPUT_DATA_UNKNOWN_FILEPATH = \"data/test/input_data_unknown/\"\n",
    "filepaths.append(INPUT_DATA_UNKNOWN_FILEPATH)\n",
    "\n",
    "INPUT_DATA_MERGED_FILEPATH = \"data/training/input_data_merged/\"\n",
    "filepaths.append(INPUT_DATA_MERGED_FILEPATH)\n",
    "\n",
    "PREPROCESSED_DATA_FILEPATH = \"data/training/preprocessed_data/\"\n",
    "filepaths.append(PREPROCESSED_DATA_FILEPATH)\n",
    "PREPROCESSED_DATA_UNKNOWN_FILEPATH = \"data/test/preprocessed_data_unknown/\"\n",
    "filepaths.append(PREPROCESSED_DATA_UNKNOWN_FILEPATH)\n",
    "\n",
    "REFERENCE_FILEPATH = \"data/training/reference/\"\n",
    "filepaths.append(REFERENCE_FILEPATH)\n",
    "REFERENCE_UNKNOWN_FILEPATH = \"data/test/reference_unknown/\"\n",
    "filepaths.append(REFERENCE_UNKNOWN_FILEPATH)\n",
    "\n",
    "\n",
    "HEATMAP_REFERENCE = \"data/training/heatmap_reference/\"\n",
    "HEATMAP_UNKNOWN_REFERENCE = \"data/test/heatmap_unknown_reference/\"\n",
    "\n",
    "os.mkdir(HEATMAP_REFERENCE)\n",
    "os.mkdir(HEATMAP_UNKNOWN_REFERENCE)\n",
    "os.mkdir(HEATMAP_REFERENCE+'colormap/')\n",
    "os.mkdir(HEATMAP_UNKNOWN_REFERENCE+'colormap/')\n"
   ]
  },
  {
   "cell_type": "markdown",
   "metadata": {},
   "source": [
    "Run the following cell if you need to create directories or clear the directories containing the preprocessed data :"
   ]
  },
  {
   "cell_type": "code",
   "execution_count": 35,
   "metadata": {},
   "outputs": [],
   "source": [
    "for filepath in filepaths:\n",
    "    # Create directory if DNE\n",
    "    if not os.path.exists(filepath):\n",
    "        os.makedirs(filepath)\n",
    "\n",
    "    # Delete files if not input directories\n",
    "    if filepath not in [INPUT_DATA_FILEPATH, INPUT_DATA_UNKNOWN_FILEPATH]:\n",
    "        for f in os.listdir(filepath):\n",
    "            os.remove(os.path.join(filepath, f))   \n"
   ]
  },
  {
   "cell_type": "markdown",
   "metadata": {},
   "source": [
    "<a name='3'></a>\n",
    "## 3 - Data Acquisition"
   ]
  },
  {
   "cell_type": "markdown",
   "metadata": {},
   "source": [
    "Before processing data, we first need to acquire it. `pynput` python library allow us to acquire keyboard inputs. \\\n",
    "The generated data will have the following format: `{timestamp | key | [press/release]}`\n",
    "\n",
    "example : `2021-11-20 10:45:45,858|Key.enter|release`\n",
    "\n",
    "The below python script will ask you to choose a filename, you then write what's prompted in the console (pangrams) using your keyboard. Once you are done, you have to stop the program. A new file should have been generated. We followed that procedure to get our training data.\n",
    "\n",
    "To collect the re-identification traces, you have to change the path where you want to store the generated file, go to [typelit.io](https://www.typelit.io/) and launch the python script. Once you are done, stop the program. \n",
    "\n",
    "*Note: We collected the necessary data in `data/train/input_data` and `data/test/input_data_unknown` folders*, it's not necessary for you to acquire your input, but if you want to be part of our training and/or re-identification dataset, feel free to collect your inputs."
   ]
  },
  {
   "cell_type": "code",
   "execution_count": 36,
   "metadata": {},
   "outputs": [
    {
     "ename": "KeyboardInterrupt",
     "evalue": "Interrupted by user",
     "output_type": "error",
     "traceback": [
      "\u001b[1;31m---------------------------------------------------------------------------\u001b[0m",
      "\u001b[1;31mKeyboardInterrupt\u001b[0m                         Traceback (most recent call last)",
      "\u001b[1;32m<ipython-input-36-2b7b7df2272c>\u001b[0m in \u001b[0;36m<module>\u001b[1;34m\u001b[0m\n\u001b[0;32m      3\u001b[0m \u001b[1;31m# unknown_<name>_<nb_trace> for data to re-identify\u001b[0m\u001b[1;33m\u001b[0m\u001b[1;33m\u001b[0m\u001b[1;33m\u001b[0m\u001b[0m\n\u001b[0;32m      4\u001b[0m \u001b[0msaving_path\u001b[0m \u001b[1;33m=\u001b[0m \u001b[0mINPUT_DATA_FILEPATH\u001b[0m\u001b[1;33m\u001b[0m\u001b[1;33m\u001b[0m\u001b[0m\n\u001b[1;32m----> 5\u001b[1;33m \u001b[0muser_filename\u001b[0m \u001b[1;33m=\u001b[0m \u001b[0minput\u001b[0m\u001b[1;33m(\u001b[0m\u001b[1;34m\"Filename (ex. andrieu_1): \"\u001b[0m\u001b[1;33m)\u001b[0m\u001b[1;33m\u001b[0m\u001b[1;33m\u001b[0m\u001b[0m\n\u001b[0m\u001b[0;32m      6\u001b[0m \u001b[0mlogging\u001b[0m\u001b[1;33m.\u001b[0m\u001b[0mbasicConfig\u001b[0m\u001b[1;33m(\u001b[0m\u001b[0mfilename\u001b[0m\u001b[1;33m=\u001b[0m\u001b[1;33m(\u001b[0m\u001b[0msaving_path\u001b[0m \u001b[1;33m+\u001b[0m \u001b[0muser_filename\u001b[0m \u001b[1;33m+\u001b[0m \u001b[1;34m\".csv\"\u001b[0m\u001b[1;33m)\u001b[0m\u001b[1;33m,\u001b[0m \u001b[0mlevel\u001b[0m\u001b[1;33m=\u001b[0m\u001b[0mlogging\u001b[0m\u001b[1;33m.\u001b[0m\u001b[0mDEBUG\u001b[0m\u001b[1;33m,\u001b[0m \u001b[0mformat\u001b[0m\u001b[1;33m=\u001b[0m\u001b[1;34m\"%(asctime)s|%(message)s\"\u001b[0m\u001b[1;33m)\u001b[0m\u001b[1;33m\u001b[0m\u001b[1;33m\u001b[0m\u001b[0m\n\u001b[0;32m      7\u001b[0m \u001b[1;33m\u001b[0m\u001b[0m\n",
      "\u001b[1;32m~\\anaconda3\\lib\\site-packages\\ipykernel\\kernelbase.py\u001b[0m in \u001b[0;36mraw_input\u001b[1;34m(self, prompt)\u001b[0m\n\u001b[0;32m    858\u001b[0m                 \u001b[1;34m\"raw_input was called, but this frontend does not support input requests.\"\u001b[0m\u001b[1;33m\u001b[0m\u001b[1;33m\u001b[0m\u001b[0m\n\u001b[0;32m    859\u001b[0m             )\n\u001b[1;32m--> 860\u001b[1;33m         return self._input_request(str(prompt),\n\u001b[0m\u001b[0;32m    861\u001b[0m             \u001b[0mself\u001b[0m\u001b[1;33m.\u001b[0m\u001b[0m_parent_ident\u001b[0m\u001b[1;33m,\u001b[0m\u001b[1;33m\u001b[0m\u001b[1;33m\u001b[0m\u001b[0m\n\u001b[0;32m    862\u001b[0m             \u001b[0mself\u001b[0m\u001b[1;33m.\u001b[0m\u001b[0m_parent_header\u001b[0m\u001b[1;33m,\u001b[0m\u001b[1;33m\u001b[0m\u001b[1;33m\u001b[0m\u001b[0m\n",
      "\u001b[1;32m~\\anaconda3\\lib\\site-packages\\ipykernel\\kernelbase.py\u001b[0m in \u001b[0;36m_input_request\u001b[1;34m(self, prompt, ident, parent, password)\u001b[0m\n\u001b[0;32m    902\u001b[0m             \u001b[1;32mexcept\u001b[0m \u001b[0mKeyboardInterrupt\u001b[0m\u001b[1;33m:\u001b[0m\u001b[1;33m\u001b[0m\u001b[1;33m\u001b[0m\u001b[0m\n\u001b[0;32m    903\u001b[0m                 \u001b[1;31m# re-raise KeyboardInterrupt, to truncate traceback\u001b[0m\u001b[1;33m\u001b[0m\u001b[1;33m\u001b[0m\u001b[1;33m\u001b[0m\u001b[0m\n\u001b[1;32m--> 904\u001b[1;33m                 \u001b[1;32mraise\u001b[0m \u001b[0mKeyboardInterrupt\u001b[0m\u001b[1;33m(\u001b[0m\u001b[1;34m\"Interrupted by user\"\u001b[0m\u001b[1;33m)\u001b[0m \u001b[1;32mfrom\u001b[0m \u001b[1;32mNone\u001b[0m\u001b[1;33m\u001b[0m\u001b[1;33m\u001b[0m\u001b[0m\n\u001b[0m\u001b[0;32m    905\u001b[0m             \u001b[1;32mexcept\u001b[0m \u001b[0mException\u001b[0m \u001b[1;32mas\u001b[0m \u001b[0me\u001b[0m\u001b[1;33m:\u001b[0m\u001b[1;33m\u001b[0m\u001b[1;33m\u001b[0m\u001b[0m\n\u001b[0;32m    906\u001b[0m                 \u001b[0mself\u001b[0m\u001b[1;33m.\u001b[0m\u001b[0mlog\u001b[0m\u001b[1;33m.\u001b[0m\u001b[0mwarning\u001b[0m\u001b[1;33m(\u001b[0m\u001b[1;34m\"Invalid Message:\"\u001b[0m\u001b[1;33m,\u001b[0m \u001b[0mexc_info\u001b[0m\u001b[1;33m=\u001b[0m\u001b[1;32mTrue\u001b[0m\u001b[1;33m)\u001b[0m\u001b[1;33m\u001b[0m\u001b[1;33m\u001b[0m\u001b[0m\n",
      "\u001b[1;31mKeyboardInterrupt\u001b[0m: Interrupted by user"
     ]
    }
   ],
   "source": [
    "# filename convention is :\n",
    "# <name>_<nb_trace> for reference using pangrams\n",
    "# unknown_<name>_<nb_trace> for data to re-identify\n",
    "saving_path = INPUT_DATA_FILEPATH\n",
    "user_filename = input(\"Filename (ex. andrieu_1): \")\n",
    "logging.basicConfig(filename=(saving_path + user_filename + \".csv\"), level=logging.DEBUG, format=\"%(asctime)s|%(message)s\")\n",
    "\n",
    "text = \"Portez ce vieux whisky au juge blond qui fume.\\n\"\n",
    "text += \"Joyeux, ivre, fatigué, le nez qui pique, Clown Hary skie dans l’ombre.\\n\"\n",
    "text += \"Monsieur Jack, vous dactylographiez bien mieux que Wolf.\\n\"\n",
    "text += \"Hier, au zoo, j'ai vu dix guépards, cinq zébus, un yak et le wapiti fumer.\\n\"\n",
    "text += \"Yves fugue en BMX chez Will, qui est près du Kilimandjaro.\\n\"\n",
    "text += \"J’aime l’idée que le plus grand des Sex-symbols new-yorkais n’était qu’un chien dans un foyer de Brazzaville.\\n\"\n",
    "\n",
    "print(\"Veuillez écrire le text ci-dessous et arrêter le programme une fois fini:\\n\\n\" + text)\n",
    "\n",
    "\n",
    "def on_press(key):\n",
    "    logging.info(str(key)+\"|press\")\n",
    "def on_release(key):\n",
    "    logging.info(str(key)+\"|release\")\n",
    " \n",
    "with Listener(on_press=on_press, on_release=on_release) as listener :\n",
    "    listener.join()"
   ]
  },
  {
   "cell_type": "markdown",
   "metadata": {},
   "source": [
    "<a name='4'></a>\n",
    "## 4 - Data Pre-processing\n",
    "\n",
    "In the event that a key is pressed for a 'long time' (at least 2 consecutive rows in the log file with the same 'Key' value and 'Action' = press), we only keep the first pressed action.\n",
    "<br>We also create some columns for specific keys like Shift, Alt, Win, Ctrl"
   ]
  },
  {
   "cell_type": "markdown",
   "metadata": {},
   "source": [
    "Now that we acquired raw data in\n",
    "\n",
    "- `data/train/input_data/` (contains traces we will use as reference)\n",
    "- `data/test/input_data_unknown` (contains traces we will use to re-identify)\n",
    "\n",
    "we need to pre-process the data for use in our models. This includes the following steps: \n",
    "\n",
    "1. **Merging data :** We may have multiple traces (raw files) per user, we will concatenate these into one file per user.\n",
    "2. **Pre-processing data :** Clean the data (delete duplicate tuples) and slightly modify the data structure (add binary column giving information regarding `shift` state)\n",
    "3. **Creating references :** Aggregate statistics per key."
   ]
  },
  {
   "cell_type": "markdown",
   "metadata": {},
   "source": [
    "### 4.1 - Merging Input Data"
   ]
  },
  {
   "cell_type": "markdown",
   "metadata": {},
   "source": [
    "Our naming convention for the data files is the following: `<name>_<nb_traces>.csv`\n",
    "\n",
    "The 2 following methods are equivalent. We loop over the users, enumerating their number of traces. Then, we concatenate them into a single file.\n",
    "\n",
    "*Note: We do not concatenate test traces (files in `data/test/input_data_unknown`) to have more re-identification traces for testing.*"
   ]
  },
  {
   "cell_type": "code",
   "execution_count": 37,
   "metadata": {},
   "outputs": [],
   "source": [
    "columns = ['Timestamp', 'Key', 'Action']\n",
    "last_elements = {}\n",
    "\n",
    "def merge_input_data_with_dict(input_path, path_merged):\n",
    "    user_to_count = {}\n",
    "    files = [os.path.splitext(filename)[0] for filename in listdir(input_path)]\n",
    "    for file_name in files:\n",
    "        user_name = file_name.split('_')[0]\n",
    "        if user_name in user_to_count:\n",
    "            # already in map, add 1 to counter\n",
    "            user_to_count[user_name] = user_to_count[user_name] + 1 \n",
    "        else:\n",
    "            # not in map, add and set counter to 1\n",
    "            user_to_count[user_name] = 1\n",
    "    for user_name in user_to_count.keys():\n",
    "        counter = user_to_count[user_name]\n",
    "        all_filenames = []\n",
    "        Ts_last_elems = []\n",
    "        for i in range(1, counter + 1):\n",
    "            all_filenames = np.append(all_filenames, [input_path+user_name+'_'+str(i)+'.csv'])\n",
    "            tmp = pd.read_csv(input_path+user_name+'_'+str(i)+'.csv', sep = '|', names = columns, encoding = \"ISO-8859-1\")\n",
    "            last = tmp['Timestamp'].iloc[-1]\n",
    "            last = datetime.strptime(last, '%Y-%m-%d %H:%M:%S,%f')\n",
    "            Ts_last_elems.append(last)\n",
    "        last_elements[user_name] = Ts_last_elems  \n",
    "        df_merged = (pd.read_csv(f, sep='|', names=columns, encoding = \"ISO-8859-1\") for f in all_filenames)\n",
    "        df_merged = pd.concat(df_merged, ignore_index=False)\n",
    "        df_merged.to_csv(path_merged + user_name +'.csv', sep='|', encoding = \"ISO-8859-1\")    \n",
    "    \n",
    "def merge_input_data(input_path, path_merged):\n",
    "    user_list = files = [os.path.splitext(filename)[0] for filename in listdir(input_path)]\n",
    "    samples_number = np.empty((2,2))\n",
    "    samples_number = np.delete(samples_number, [0,1], 0)\n",
    "    user_name = user_list[0].split('_')[0]\n",
    "    for h in range(len(user_list)): \n",
    "        if user_list[h].split('_')[0] != user_name or h == len(user_list) - 1:\n",
    "            if h == len(user_list) - 1:\n",
    "                samples_number = np.append(samples_number,[[user_name, int(position)]], axis = 0)\n",
    "                if user_list[h].split('_')[0] != user_name:\n",
    "                    samples_number = np.append(samples_number,[[user_list[h].split('_')[0], 1]], axis = 0)\n",
    "                else:\n",
    "                    string = samples_number[-1][1]\n",
    "                    i = int(string) + 1\n",
    "                    samples_number[-1][1] = str(i)\n",
    "            else:\n",
    "                samples_number = np.append(samples_number,[[user_name, int(position)]], axis = 0)\n",
    "            user_name = user_list[h].split('_')[0]\n",
    "        position = user_list[h].split('_')[1]\n",
    "    for i in range(0, len(samples_number)):\n",
    "        sample_number = samples_number[i][1]\n",
    "        all_filenames = []\n",
    "        Ts_last_elems = []\n",
    "        for j in range(1, int(sample_number)+1):\n",
    "            all_filenames = np.append(all_filenames, [input_path+samples_number[i][0]+'_'+str(j)+'.csv'])\n",
    "            tmp = pd.read_csv(input_path+samples_number[i][0]+'_'+str(j)+'.csv', sep = '|', names = columns, encoding = \"ISO-8859-1\")\n",
    "            last = tmp['Timestamp'].iloc[-1]\n",
    "            last = datetime.strptime(last, '%Y-%m-%d %H:%M:%S,%f')\n",
    "            Ts_last_elems.append(last)\n",
    "        last_elements[user_name] = Ts_last_elems  \n",
    "        df_merged = (pd.read_csv(f, sep='|', names=columns, encoding = \"ISO-8859-1\") for f in all_filenames)\n",
    "        df_merged = pd.concat(df_merged, ignore_index=False)\n",
    "        df_merged.to_csv(path_merged+samples_number[i][0]+'.csv', sep='|', encoding = \"ISO-8859-1\")"
   ]
  },
  {
   "cell_type": "markdown",
   "metadata": {},
   "source": [
    "We will call this function to generate a single file per user for the files stored in `data/train/input_data`."
   ]
  },
  {
   "cell_type": "code",
   "execution_count": 38,
   "metadata": {},
   "outputs": [],
   "source": [
    "merge_input_data(INPUT_DATA_FILEPATH, INPUT_DATA_MERGED_FILEPATH)     "
   ]
  },
  {
   "cell_type": "markdown",
   "metadata": {},
   "source": [
    "Here is the list of files we have generated in `data/train/input_data_merged`, as well as and `data/test/input_data_unknown_merged`."
   ]
  },
  {
   "cell_type": "code",
   "execution_count": 39,
   "metadata": {},
   "outputs": [
    {
     "name": "stdout",
     "output_type": "stream",
     "text": [
      "merged data files : ['andrieu', 'benjamin', 'hugo', 'robin', 'sylvain', 'theotime']\n",
      "initial test data files: ['andrieu_1', 'andrieu_2', 'andrieu_3', 'andrieu_4', 'andrieu_5', 'andrieu_6', 'andrieu_7', 'benjamin_1', 'benjamin_2', 'benjamin_3', 'benjamin_4', 'benjamin_5', 'theotime_1']\n"
     ]
    }
   ],
   "source": [
    "files = [os.path.splitext(filename)[0] for filename in listdir(INPUT_DATA_MERGED_FILEPATH)]\n",
    "files_unknown = [os.path.splitext(filename)[0] for filename in listdir(INPUT_DATA_UNKNOWN_FILEPATH)]\n",
    "print(\"merged data files :\",files)\n",
    "print(\"initial test data files:\", files_unknown)"
   ]
  },
  {
   "cell_type": "markdown",
   "metadata": {},
   "source": [
    "### 4.2 - Pre-processing Input Data"
   ]
  },
  {
   "cell_type": "markdown",
   "metadata": {},
   "source": [
    "We now have one file per user. We then clean it and collect information (e.g, was shift pressed?).\n",
    "\n",
    "The goal is to restructure `{timestamp | key | [press/release]}` into `{timestamp | key | [press/release] | shift_bool}`.\n",
    "\n",
    "The following methods do three things:\n",
    "1. Clean the data : `preprocess_holding(...)` deletes duplicate lines. This occurs when a key was pressed for too long.\n",
    "2. Shift key usage : we want to collect the information regarding the usage of the shift key because it could affect the typing characteristics of the user. `is_shifted_key(...)` determines the shift state.\n",
    "3. Append to dataframe : `preprocess_shift(...)` appends a column with shift key information to the dataframe."
   ]
  },
  {
   "cell_type": "code",
   "execution_count": 40,
   "metadata": {},
   "outputs": [],
   "source": [
    "columns_bis = ['Timestamp', 'Key', 'Action', 'Shift']\n",
    "\n",
    "def is_shifted_key(df, key_index):\n",
    "    press = False\n",
    "    release = False\n",
    "    for i in range(key_index, df.index.start-1, -1):\n",
    "        if df['Key'][i] == 'Key.shift' and df['Action'][i] == 'press':\n",
    "            press = True\n",
    "            for j in range(key_index, i, -1):\n",
    "                if df['Key'][j] == 'Key.shift' and df['Action'][j] == 'release':\n",
    "                    release = True\n",
    "                    break\n",
    "            break\n",
    "    if press == True and release == False:\n",
    "        return True\n",
    "    else:\n",
    "        return False\n",
    "\n",
    "def preprocess_holding(dataframe):\n",
    "    for i in range(dataframe.index.start, dataframe.index.stop):\n",
    "        if i < dataframe.index.stop:\n",
    "            current_key = dataframe['Key'][i]\n",
    "            if dataframe['Action'][i] == 'press':\n",
    "                press = True\n",
    "                j = i + 1\n",
    "                while press:\n",
    "                    if j < dataframe.index.stop and dataframe['Action'][j] == 'press' and current_key == dataframe['Key'][j]:\n",
    "                        dataframe = dataframe.drop([j])\n",
    "                        dataframe = dataframe.reset_index(drop=True)\n",
    "                    else:\n",
    "                        break\n",
    "    return dataframe\n",
    "    \n",
    "def preprocess_shift(dataframe):\n",
    "    dataframe_bis = pd.DataFrame(columns=columns_bis)\n",
    "    for i in range(dataframe.index.start, dataframe.index.stop):\n",
    "        if is_shifted_key(dataframe, i):\n",
    "            tmp = pd.DataFrame([[dataframe['Timestamp'][i], dataframe['Key'][i], dataframe['Action'][i], 1]], columns = columns_bis)\n",
    "            dataframe_bis = dataframe_bis.append(tmp)\n",
    "        else:\n",
    "            tmp = pd.DataFrame([[dataframe['Timestamp'][i], dataframe['Key'][i], dataframe['Action'][i], 0]], columns = columns_bis)\n",
    "            dataframe_bis = dataframe_bis.append(tmp)\n",
    "    dataframe_bis = dataframe_bis.reset_index(drop=True)\n",
    "    dataframe = dataframe_bis\n",
    "    return dataframe\n"
   ]
  },
  {
   "cell_type": "markdown",
   "metadata": {},
   "source": [
    "We use the defined functions  to generate one **pre-processed** file per user for both train and test sets. The execution of the cell may take a few minutes."
   ]
  },
  {
   "cell_type": "code",
   "execution_count": 41,
   "metadata": {},
   "outputs": [
    {
     "name": "stdout",
     "output_type": "stream",
     "text": [
      "CREATING PRE-PROCESSED FILES FOR TRAINING DATA\n",
      "Successfully created preprocessed file:  andrieu.csv\n",
      "Successfully created preprocessed file:  benjamin.csv\n",
      "Successfully created preprocessed file:  hugo.csv\n",
      "Successfully created preprocessed file:  robin.csv\n",
      "Successfully created preprocessed file:  sylvain.csv\n",
      "Successfully created preprocessed file:  theotime.csv\n",
      "CREATING PRE-PROCESSED FILES FOR TESTING DATA\n",
      "Successfully created preprocessed file:  andrieu_1.csv\n",
      "Successfully created preprocessed file:  andrieu_2.csv\n",
      "Successfully created preprocessed file:  andrieu_3.csv\n",
      "Successfully created preprocessed file:  andrieu_4.csv\n",
      "Successfully created preprocessed file:  andrieu_5.csv\n",
      "Successfully created preprocessed file:  andrieu_6.csv\n",
      "Successfully created preprocessed file:  andrieu_7.csv\n",
      "Successfully created preprocessed file:  benjamin_1.csv\n",
      "Successfully created preprocessed file:  benjamin_2.csv\n",
      "Successfully created preprocessed file:  benjamin_3.csv\n",
      "Successfully created preprocessed file:  benjamin_4.csv\n",
      "Successfully created preprocessed file:  benjamin_5.csv\n",
      "Successfully created preprocessed file:  theotime_1.csv\n",
      "SUCCESSFULLY CREATED ALL PRE-PROCESSING FILES\n"
     ]
    }
   ],
   "source": [
    "training_user_list = os.listdir(INPUT_DATA_MERGED_FILEPATH)\n",
    "print(\"CREATING PRE-PROCESSED FILES FOR TRAINING DATA\")\n",
    "for user in range(len(training_user_list)):\n",
    "    dataframe = pd.read_csv(INPUT_DATA_MERGED_FILEPATH+training_user_list[user], sep=\"|\", names=columns, encoding = \"ISO-8859-1\")\n",
    "    dataframe = dataframe.reset_index(drop=True)\n",
    "    dataframe = dataframe.drop([0])\n",
    "    dataframe = dataframe.reset_index(drop=True)\n",
    "    dataframe = preprocess_holding(dataframe)\n",
    "    dataframe = preprocess_shift(dataframe)\n",
    "    dataframe['Timestamp'] = pd.to_datetime(dataframe['Timestamp'], format='%Y-%m-%d %H:%M:%S,%f')  \n",
    "    dataframe.to_csv(PREPROCESSED_DATA_FILEPATH+training_user_list[user], sep='|', encoding = \"ISO-8859-1\")     \n",
    "    print(\"Successfully created preprocessed file: \", training_user_list[user])\n",
    "\n",
    "unknown_user_list = os.listdir(INPUT_DATA_UNKNOWN_FILEPATH)\n",
    "print(\"CREATING PRE-PROCESSED FILES FOR TESTING DATA\")\n",
    "for user in range(len(unknown_user_list)):\n",
    "    dataframe = pd.read_csv(INPUT_DATA_UNKNOWN_FILEPATH+unknown_user_list[user], sep=\"|\", names=columns, encoding = \"ISO-8859-1\")\n",
    "    dataframe = dataframe.reset_index(drop=True)\n",
    "    dataframe = dataframe.drop([0])\n",
    "    dataframe = dataframe.reset_index(drop=True)\n",
    "    dataframe = preprocess_holding(dataframe)\n",
    "    dataframe = preprocess_shift(dataframe)\n",
    "    dataframe['Timestamp'] = pd.to_datetime(dataframe['Timestamp'], format='%Y-%m-%d %H:%M:%S,%f')  \n",
    "    dataframe.to_csv(PREPROCESSED_DATA_UNKNOWN_FILEPATH+unknown_user_list[user], sep='|', encoding = \"ISO-8859-1\")     \n",
    "    print(\"Successfully created preprocessed file: \", unknown_user_list[user])\n",
    "    \n",
    "print(\"SUCCESSFULLY CREATED ALL PRE-PROCESSING FILES\")"
   ]
  },
  {
   "cell_type": "markdown",
   "metadata": {},
   "source": [
    "To make sure that we have successfully created all the pre-processed files we needed, we can double-check and show the list of files we have in the concerned directories:"
   ]
  },
  {
   "cell_type": "code",
   "execution_count": 42,
   "metadata": {},
   "outputs": [
    {
     "name": "stdout",
     "output_type": "stream",
     "text": [
      "pre-processed training files data/training/preprocessed_data/ : ['andrieu', 'benjamin', 'hugo', 'robin', 'sylvain', 'theotime']\n",
      "pre-processed test files : ['andrieu_1', 'andrieu_2', 'andrieu_3', 'andrieu_4', 'andrieu_5', 'andrieu_6', 'andrieu_7', 'benjamin_1', 'benjamin_2', 'benjamin_3', 'benjamin_4', 'benjamin_5', 'theotime_1']\n"
     ]
    }
   ],
   "source": [
    "files = [os.path.splitext(filename)[0] for filename in listdir(PREPROCESSED_DATA_FILEPATH)]\n",
    "files_unknown = [os.path.splitext(filename)[0] for filename in listdir(PREPROCESSED_DATA_UNKNOWN_FILEPATH)]\n",
    "print(\"pre-processed training files\", PREPROCESSED_DATA_FILEPATH, \":\",files)\n",
    "print(\"pre-processed test files :\", files_unknown)"
   ]
  },
  {
   "cell_type": "markdown",
   "metadata": {},
   "source": [
    "### 4.3 - Creating references"
   ]
  },
  {
   "cell_type": "markdown",
   "metadata": {},
   "source": [
    "Finally, we need to pass from the preprocessed data structure we established in `4-2` to a statistical data structure.\n",
    "We decided to aggregate the data according to the following format :\n",
    "\n",
    "`{Key|Shift|HD_mean|HD_std|DL_mean|DL_std}`\n",
    "\n",
    ">*Hold Duration (HD) : Duration between press and release of the same key* <br>\n",
    "*Digraph latency (DL) : Flight time between two keystrokes*\n",
    "\n",
    "The reference file for one user will contain all the keys he pressed. They will be represented by a single tuple in this file."
   ]
  },
  {
   "cell_type": "markdown",
   "metadata": {},
   "source": [
    "First, we need to define a function to find the mapping from lower to uppercase characters. This mapping is done according to an  AZERTY layout."
   ]
  },
  {
   "cell_type": "code",
   "execution_count": 43,
   "metadata": {},
   "outputs": [],
   "source": [
    "lower_alphabet = list(string.ascii_lowercase)\n",
    "upper_alphabet = list(string.ascii_uppercase)\n",
    "\n",
    "# key : lowercase character\n",
    "# value : uppercase character\n",
    "mapping = {}\n",
    "for i in range(len(lower_alphabet)):\n",
    "    mapping[lower_alphabet[i]] = upper_alphabet[i]\n",
    "\n",
    "mapping[','] = '?'\n",
    "mapping[';'] = '.'\n",
    "mapping[':'] = '/'\n",
    "mapping['!'] = '§'\n",
    "mapping['^'] = '¨'\n",
    "mapping['&'] = '1'\n",
    "mapping['é'] = '2'\n",
    "mapping['\"'] = '3'\n",
    "mapping['\\''] = '4'\n",
    "mapping['('] = '5'\n",
    "mapping['-'] = '6'\n",
    "mapping['è'] = '7'\n",
    "mapping['_'] = '8'\n",
    "mapping['ç'] = '9'\n",
    "mapping['à'] = '0'\n",
    "mapping[')'] = '°'\n",
    "mapping['='] = '+'\n",
    "mapping['ù'] = '%'\n",
    "mapping['$'] = '£'\n",
    "\n",
    "# return the key attached to the value given as parameter\n",
    "def get_key(val):\n",
    "  for key, value in mapping.items():\n",
    "         if val == value:\n",
    "             return key\n"
   ]
  },
  {
   "cell_type": "markdown",
   "metadata": {},
   "source": [
    "Then, we need to define a few methods to compute the statistics we are looking for: mean and standard deviation for hold duration and dwell time metrics.\n",
    "\n",
    "We split the process of computing the metrics and the generation of the reference file into two functions:\n",
    "- `metrics_computation()` : Compute dwell time and hold duration using helper functions\n",
    "- `compute_reference()` : Compute mean and standard deviation for these metrics\n",
    "\n",
    "We defined a few helper functions:\n",
    "- `search for press()` : find the index of a key that is in the `pressed` state in a given dataframe\n",
    "- `search for release()` : find the index of a key that is in the `released` state given a press index\n",
    "- `search_for_following_key()` : find the dataframe index of the next key\n",
    "- `contains()` : Checks if a given key is in a dataframe or not"
   ]
  },
  {
   "cell_type": "code",
   "execution_count": 44,
   "metadata": {
    "scrolled": true
   },
   "outputs": [],
   "source": [
    "columns_nd = ['Key1', 'Key2', 'HD', 'HTD', 'CDT', 'DL', 'Shift']\n",
    "columns_ref = [\"Key\", \"Shift\", \"HD_mean\", \"HD_std\", \"DL_mean\", \"DL_std\"]\n",
    "\n",
    "df = pd.DataFrame(columns = columns_nd)\n",
    "df_bis = pd.DataFrame(columns = columns_nd)\n",
    "\n",
    "def search_for_press(df):\n",
    "    for i in range(df.index.start, df.index.stop):\n",
    "        if df['Action'][i] == 'press':\n",
    "            return i\n",
    "\n",
    "def search_for_release(df, press_index):\n",
    "    lower = df['Key'][press_index]\n",
    "    upper = df['Key'][press_index]\n",
    "    if df['Key'][press_index] != \"'\" and df['Key'][press_index].startswith('Key.') == False:\n",
    "        val = df['Key'][press_index][1:-1]\n",
    "        if val in mapping.keys():\n",
    "            upper = mapping[val]\n",
    "        if val in mapping.values():\n",
    "            lower = get_key(val)\n",
    "    upper = \"'\"+upper+\"'\"\n",
    "    lower = \"'\"+lower+\"'\"\n",
    "    for i in range (press_index, df.index.stop):\n",
    "        if (df['Key'][i] == df['Key'][press_index] or df['Key'][i].lower() == df['Key'][press_index].lower() or df['Key'][i] == lower or df['Key'][i] == upper) and df['Action'][i] == 'release':\n",
    "            return i\n",
    "        \n",
    "def search_for_following_key(df, key_index):\n",
    "    for i in range(key_index, df.index.stop):\n",
    "        if df['Key'][i] != df['Key'][key_index] and df['Action'][i] == 'press':\n",
    "            return i\n",
    "        \n",
    "def contains(dataframe, elem):\n",
    "    for i in dataframe.index:\n",
    "        if elem == dataframe['Key'][i]:\n",
    "            return True"
   ]
  },
  {
   "cell_type": "code",
   "execution_count": 45,
   "metadata": {},
   "outputs": [],
   "source": [
    "def metrics_computation(dataframe):\n",
    "    df = pd.DataFrame(columns = columns_nd)                  \n",
    "    while dataframe.empty == False:\n",
    "        end = False\n",
    "        if dataframe['Action'][0] == 'release':\n",
    "            dataframe = dataframe.drop([0])\n",
    "            dataframe = dataframe.reset_index(drop=True)\n",
    "\n",
    "        press_index = search_for_press(dataframe)\n",
    "        release_index = search_for_release(dataframe, press_index)\n",
    "        \n",
    "        if dataframe.index.stop-dataframe.index.start <= 2:\n",
    "            end = True\n",
    "        if end == False:\n",
    "            following_key_press_index = search_for_following_key(dataframe, press_index)\n",
    "            following_key_release_index = search_for_release(dataframe, following_key_press_index)\n",
    "            if following_key_release_index == None:\n",
    "                dataframe = dataframe.drop([following_key_press_index])\n",
    "                dataframe = dataframe.reset_index(drop=True)\n",
    "                continue\n",
    "            Key1 = dataframe['Key'][press_index]\n",
    "            Key2 = dataframe['Key'][following_key_press_index]\n",
    "\n",
    "            HD = dataframe['Timestamp'][release_index] - dataframe['Timestamp'][press_index]\n",
    "            HD = HD.total_seconds()\n",
    "            HTD = dataframe['Timestamp'][following_key_release_index] - dataframe['Timestamp'][following_key_press_index]\n",
    "            HTD = HTD.total_seconds()\n",
    "            CDT = HD + HTD\n",
    "            DL = dataframe['Timestamp'][following_key_press_index] - dataframe['Timestamp'][release_index]\n",
    "            DL = DL.total_seconds()\n",
    "            shift = dataframe['Shift'][press_index]\n",
    "            \"\"\"for y in range(len(last_elements[user])):\n",
    "                if last_elements[user][y] == dataframe['Timestamp'][press_index] or last_elements[user][y] == dataframe['Timestamp'][release_index]:                    \n",
    "                    tmp = pd.DataFrame([[Key1, Key2, HD, HTD, CDT, None, shift]], columns = columns_nd)\n",
    "                    break\n",
    "                else:\n",
    "                    tmp = pd.DataFrame([[Key1, Key2, HD, HTD, CDT, DL, shift]], columns = columns_nd)\"\"\"\n",
    "            tmp = pd.DataFrame([[Key1, Key2, HD, HTD, CDT, DL, shift]], columns = columns_nd)\n",
    "            dataframe = dataframe.drop([press_index, release_index])\n",
    "            dataframe = dataframe.reset_index(drop=True)\n",
    "            \n",
    "            df = df.append(tmp)\n",
    "        else:\n",
    "            Key1 = dataframe['Key'][press_index]\n",
    "            HD = dataframe['Timestamp'][release_index] - dataframe['Timestamp'][press_index]\n",
    "            HD = HD.total_seconds()\n",
    "            HTD = None\n",
    "            CDT = None\n",
    "            DL = None\n",
    "            shift = dataframe['Shift'][press_index]\n",
    "            dataframe = dataframe.drop([press_index, release_index])\n",
    "            tmp = pd.DataFrame([[Key1, None, HD, HTD, CDT, DL, shift]], columns = columns_nd)\n",
    "            df = df.append(tmp)\n",
    "    df = df.reset_index(drop=True)\n",
    "    return df\n",
    "\n",
    "\n",
    "\n",
    "def compute_reference(dataframe):\n",
    "    df_ref = pd.DataFrame(columns = columns_ref)\n",
    "    for i in dataframe.index:\n",
    "        var = dataframe['Key1'][i]\n",
    "        if contains(df_ref, var):\n",
    "            continue\n",
    "        hold_durations = []\n",
    "        flight_durations = []\n",
    "        hold_durations = np.append(hold_durations, dataframe['HD'][i])\n",
    "        if dataframe['DL'][i] != None:\n",
    "                        flight_durations = np.append(flight_durations, dataframe['DL'][i])\n",
    "        for j in range(i+1, dataframe.index.stop):\n",
    "            if dataframe['Key1'][i] == dataframe['Key1'][j] and dataframe['Shift'][j] == dataframe['Shift'][i]:\n",
    "                    hold_durations = np.append(hold_durations, dataframe['HD'][j])\n",
    "                    if dataframe['DL'][j] != None:\n",
    "                        flight_durations = np.append(flight_durations, dataframe['DL'][j])\n",
    "        mean_HD = np.mean(hold_durations)\n",
    "        std_HD = np.std(hold_durations)\n",
    "        mean_DL = np.mean(flight_durations)\n",
    "        std_DL = np.std(flight_durations)\n",
    "        result = pd.DataFrame([[dataframe['Key1'][i], dataframe['Shift'][i], mean_HD, std_HD, mean_DL, std_DL]], columns = columns_ref)\n",
    "        df_ref = df_ref.append(result)    \n",
    "        df_ref = df_ref.reset_index(drop=True)\n",
    "                \n",
    "    \n",
    "    return df_ref "
   ]
  },
  {
   "cell_type": "markdown",
   "metadata": {},
   "source": [
    "We'll use functions we've defined in the previous cells, to generate one **reference** file per user, for both training and test dataset. This might take a while."
   ]
  },
  {
   "cell_type": "code",
   "execution_count": 46,
   "metadata": {},
   "outputs": [
    {
     "name": "stdout",
     "output_type": "stream",
     "text": [
      "CREATING REFERENCE FILES FOR TRAINING DATA\n",
      "Successfully created reference file:  andrieu.csv\n",
      "Successfully created reference file:  benjamin.csv\n",
      "Successfully created reference file:  hugo.csv\n",
      "Successfully created reference file:  robin.csv\n",
      "Successfully created reference file:  sylvain.csv\n",
      "Successfully created reference file:  theotime.csv\n",
      "CREATING REFERENCE FILES FOR TESTING DATA\n",
      "Successfully created reference file:  andrieu_1.csv\n",
      "Successfully created reference file:  andrieu_2.csv\n",
      "Successfully created reference file:  andrieu_3.csv\n",
      "Successfully created reference file:  andrieu_4.csv\n",
      "Successfully created reference file:  andrieu_5.csv\n",
      "Successfully created reference file:  andrieu_6.csv\n",
      "Successfully created reference file:  andrieu_7.csv\n",
      "Successfully created reference file:  benjamin_1.csv\n",
      "Successfully created reference file:  benjamin_2.csv\n"
     ]
    },
    {
     "name": "stderr",
     "output_type": "stream",
     "text": [
      "C:\\Users\\hugod\\anaconda3\\lib\\site-packages\\numpy\\core\\fromnumeric.py:3372: RuntimeWarning:\n",
      "\n",
      "Mean of empty slice.\n",
      "\n",
      "C:\\Users\\hugod\\anaconda3\\lib\\site-packages\\numpy\\core\\_methods.py:170: RuntimeWarning:\n",
      "\n",
      "invalid value encountered in double_scalars\n",
      "\n",
      "C:\\Users\\hugod\\anaconda3\\lib\\site-packages\\numpy\\core\\_methods.py:233: RuntimeWarning:\n",
      "\n",
      "Degrees of freedom <= 0 for slice\n",
      "\n",
      "C:\\Users\\hugod\\anaconda3\\lib\\site-packages\\numpy\\core\\_methods.py:194: RuntimeWarning:\n",
      "\n",
      "invalid value encountered in true_divide\n",
      "\n",
      "C:\\Users\\hugod\\anaconda3\\lib\\site-packages\\numpy\\core\\_methods.py:226: RuntimeWarning:\n",
      "\n",
      "invalid value encountered in double_scalars\n",
      "\n"
     ]
    },
    {
     "name": "stdout",
     "output_type": "stream",
     "text": [
      "Successfully created reference file:  benjamin_3.csv\n",
      "Successfully created reference file:  benjamin_4.csv\n",
      "Successfully created reference file:  benjamin_5.csv\n",
      "Successfully created reference file:  theotime_1.csv\n",
      "SUCCESSFULLY CREATED ALL REFERENCE FILES\n"
     ]
    }
   ],
   "source": [
    "training_user_list = os.listdir(PREPROCESSED_DATA_FILEPATH)\n",
    "print(\"CREATING REFERENCE FILES FOR TRAINING DATA\")\n",
    "for user in range(len(training_user_list)):\n",
    "    dataframe = pd.read_csv(PREPROCESSED_DATA_FILEPATH+training_user_list[user], sep=\"|\", names=columns_bis, encoding = \"ISO-8859-1\")\n",
    "    dataframe = dataframe.reset_index(drop=True)\n",
    "    dataframe = dataframe.drop([0])\n",
    "    dataframe = dataframe.reset_index(drop=True)\n",
    "    dataframe['Timestamp'] = pd.to_datetime(dataframe['Timestamp'], format='%Y-%m-%d %H:%M:%S.%f')   \n",
    "    df_bis = metrics_computation(dataframe)\n",
    "    df_ref = compute_reference(df_bis)\n",
    "    df_ref = df_ref.reset_index(drop=True)\n",
    "    df_ref.to_csv(REFERENCE_FILEPATH+training_user_list[user], sep='|', encoding = \"ISO-8859-1\")     \n",
    "    print(\"Successfully created reference file: \", training_user_list[user])\n",
    "    \n",
    "unknown_user_list = os.listdir(PREPROCESSED_DATA_UNKNOWN_FILEPATH)\n",
    "print(\"CREATING REFERENCE FILES FOR TESTING DATA\")\n",
    "for user in range(len(unknown_user_list)):\n",
    "    dataframe = pd.read_csv(PREPROCESSED_DATA_UNKNOWN_FILEPATH+unknown_user_list[user], sep=\"|\", names=columns_bis, encoding = \"ISO-8859-1\")\n",
    "    dataframe = dataframe.reset_index(drop=True)\n",
    "    dataframe = dataframe.drop([0])\n",
    "    dataframe = dataframe.reset_index(drop=True)\n",
    "    dataframe['Timestamp'] = pd.to_datetime(dataframe['Timestamp'], format='%Y-%m-%d %H:%M:%S.%f')   \n",
    "    df_bis = metrics_computation(dataframe)\n",
    "    df_ref = compute_reference(df_bis)\n",
    "    df_ref = df_ref.reset_index(drop=True)\n",
    "    df_ref.to_csv(REFERENCE_UNKNOWN_FILEPATH+unknown_user_list[user], sep='|', encoding = \"ISO-8859-1\")     \n",
    "    print(\"Successfully created reference file: \", unknown_user_list[user])\n",
    "    \n",
    "print(\"SUCCESSFULLY CREATED ALL REFERENCE FILES\")"
   ]
  },
  {
   "cell_type": "markdown",
   "metadata": {},
   "source": [
    "Similarly, to make sure that we have successfully created all the required reference files we needed, we can double-check and show the list of files we have in the concerned directories:"
   ]
  },
  {
   "cell_type": "code",
   "execution_count": 47,
   "metadata": {},
   "outputs": [
    {
     "name": "stdout",
     "output_type": "stream",
     "text": [
      "reference training files : ['andrieu', 'benjamin', 'hugo', 'robin', 'sylvain', 'theotime']\n",
      "reference test files : ['andrieu_1', 'andrieu_2', 'andrieu_3', 'andrieu_4', 'andrieu_5', 'andrieu_6', 'andrieu_7', 'benjamin_1', 'benjamin_2', 'benjamin_3', 'benjamin_4', 'benjamin_5', 'theotime_1']\n"
     ]
    }
   ],
   "source": [
    "files = [os.path.splitext(filename)[0] for filename in listdir(REFERENCE_FILEPATH)]\n",
    "files_unknown = [os.path.splitext(filename)[0] for filename in listdir(REFERENCE_UNKNOWN_FILEPATH)]\n",
    "print(\"reference training files :\",files)\n",
    "print(\"reference test files :\", files_unknown)"
   ]
  },
  {
   "cell_type": "markdown",
   "metadata": {},
   "source": [
    "<a name='5'></a>\n",
    "## 5 - Data Visualisation"
   ]
  },
  {
   "cell_type": "markdown",
   "metadata": {},
   "source": [
    "#### We decided to visualize the hold duration and compare them for different users.\n",
    "\n",
    "`listAlphabet()` and `getPosa()` are two utils functions that returns lowercase 'a' to 'z' char array, and respectively returns the position index of the 'a' key in a dataframe.\n",
    "\n",
    "In the following cell we can also find two similar functions that draw charts:\n",
    "- `visualize()` : takes one parameter which is the name of the user you want to visualize hold duration of the characters returned by `listAlphabet()`\n",
    "\n",
    "- `hold-comparison()` : takes one parameter which is an array containing the names of the users you want to visualize and compare hold duration"
   ]
  },
  {
   "cell_type": "code",
   "execution_count": 48,
   "metadata": {},
   "outputs": [
    {
     "data": {
      "image/png": "[encoded data removed]",
      "text/plain": [
       "<Figure size 432x288 with 1 Axes>"
      ]
     },
     "metadata": {
      "needs_background": "light"
     },
     "output_type": "display_data"
    },
    {
     "data": {
      "image/png": "[encoded data removed]",
      "text/plain": [
       "<Figure size 1332x756 with 1 Axes>"
      ]
     },
     "metadata": {
      "needs_background": "light"
     },
     "output_type": "display_data"
    }
   ],
   "source": [
    "def listAlphabet():\n",
    "  return list(string.ascii_lowercase)\n",
    "\n",
    "\n",
    "def getPosa(dataframe):\n",
    "  for i in dataframe.index:\n",
    "    if dataframe.loc[i, 'Key'] == \"\\'a\\'\":\n",
    "      return i\n",
    "    \n",
    "    \n",
    "\n",
    "def visualize_hd(user):\n",
    "    user_ref = pd.read_csv(REFERENCE_FILEPATH+user+\".csv\", sep=\"|\", names=columns_ref, encoding = \"ISO-8859-1\")\n",
    "    user_ref = user_ref.reset_index(drop=True)\n",
    "    user_ref = user_ref.drop([0])\n",
    "    user_ref = user_ref.reset_index(drop=True)\n",
    "    user_ref = user_ref.sort_values(\"Key\")\n",
    "\n",
    "    \n",
    "    user_ref = user_ref.reset_index(drop=True)\n",
    "    user_ref[\"HD_mean\"] = pd.to_numeric(user_ref[\"HD_mean\"], downcast=\"float\")\n",
    "    \n",
    "    a = getPosa(user_ref)\n",
    "    \n",
    "    labels = user_ref.iloc[a:a+26, 0]\n",
    "    values = user_ref.iloc[a:a+26, 2]\n",
    "    fig, ax = plt.subplots()\n",
    "    rect = ax.bar(labels, values)\n",
    "    \n",
    "    # Add some text for labels, title and custom x-axis tick labels, etc.\n",
    "    ax.set_ylabel('Hold duration')\n",
    "    ax.set_title('Hold duration for '+ user)\n",
    "\n",
    "def hold_comparison(usernames):\n",
    "    user_refs = []\n",
    "    users_values = []\n",
    "    rects = []\n",
    "    \n",
    "    for username in usernames:\n",
    "        user_ref = pd.read_csv(REFERENCE_FILEPATH+username+\".csv\", sep=\"|\", names=columns_ref, encoding = \"ISO-8859-1\")\n",
    "        user_ref = user_ref.reset_index(drop=True)\n",
    "        user_ref = user_ref.drop([0])\n",
    "        user_ref = user_ref.reset_index(drop=True)\n",
    "        user_ref = user_ref.sort_values(\"Key\")\n",
    "    \n",
    "    \n",
    "        user_ref = user_ref.reset_index(drop=True)\n",
    "        user_ref[\"HD_mean\"] = pd.to_numeric(user_ref[\"HD_mean\"], downcast=\"float\")\n",
    "        user_refs.append(user_ref)\n",
    "        users_values.append(user_ref.iloc[getPosa(user_ref):getPosa(user_ref)+26, 2])\n",
    "\n",
    "    fig, ax = plt.subplots()\n",
    "    labels = user_refs[0].iloc[getPosa(user_refs[0]):getPosa(user_refs[0])+26, 0]\n",
    "    width = 1/(len(usernames)+2)  # the width of the bars\n",
    "    x = np.arange(len(labels)) - len(username)\n",
    "    for i, values in enumerate(users_values):\n",
    "        rects.append(ax.bar(x + i*width, users_values[i], width, label=usernames[i]))\n",
    "    \n",
    "    fig.set_size_inches(18.5, 10.5)\n",
    "\n",
    "    # Add some text for labels, title and custom x-axis tick labels, etc.\n",
    "    ax.set_ylabel('Hold duration')\n",
    "    ax.set_title('Hold duration comparison')\n",
    "    ax.set_xticks(x)\n",
    "    ax.set_xticklabels(labels)\n",
    "    ax.legend()\n",
    "\n",
    "    \n",
    "\n",
    "    fig.tight_layout()\n",
    "    plt.show()\n",
    "    \n",
    "\n",
    "visualize_hd('hugo')\n",
    "hold_comparison(['benjamin', 'andrieu', 'hugo', 'theotime'])"
   ]
  },
  {
   "cell_type": "markdown",
   "metadata": {},
   "source": [
    "We can notice that users can be globaly more or less insistant on keys. Keyboard layout may have an influence on it. For example, if you type on a foreign layed out keyboard, you might hold the key longer.\n",
    "\n",
    "We can visualize the exact same way the diagraph latency but it's a lot less meaningful "
   ]
  },
  {
   "cell_type": "code",
   "execution_count": 49,
   "metadata": {},
   "outputs": [
    {
     "data": {
      "image/png": "[encoded data removed]",
      "text/plain": [
       "<Figure size 432x288 with 1 Axes>"
      ]
     },
     "metadata": {
      "needs_background": "light"
     },
     "output_type": "display_data"
    },
    {
     "data": {
      "image/png": "[encoded data removed]",
      "text/plain": [
       "<Figure size 1332x756 with 1 Axes>"
      ]
     },
     "metadata": {
      "needs_background": "light"
     },
     "output_type": "display_data"
    }
   ],
   "source": [
    "def visualize_dl(user):\n",
    "    user_ref = pd.read_csv(REFERENCE_FILEPATH+user+\".csv\", sep=\"|\", names=columns_ref, encoding = \"ISO-8859-1\")\n",
    "    user_ref = user_ref.reset_index(drop=True)\n",
    "    user_ref = user_ref.drop([0])\n",
    "    user_ref = user_ref.reset_index(drop=True)\n",
    "    user_ref = user_ref.sort_values(\"Key\")\n",
    "\n",
    "    \n",
    "    user_ref = user_ref.reset_index(drop=True)\n",
    "    user_ref[\"DL_mean\"] = pd.to_numeric(user_ref[\"DL_mean\"], downcast=\"float\")\n",
    "    \n",
    "    a = getPosa(user_ref)\n",
    "    \n",
    "    labels = user_ref.iloc[a:a+26, 0]\n",
    "    values = user_ref.iloc[a:a+26, 4]\n",
    "    fig, ax = plt.subplots()\n",
    "    rect = ax.bar(labels, values)\n",
    "    \n",
    "    # Add some text for labels, title and custom x-axis tick labels, etc.\n",
    "    ax.set_ylabel('Digraph latency')\n",
    "    ax.set_title('Digraph latency '+ user)\n",
    "\n",
    "def dl_comparison(usernames):\n",
    "    user_refs = []\n",
    "    users_values = []\n",
    "    rects = []\n",
    "    \n",
    "    for username in usernames:\n",
    "        user_ref = pd.read_csv(REFERENCE_FILEPATH+username+\".csv\", sep=\"|\", names=columns_ref, encoding = \"ISO-8859-1\")\n",
    "        user_ref = user_ref.reset_index(drop=True)\n",
    "        user_ref = user_ref.drop([0])\n",
    "        user_ref = user_ref.reset_index(drop=True)\n",
    "        user_ref = user_ref.sort_values(\"Key\")\n",
    "    \n",
    "    \n",
    "        user_ref = user_ref.reset_index(drop=True)\n",
    "        user_ref[\"DL_mean\"] = pd.to_numeric(user_ref[\"DL_mean\"], downcast=\"float\")\n",
    "        user_refs.append(user_ref)\n",
    "        users_values.append(user_ref.iloc[getPosa(user_ref):getPosa(user_ref)+26, 4])\n",
    "\n",
    "    fig, ax = plt.subplots()\n",
    "    labels = user_refs[0].iloc[getPosa(user_refs[0]):getPosa(user_refs[0])+26, 0]\n",
    "    width = 1/(len(usernames)+2)  # the width of the bars\n",
    "    x = np.arange(len(labels)) - len(username)\n",
    "    for i, values in enumerate(users_values):\n",
    "        rects.append(ax.bar(x + i*width, users_values[i], width, label=usernames[i]))\n",
    "    \n",
    "    fig.set_size_inches(18.5, 10.5)\n",
    "\n",
    "    # Add some text for labels, title and custom x-axis tick labels, etc.\n",
    "    ax.set_ylabel('Digraph latency')\n",
    "    ax.set_title('Digraph latency comparison')\n",
    "    ax.set_xticks(x)\n",
    "    ax.set_xticklabels(labels)\n",
    "    ax.legend()\n",
    "\n",
    "    \n",
    "\n",
    "    fig.tight_layout()\n",
    "    plt.show()\n",
    "    \n",
    "\n",
    "visualize_dl('benjamin')\n",
    "dl_comparison(['benjamin', 'andrieu', 'sylvain', 'hugo'])"
   ]
  },
  {
   "cell_type": "markdown",
   "metadata": {},
   "source": [
    "Another way to visualize and compare the hold duration is to draw a polygon. It is clearer than the bar plot when we want to compare many users.\n",
    "\n",
    "`performance_polygon()` draws the polygon according to criterias (here its the 'a' to 'z' char array) for different users.\n",
    "\n",
    "The polygon might not get printed on github. You can find the a screenshot in the 'data_visualisation_images' folder."
   ]
  },
  {
   "cell_type": "code",
   "execution_count": 51,
   "metadata": {},
   "outputs": [
    {
     "data": {
      "application/vnd.plotly.v1+json": {
       "config": {
        "plotlyServerURL": "https://plot.ly"
       },
       "data": [
        {
         "name": "hugo",
         "r": [
          0.07500000298023224,
          0.09722413867712021,
          0.10993103682994843,
          0.1048484817147255,
          0.11389230936765671,
          0.09116509556770325,
          0.09193333238363266,
          0.10142423957586288,
          0.09600000083446503,
          0.07823899388313293,
          0.07304999977350235,
          0.09046153724193573,
          0.09398794919252396,
          0.09284210205078125,
          0.10204301029443741,
          0.09131325036287308,
          0.10064516216516495,
          0.09067391604185104,
          0.09387179464101791,
          0.08948936313390732,
          0.0860961526632309,
          0.09048733860254288,
          0.10262162238359451,
          0.10275000333786011,
          0.10566666722297668,
          0.0760200023651123
         ],
         "theta": [
          "a",
          "b",
          "c",
          "d",
          "e",
          "f",
          "g",
          "h",
          "i",
          "j",
          "k",
          "l",
          "m",
          "n",
          "o",
          "p",
          "q",
          "r",
          "s",
          "t",
          "u",
          "v",
          "w",
          "x",
          "y",
          "z"
         ],
         "type": "scatterpolar"
        },
        {
         "name": "benjamin",
         "r": [
          0.0838688537478447,
          0.0828615352511406,
          0.08221875131130219,
          0.07271874696016312,
          0.07666666805744171,
          0.08619999885559082,
          0.09213333576917648,
          0.08270370215177536,
          0.07801204919815063,
          0.0774102583527565,
          0.08272727578878403,
          0.07928571105003357,
          0.08187499642372131,
          0.08438095450401306,
          0.08255696296691895,
          0.09377647191286087,
          0.08130434900522232,
          0.08488194644451141,
          0.07867741584777832,
          0.10140909254550934,
          0.09483999758958817,
          0.08004877716302872,
          0.09756097197532654,
          0.09459999948740005,
          0.09864000231027603,
          0.07610714435577393
         ],
         "theta": [
          "a",
          "b",
          "c",
          "d",
          "e",
          "f",
          "g",
          "h",
          "i",
          "j",
          "k",
          "l",
          "m",
          "n",
          "o",
          "p",
          "q",
          "r",
          "s",
          "t",
          "u",
          "v",
          "w",
          "x",
          "y",
          "z"
         ],
         "type": "scatterpolar"
        },
        {
         "name": "theotime",
         "r": [
          0.10000000149011612,
          0.11400000005960464,
          0.09306667000055313,
          0.11500000208616257,
          0.12125714123249054,
          0.11400876939296722,
          0.1097777783870697,
          0.11031579226255417,
          0.09958333522081375,
          0.10467073321342468,
          0.09933333098888397,
          0.09173333644866943,
          0.0982000008225441,
          0.09271428734064102,
          0.10594339668750763,
          0.09815555810928345,
          0.10480000078678131,
          0.11347825825214386,
          0.12291111052036285,
          0.10906250029802322,
          0.11151999980211258,
          0.10291463136672974,
          0.10827777534723282,
          0.11416666954755783,
          0.10321428626775742,
          0.0899166688323021
         ],
         "theta": [
          "a",
          "b",
          "c",
          "d",
          "e",
          "f",
          "g",
          "h",
          "i",
          "j",
          "k",
          "l",
          "m",
          "n",
          "o",
          "p",
          "q",
          "r",
          "s",
          "t",
          "u",
          "v",
          "w",
          "x",
          "y",
          "z"
         ],
         "type": "scatterpolar"
        },
        {
         "name": "andrieu",
         "r": [
          0.07057671993970871,
          0.06603226065635681,
          0.06893548369407654,
          0.07000000029802322,
          0.07065753638744354,
          0.06353333592414856,
          0.07240000367164612,
          0.07691358029842377,
          0.07488889247179031,
          0.07381395250558853,
          0.07285526394844055,
          0.07716666907072067,
          0.08033332973718643,
          0.06938961148262024,
          0.06967441737651825,
          0.06470731645822525,
          0.07107692211866379,
          0.06670967489480972,
          0.06340909004211426,
          0.06937037408351898,
          0.06393478065729141,
          0.06217073276638985,
          0.07440000027418137,
          0.06576000154018402,
          0.07219403237104416,
          0.043068964034318924
         ],
         "theta": [
          "a",
          "b",
          "c",
          "d",
          "e",
          "f",
          "g",
          "h",
          "i",
          "j",
          "k",
          "l",
          "m",
          "n",
          "o",
          "p",
          "q",
          "r",
          "s",
          "t",
          "u",
          "v",
          "w",
          "x",
          "y",
          "z"
         ],
         "type": "scatterpolar"
        },
        {
         "name": "sylvain",
         "r": [
          0.08932307362556458,
          0.08153333514928818,
          0.08183333277702332,
          0.09383333474397659,
          0.09563716500997543,
          0.07711111009120941,
          0.0771578922867775,
          0.06758332997560501,
          0.06926744431257248,
          0.06666667014360428,
          0.06656250357627869,
          0.06804166734218597,
          0.06847619265317917,
          0.0663333311676979,
          0.06624490022659302,
          0.0722000002861023,
          0.07468000054359436,
          0.09047916531562805,
          0.09008333086967468,
          0.07745833694934845,
          0.06808139383792877,
          0.08384999632835388,
          0.08223076909780502,
          0.07835294306278229,
          0.06929166615009308,
          0.08566666394472122
         ],
         "theta": [
          "a",
          "b",
          "c",
          "d",
          "e",
          "f",
          "g",
          "h",
          "i",
          "j",
          "k",
          "l",
          "m",
          "n",
          "o",
          "p",
          "q",
          "r",
          "s",
          "t",
          "u",
          "v",
          "w",
          "x",
          "y",
          "z"
         ],
         "type": "scatterpolar"
        }
       ],
       "layout": {
        "font": {
         "color": "#7f7f7f",
         "family": "Courier New, monospace",
         "size": 18
        },
        "template": {
         "data": {
          "bar": [
           {
            "error_x": {
             "color": "#2a3f5f"
            },
            "error_y": {
             "color": "#2a3f5f"
            },
            "marker": {
             "line": {
              "color": "#E5ECF6",
              "width": 0.5
             },
             "pattern": {
              "fillmode": "overlay",
              "size": 10,
              "solidity": 0.2
             }
            },
            "type": "bar"
           }
          ],
          "barpolar": [
           {
            "marker": {
             "line": {
              "color": "#E5ECF6",
              "width": 0.5
             },
             "pattern": {
              "fillmode": "overlay",
              "size": 10,
              "solidity": 0.2
             }
            },
            "type": "barpolar"
           }
          ],
          "carpet": [
           {
            "aaxis": {
             "endlinecolor": "#2a3f5f",
             "gridcolor": "white",
             "linecolor": "white",
             "minorgridcolor": "white",
             "startlinecolor": "#2a3f5f"
            },
            "baxis": {
             "endlinecolor": "#2a3f5f",
             "gridcolor": "white",
             "linecolor": "white",
             "minorgridcolor": "white",
             "startlinecolor": "#2a3f5f"
            },
            "type": "carpet"
           }
          ],
          "choropleth": [
           {
            "colorbar": {
             "outlinewidth": 0,
             "ticks": ""
            },
            "type": "choropleth"
           }
          ],
          "contour": [
           {
            "colorbar": {
             "outlinewidth": 0,
             "ticks": ""
            },
            "colorscale": [
             [
              0,
              "#0d0887"
             ],
             [
              0.1111111111111111,
              "#46039f"
             ],
             [
              0.2222222222222222,
              "#7201a8"
             ],
             [
              0.3333333333333333,
              "#9c179e"
             ],
             [
              0.4444444444444444,
              "#bd3786"
             ],
             [
              0.5555555555555556,
              "#d8576b"
             ],
             [
              0.6666666666666666,
              "#ed7953"
             ],
             [
              0.7777777777777778,
              "#fb9f3a"
             ],
             [
              0.8888888888888888,
              "#fdca26"
             ],
             [
              1,
              "#f0f921"
             ]
            ],
            "type": "contour"
           }
          ],
          "contourcarpet": [
           {
            "colorbar": {
             "outlinewidth": 0,
             "ticks": ""
            },
            "type": "contourcarpet"
           }
          ],
          "heatmap": [
           {
            "colorbar": {
             "outlinewidth": 0,
             "ticks": ""
            },
            "colorscale": [
             [
              0,
              "#0d0887"
             ],
             [
              0.1111111111111111,
              "#46039f"
             ],
             [
              0.2222222222222222,
              "#7201a8"
             ],
             [
              0.3333333333333333,
              "#9c179e"
             ],
             [
              0.4444444444444444,
              "#bd3786"
             ],
             [
              0.5555555555555556,
              "#d8576b"
             ],
             [
              0.6666666666666666,
              "#ed7953"
             ],
             [
              0.7777777777777778,
              "#fb9f3a"
             ],
             [
              0.8888888888888888,
              "#fdca26"
             ],
             [
              1,
              "#f0f921"
             ]
            ],
            "type": "heatmap"
           }
          ],
          "heatmapgl": [
           {
            "colorbar": {
             "outlinewidth": 0,
             "ticks": ""
            },
            "colorscale": [
             [
              0,
              "#0d0887"
             ],
             [
              0.1111111111111111,
              "#46039f"
             ],
             [
              0.2222222222222222,
              "#7201a8"
             ],
             [
              0.3333333333333333,
              "#9c179e"
             ],
             [
              0.4444444444444444,
              "#bd3786"
             ],
             [
              0.5555555555555556,
              "#d8576b"
             ],
             [
              0.6666666666666666,
              "#ed7953"
             ],
             [
              0.7777777777777778,
              "#fb9f3a"
             ],
             [
              0.8888888888888888,
              "#fdca26"
             ],
             [
              1,
              "#f0f921"
             ]
            ],
            "type": "heatmapgl"
           }
          ],
          "histogram": [
           {
            "marker": {
             "pattern": {
              "fillmode": "overlay",
              "size": 10,
              "solidity": 0.2
             }
            },
            "type": "histogram"
           }
          ],
          "histogram2d": [
           {
            "colorbar": {
             "outlinewidth": 0,
             "ticks": ""
            },
            "colorscale": [
             [
              0,
              "#0d0887"
             ],
             [
              0.1111111111111111,
              "#46039f"
             ],
             [
              0.2222222222222222,
              "#7201a8"
             ],
             [
              0.3333333333333333,
              "#9c179e"
             ],
             [
              0.4444444444444444,
              "#bd3786"
             ],
             [
              0.5555555555555556,
              "#d8576b"
             ],
             [
              0.6666666666666666,
              "#ed7953"
             ],
             [
              0.7777777777777778,
              "#fb9f3a"
             ],
             [
              0.8888888888888888,
              "#fdca26"
             ],
             [
              1,
              "#f0f921"
             ]
            ],
            "type": "histogram2d"
           }
          ],
          "histogram2dcontour": [
           {
            "colorbar": {
             "outlinewidth": 0,
             "ticks": ""
            },
            "colorscale": [
             [
              0,
              "#0d0887"
             ],
             [
              0.1111111111111111,
              "#46039f"
             ],
             [
              0.2222222222222222,
              "#7201a8"
             ],
             [
              0.3333333333333333,
              "#9c179e"
             ],
             [
              0.4444444444444444,
              "#bd3786"
             ],
             [
              0.5555555555555556,
              "#d8576b"
             ],
             [
              0.6666666666666666,
              "#ed7953"
             ],
             [
              0.7777777777777778,
              "#fb9f3a"
             ],
             [
              0.8888888888888888,
              "#fdca26"
             ],
             [
              1,
              "#f0f921"
             ]
            ],
            "type": "histogram2dcontour"
           }
          ],
          "mesh3d": [
           {
            "colorbar": {
             "outlinewidth": 0,
             "ticks": ""
            },
            "type": "mesh3d"
           }
          ],
          "parcoords": [
           {
            "line": {
             "colorbar": {
              "outlinewidth": 0,
              "ticks": ""
             }
            },
            "type": "parcoords"
           }
          ],
          "pie": [
           {
            "automargin": true,
            "type": "pie"
           }
          ],
          "scatter": [
           {
            "marker": {
             "colorbar": {
              "outlinewidth": 0,
              "ticks": ""
             }
            },
            "type": "scatter"
           }
          ],
          "scatter3d": [
           {
            "line": {
             "colorbar": {
              "outlinewidth": 0,
              "ticks": ""
             }
            },
            "marker": {
             "colorbar": {
              "outlinewidth": 0,
              "ticks": ""
             }
            },
            "type": "scatter3d"
           }
          ],
          "scattercarpet": [
           {
            "marker": {
             "colorbar": {
              "outlinewidth": 0,
              "ticks": ""
             }
            },
            "type": "scattercarpet"
           }
          ],
          "scattergeo": [
           {
            "marker": {
             "colorbar": {
              "outlinewidth": 0,
              "ticks": ""
             }
            },
            "type": "scattergeo"
           }
          ],
          "scattergl": [
           {
            "marker": {
             "colorbar": {
              "outlinewidth": 0,
              "ticks": ""
             }
            },
            "type": "scattergl"
           }
          ],
          "scattermapbox": [
           {
            "marker": {
             "colorbar": {
              "outlinewidth": 0,
              "ticks": ""
             }
            },
            "type": "scattermapbox"
           }
          ],
          "scatterpolar": [
           {
            "marker": {
             "colorbar": {
              "outlinewidth": 0,
              "ticks": ""
             }
            },
            "type": "scatterpolar"
           }
          ],
          "scatterpolargl": [
           {
            "marker": {
             "colorbar": {
              "outlinewidth": 0,
              "ticks": ""
             }
            },
            "type": "scatterpolargl"
           }
          ],
          "scatterternary": [
           {
            "marker": {
             "colorbar": {
              "outlinewidth": 0,
              "ticks": ""
             }
            },
            "type": "scatterternary"
           }
          ],
          "surface": [
           {
            "colorbar": {
             "outlinewidth": 0,
             "ticks": ""
            },
            "colorscale": [
             [
              0,
              "#0d0887"
             ],
             [
              0.1111111111111111,
              "#46039f"
             ],
             [
              0.2222222222222222,
              "#7201a8"
             ],
             [
              0.3333333333333333,
              "#9c179e"
             ],
             [
              0.4444444444444444,
              "#bd3786"
             ],
             [
              0.5555555555555556,
              "#d8576b"
             ],
             [
              0.6666666666666666,
              "#ed7953"
             ],
             [
              0.7777777777777778,
              "#fb9f3a"
             ],
             [
              0.8888888888888888,
              "#fdca26"
             ],
             [
              1,
              "#f0f921"
             ]
            ],
            "type": "surface"
           }
          ],
          "table": [
           {
            "cells": {
             "fill": {
              "color": "#EBF0F8"
             },
             "line": {
              "color": "white"
             }
            },
            "header": {
             "fill": {
              "color": "#C8D4E3"
             },
             "line": {
              "color": "white"
             }
            },
            "type": "table"
           }
          ]
         },
         "layout": {
          "annotationdefaults": {
           "arrowcolor": "#2a3f5f",
           "arrowhead": 0,
           "arrowwidth": 1
          },
          "autotypenumbers": "strict",
          "coloraxis": {
           "colorbar": {
            "outlinewidth": 0,
            "ticks": ""
           }
          },
          "colorscale": {
           "diverging": [
            [
             0,
             "#8e0152"
            ],
            [
             0.1,
             "#c51b7d"
            ],
            [
             0.2,
             "#de77ae"
            ],
            [
             0.3,
             "#f1b6da"
            ],
            [
             0.4,
             "#fde0ef"
            ],
            [
             0.5,
             "#f7f7f7"
            ],
            [
             0.6,
             "#e6f5d0"
            ],
            [
             0.7,
             "#b8e186"
            ],
            [
             0.8,
             "#7fbc41"
            ],
            [
             0.9,
             "#4d9221"
            ],
            [
             1,
             "#276419"
            ]
           ],
           "sequential": [
            [
             0,
             "#0d0887"
            ],
            [
             0.1111111111111111,
             "#46039f"
            ],
            [
             0.2222222222222222,
             "#7201a8"
            ],
            [
             0.3333333333333333,
             "#9c179e"
            ],
            [
             0.4444444444444444,
             "#bd3786"
            ],
            [
             0.5555555555555556,
             "#d8576b"
            ],
            [
             0.6666666666666666,
             "#ed7953"
            ],
            [
             0.7777777777777778,
             "#fb9f3a"
            ],
            [
             0.8888888888888888,
             "#fdca26"
            ],
            [
             1,
             "#f0f921"
            ]
           ],
           "sequentialminus": [
            [
             0,
             "#0d0887"
            ],
            [
             0.1111111111111111,
             "#46039f"
            ],
            [
             0.2222222222222222,
             "#7201a8"
            ],
            [
             0.3333333333333333,
             "#9c179e"
            ],
            [
             0.4444444444444444,
             "#bd3786"
            ],
            [
             0.5555555555555556,
             "#d8576b"
            ],
            [
             0.6666666666666666,
             "#ed7953"
            ],
            [
             0.7777777777777778,
             "#fb9f3a"
            ],
            [
             0.8888888888888888,
             "#fdca26"
            ],
            [
             1,
             "#f0f921"
            ]
           ]
          },
          "colorway": [
           "#636efa",
           "#EF553B",
           "#00cc96",
           "#ab63fa",
           "#FFA15A",
           "#19d3f3",
           "#FF6692",
           "#B6E880",
           "#FF97FF",
           "#FECB52"
          ],
          "font": {
           "color": "#2a3f5f"
          },
          "geo": {
           "bgcolor": "white",
           "lakecolor": "white",
           "landcolor": "#E5ECF6",
           "showlakes": true,
           "showland": true,
           "subunitcolor": "white"
          },
          "hoverlabel": {
           "align": "left"
          },
          "hovermode": "closest",
          "mapbox": {
           "style": "light"
          },
          "paper_bgcolor": "white",
          "plot_bgcolor": "#E5ECF6",
          "polar": {
           "angularaxis": {
            "gridcolor": "white",
            "linecolor": "white",
            "ticks": ""
           },
           "bgcolor": "#E5ECF6",
           "radialaxis": {
            "gridcolor": "white",
            "linecolor": "white",
            "ticks": ""
           }
          },
          "scene": {
           "xaxis": {
            "backgroundcolor": "#E5ECF6",
            "gridcolor": "white",
            "gridwidth": 2,
            "linecolor": "white",
            "showbackground": true,
            "ticks": "",
            "zerolinecolor": "white"
           },
           "yaxis": {
            "backgroundcolor": "#E5ECF6",
            "gridcolor": "white",
            "gridwidth": 2,
            "linecolor": "white",
            "showbackground": true,
            "ticks": "",
            "zerolinecolor": "white"
           },
           "zaxis": {
            "backgroundcolor": "#E5ECF6",
            "gridcolor": "white",
            "gridwidth": 2,
            "linecolor": "white",
            "showbackground": true,
            "ticks": "",
            "zerolinecolor": "white"
           }
          },
          "shapedefaults": {
           "line": {
            "color": "#2a3f5f"
           }
          },
          "ternary": {
           "aaxis": {
            "gridcolor": "white",
            "linecolor": "white",
            "ticks": ""
           },
           "baxis": {
            "gridcolor": "white",
            "linecolor": "white",
            "ticks": ""
           },
           "bgcolor": "#E5ECF6",
           "caxis": {
            "gridcolor": "white",
            "linecolor": "white",
            "ticks": ""
           }
          },
          "title": {
           "x": 0.05
          },
          "xaxis": {
           "automargin": true,
           "gridcolor": "white",
           "linecolor": "white",
           "ticks": "",
           "title": {
            "standoff": 15
           },
           "zerolinecolor": "white",
           "zerolinewidth": 2
          },
          "yaxis": {
           "automargin": true,
           "gridcolor": "white",
           "linecolor": "white",
           "ticks": "",
           "title": {
            "standoff": 15
           },
           "zerolinecolor": "white",
           "zerolinewidth": 2
          }
         }
        },
        "title": {
         "text": "Hold Duration : hugo vs benjamin vs theotime vs andrieu vs sylvain ",
         "x": 0.5
        },
        "xaxis": {
         "title": {
          "text": "x Axis Title"
         }
        },
        "yaxis": {
         "title": {
          "text": "y Axis Title"
         }
        }
       }
      },
      "text/html": [
       "<div>                            <div id=\"5d7ae0fb-3e10-4dab-bb50-5bc37d8ddb29\" class=\"plotly-graph-div\" style=\"height:525px; width:100%;\"></div>            <script type=\"text/javascript\">                require([\"plotly\"], function(Plotly) {                    window.PLOTLYENV=window.PLOTLYENV || {};                                    if (document.getElementById(\"5d7ae0fb-3e10-4dab-bb50-5bc37d8ddb29\")) {                    Plotly.newPlot(                        \"5d7ae0fb-3e10-4dab-bb50-5bc37d8ddb29\",                        [{\"name\":\"hugo\",\"r\":[0.07500000298023224,0.09722413867712021,0.10993103682994843,0.1048484817147255,0.11389230936765671,0.09116509556770325,0.09193333238363266,0.10142423957586288,0.09600000083446503,0.07823899388313293,0.07304999977350235,0.09046153724193573,0.09398794919252396,0.09284210205078125,0.10204301029443741,0.09131325036287308,0.10064516216516495,0.09067391604185104,0.09387179464101791,0.08948936313390732,0.0860961526632309,0.09048733860254288,0.10262162238359451,0.10275000333786011,0.10566666722297668,0.0760200023651123],\"theta\":[\"a\",\"b\",\"c\",\"d\",\"e\",\"f\",\"g\",\"h\",\"i\",\"j\",\"k\",\"l\",\"m\",\"n\",\"o\",\"p\",\"q\",\"r\",\"s\",\"t\",\"u\",\"v\",\"w\",\"x\",\"y\",\"z\"],\"type\":\"scatterpolar\"},{\"name\":\"benjamin\",\"r\":[0.0838688537478447,0.0828615352511406,0.08221875131130219,0.07271874696016312,0.07666666805744171,0.08619999885559082,0.09213333576917648,0.08270370215177536,0.07801204919815063,0.0774102583527565,0.08272727578878403,0.07928571105003357,0.08187499642372131,0.08438095450401306,0.08255696296691895,0.09377647191286087,0.08130434900522232,0.08488194644451141,0.07867741584777832,0.10140909254550934,0.09483999758958817,0.08004877716302872,0.09756097197532654,0.09459999948740005,0.09864000231027603,0.07610714435577393],\"theta\":[\"a\",\"b\",\"c\",\"d\",\"e\",\"f\",\"g\",\"h\",\"i\",\"j\",\"k\",\"l\",\"m\",\"n\",\"o\",\"p\",\"q\",\"r\",\"s\",\"t\",\"u\",\"v\",\"w\",\"x\",\"y\",\"z\"],\"type\":\"scatterpolar\"},{\"name\":\"theotime\",\"r\":[0.10000000149011612,0.11400000005960464,0.09306667000055313,0.11500000208616257,0.12125714123249054,0.11400876939296722,0.1097777783870697,0.11031579226255417,0.09958333522081375,0.10467073321342468,0.09933333098888397,0.09173333644866943,0.0982000008225441,0.09271428734064102,0.10594339668750763,0.09815555810928345,0.10480000078678131,0.11347825825214386,0.12291111052036285,0.10906250029802322,0.11151999980211258,0.10291463136672974,0.10827777534723282,0.11416666954755783,0.10321428626775742,0.0899166688323021],\"theta\":[\"a\",\"b\",\"c\",\"d\",\"e\",\"f\",\"g\",\"h\",\"i\",\"j\",\"k\",\"l\",\"m\",\"n\",\"o\",\"p\",\"q\",\"r\",\"s\",\"t\",\"u\",\"v\",\"w\",\"x\",\"y\",\"z\"],\"type\":\"scatterpolar\"},{\"name\":\"andrieu\",\"r\":[0.07057671993970871,0.06603226065635681,0.06893548369407654,0.07000000029802322,0.07065753638744354,0.06353333592414856,0.07240000367164612,0.07691358029842377,0.07488889247179031,0.07381395250558853,0.07285526394844055,0.07716666907072067,0.08033332973718643,0.06938961148262024,0.06967441737651825,0.06470731645822525,0.07107692211866379,0.06670967489480972,0.06340909004211426,0.06937037408351898,0.06393478065729141,0.06217073276638985,0.07440000027418137,0.06576000154018402,0.07219403237104416,0.043068964034318924],\"theta\":[\"a\",\"b\",\"c\",\"d\",\"e\",\"f\",\"g\",\"h\",\"i\",\"j\",\"k\",\"l\",\"m\",\"n\",\"o\",\"p\",\"q\",\"r\",\"s\",\"t\",\"u\",\"v\",\"w\",\"x\",\"y\",\"z\"],\"type\":\"scatterpolar\"},{\"name\":\"sylvain\",\"r\":[0.08932307362556458,0.08153333514928818,0.08183333277702332,0.09383333474397659,0.09563716500997543,0.07711111009120941,0.0771578922867775,0.06758332997560501,0.06926744431257248,0.06666667014360428,0.06656250357627869,0.06804166734218597,0.06847619265317917,0.0663333311676979,0.06624490022659302,0.0722000002861023,0.07468000054359436,0.09047916531562805,0.09008333086967468,0.07745833694934845,0.06808139383792877,0.08384999632835388,0.08223076909780502,0.07835294306278229,0.06929166615009308,0.08566666394472122],\"theta\":[\"a\",\"b\",\"c\",\"d\",\"e\",\"f\",\"g\",\"h\",\"i\",\"j\",\"k\",\"l\",\"m\",\"n\",\"o\",\"p\",\"q\",\"r\",\"s\",\"t\",\"u\",\"v\",\"w\",\"x\",\"y\",\"z\"],\"type\":\"scatterpolar\"}],                        {\"font\":{\"color\":\"#7f7f7f\",\"family\":\"Courier New, monospace\",\"size\":18},\"template\":{\"data\":{\"bar\":[{\"error_x\":{\"color\":\"#2a3f5f\"},\"error_y\":{\"color\":\"#2a3f5f\"},\"marker\":{\"line\":{\"color\":\"#E5ECF6\",\"width\":0.5},\"pattern\":{\"fillmode\":\"overlay\",\"size\":10,\"solidity\":0.2}},\"type\":\"bar\"}],\"barpolar\":[{\"marker\":{\"line\":{\"color\":\"#E5ECF6\",\"width\":0.5},\"pattern\":{\"fillmode\":\"overlay\",\"size\":10,\"solidity\":0.2}},\"type\":\"barpolar\"}],\"carpet\":[{\"aaxis\":{\"endlinecolor\":\"#2a3f5f\",\"gridcolor\":\"white\",\"linecolor\":\"white\",\"minorgridcolor\":\"white\",\"startlinecolor\":\"#2a3f5f\"},\"baxis\":{\"endlinecolor\":\"#2a3f5f\",\"gridcolor\":\"white\",\"linecolor\":\"white\",\"minorgridcolor\":\"white\",\"startlinecolor\":\"#2a3f5f\"},\"type\":\"carpet\"}],\"choropleth\":[{\"colorbar\":{\"outlinewidth\":0,\"ticks\":\"\"},\"type\":\"choropleth\"}],\"contour\":[{\"colorbar\":{\"outlinewidth\":0,\"ticks\":\"\"},\"colorscale\":[[0.0,\"#0d0887\"],[0.1111111111111111,\"#46039f\"],[0.2222222222222222,\"#7201a8\"],[0.3333333333333333,\"#9c179e\"],[0.4444444444444444,\"#bd3786\"],[0.5555555555555556,\"#d8576b\"],[0.6666666666666666,\"#ed7953\"],[0.7777777777777778,\"#fb9f3a\"],[0.8888888888888888,\"#fdca26\"],[1.0,\"#f0f921\"]],\"type\":\"contour\"}],\"contourcarpet\":[{\"colorbar\":{\"outlinewidth\":0,\"ticks\":\"\"},\"type\":\"contourcarpet\"}],\"heatmap\":[{\"colorbar\":{\"outlinewidth\":0,\"ticks\":\"\"},\"colorscale\":[[0.0,\"#0d0887\"],[0.1111111111111111,\"#46039f\"],[0.2222222222222222,\"#7201a8\"],[0.3333333333333333,\"#9c179e\"],[0.4444444444444444,\"#bd3786\"],[0.5555555555555556,\"#d8576b\"],[0.6666666666666666,\"#ed7953\"],[0.7777777777777778,\"#fb9f3a\"],[0.8888888888888888,\"#fdca26\"],[1.0,\"#f0f921\"]],\"type\":\"heatmap\"}],\"heatmapgl\":[{\"colorbar\":{\"outlinewidth\":0,\"ticks\":\"\"},\"colorscale\":[[0.0,\"#0d0887\"],[0.1111111111111111,\"#46039f\"],[0.2222222222222222,\"#7201a8\"],[0.3333333333333333,\"#9c179e\"],[0.4444444444444444,\"#bd3786\"],[0.5555555555555556,\"#d8576b\"],[0.6666666666666666,\"#ed7953\"],[0.7777777777777778,\"#fb9f3a\"],[0.8888888888888888,\"#fdca26\"],[1.0,\"#f0f921\"]],\"type\":\"heatmapgl\"}],\"histogram\":[{\"marker\":{\"pattern\":{\"fillmode\":\"overlay\",\"size\":10,\"solidity\":0.2}},\"type\":\"histogram\"}],\"histogram2d\":[{\"colorbar\":{\"outlinewidth\":0,\"ticks\":\"\"},\"colorscale\":[[0.0,\"#0d0887\"],[0.1111111111111111,\"#46039f\"],[0.2222222222222222,\"#7201a8\"],[0.3333333333333333,\"#9c179e\"],[0.4444444444444444,\"#bd3786\"],[0.5555555555555556,\"#d8576b\"],[0.6666666666666666,\"#ed7953\"],[0.7777777777777778,\"#fb9f3a\"],[0.8888888888888888,\"#fdca26\"],[1.0,\"#f0f921\"]],\"type\":\"histogram2d\"}],\"histogram2dcontour\":[{\"colorbar\":{\"outlinewidth\":0,\"ticks\":\"\"},\"colorscale\":[[0.0,\"#0d0887\"],[0.1111111111111111,\"#46039f\"],[0.2222222222222222,\"#7201a8\"],[0.3333333333333333,\"#9c179e\"],[0.4444444444444444,\"#bd3786\"],[0.5555555555555556,\"#d8576b\"],[0.6666666666666666,\"#ed7953\"],[0.7777777777777778,\"#fb9f3a\"],[0.8888888888888888,\"#fdca26\"],[1.0,\"#f0f921\"]],\"type\":\"histogram2dcontour\"}],\"mesh3d\":[{\"colorbar\":{\"outlinewidth\":0,\"ticks\":\"\"},\"type\":\"mesh3d\"}],\"parcoords\":[{\"line\":{\"colorbar\":{\"outlinewidth\":0,\"ticks\":\"\"}},\"type\":\"parcoords\"}],\"pie\":[{\"automargin\":true,\"type\":\"pie\"}],\"scatter\":[{\"marker\":{\"colorbar\":{\"outlinewidth\":0,\"ticks\":\"\"}},\"type\":\"scatter\"}],\"scatter3d\":[{\"line\":{\"colorbar\":{\"outlinewidth\":0,\"ticks\":\"\"}},\"marker\":{\"colorbar\":{\"outlinewidth\":0,\"ticks\":\"\"}},\"type\":\"scatter3d\"}],\"scattercarpet\":[{\"marker\":{\"colorbar\":{\"outlinewidth\":0,\"ticks\":\"\"}},\"type\":\"scattercarpet\"}],\"scattergeo\":[{\"marker\":{\"colorbar\":{\"outlinewidth\":0,\"ticks\":\"\"}},\"type\":\"scattergeo\"}],\"scattergl\":[{\"marker\":{\"colorbar\":{\"outlinewidth\":0,\"ticks\":\"\"}},\"type\":\"scattergl\"}],\"scattermapbox\":[{\"marker\":{\"colorbar\":{\"outlinewidth\":0,\"ticks\":\"\"}},\"type\":\"scattermapbox\"}],\"scatterpolar\":[{\"marker\":{\"colorbar\":{\"outlinewidth\":0,\"ticks\":\"\"}},\"type\":\"scatterpolar\"}],\"scatterpolargl\":[{\"marker\":{\"colorbar\":{\"outlinewidth\":0,\"ticks\":\"\"}},\"type\":\"scatterpolargl\"}],\"scatterternary\":[{\"marker\":{\"colorbar\":{\"outlinewidth\":0,\"ticks\":\"\"}},\"type\":\"scatterternary\"}],\"surface\":[{\"colorbar\":{\"outlinewidth\":0,\"ticks\":\"\"},\"colorscale\":[[0.0,\"#0d0887\"],[0.1111111111111111,\"#46039f\"],[0.2222222222222222,\"#7201a8\"],[0.3333333333333333,\"#9c179e\"],[0.4444444444444444,\"#bd3786\"],[0.5555555555555556,\"#d8576b\"],[0.6666666666666666,\"#ed7953\"],[0.7777777777777778,\"#fb9f3a\"],[0.8888888888888888,\"#fdca26\"],[1.0,\"#f0f921\"]],\"type\":\"surface\"}],\"table\":[{\"cells\":{\"fill\":{\"color\":\"#EBF0F8\"},\"line\":{\"color\":\"white\"}},\"header\":{\"fill\":{\"color\":\"#C8D4E3\"},\"line\":{\"color\":\"white\"}},\"type\":\"table\"}]},\"layout\":{\"annotationdefaults\":{\"arrowcolor\":\"#2a3f5f\",\"arrowhead\":0,\"arrowwidth\":1},\"autotypenumbers\":\"strict\",\"coloraxis\":{\"colorbar\":{\"outlinewidth\":0,\"ticks\":\"\"}},\"colorscale\":{\"diverging\":[[0,\"#8e0152\"],[0.1,\"#c51b7d\"],[0.2,\"#de77ae\"],[0.3,\"#f1b6da\"],[0.4,\"#fde0ef\"],[0.5,\"#f7f7f7\"],[0.6,\"#e6f5d0\"],[0.7,\"#b8e186\"],[0.8,\"#7fbc41\"],[0.9,\"#4d9221\"],[1,\"#276419\"]],\"sequential\":[[0.0,\"#0d0887\"],[0.1111111111111111,\"#46039f\"],[0.2222222222222222,\"#7201a8\"],[0.3333333333333333,\"#9c179e\"],[0.4444444444444444,\"#bd3786\"],[0.5555555555555556,\"#d8576b\"],[0.6666666666666666,\"#ed7953\"],[0.7777777777777778,\"#fb9f3a\"],[0.8888888888888888,\"#fdca26\"],[1.0,\"#f0f921\"]],\"sequentialminus\":[[0.0,\"#0d0887\"],[0.1111111111111111,\"#46039f\"],[0.2222222222222222,\"#7201a8\"],[0.3333333333333333,\"#9c179e\"],[0.4444444444444444,\"#bd3786\"],[0.5555555555555556,\"#d8576b\"],[0.6666666666666666,\"#ed7953\"],[0.7777777777777778,\"#fb9f3a\"],[0.8888888888888888,\"#fdca26\"],[1.0,\"#f0f921\"]]},\"colorway\":[\"#636efa\",\"#EF553B\",\"#00cc96\",\"#ab63fa\",\"#FFA15A\",\"#19d3f3\",\"#FF6692\",\"#B6E880\",\"#FF97FF\",\"#FECB52\"],\"font\":{\"color\":\"#2a3f5f\"},\"geo\":{\"bgcolor\":\"white\",\"lakecolor\":\"white\",\"landcolor\":\"#E5ECF6\",\"showlakes\":true,\"showland\":true,\"subunitcolor\":\"white\"},\"hoverlabel\":{\"align\":\"left\"},\"hovermode\":\"closest\",\"mapbox\":{\"style\":\"light\"},\"paper_bgcolor\":\"white\",\"plot_bgcolor\":\"#E5ECF6\",\"polar\":{\"angularaxis\":{\"gridcolor\":\"white\",\"linecolor\":\"white\",\"ticks\":\"\"},\"bgcolor\":\"#E5ECF6\",\"radialaxis\":{\"gridcolor\":\"white\",\"linecolor\":\"white\",\"ticks\":\"\"}},\"scene\":{\"xaxis\":{\"backgroundcolor\":\"#E5ECF6\",\"gridcolor\":\"white\",\"gridwidth\":2,\"linecolor\":\"white\",\"showbackground\":true,\"ticks\":\"\",\"zerolinecolor\":\"white\"},\"yaxis\":{\"backgroundcolor\":\"#E5ECF6\",\"gridcolor\":\"white\",\"gridwidth\":2,\"linecolor\":\"white\",\"showbackground\":true,\"ticks\":\"\",\"zerolinecolor\":\"white\"},\"zaxis\":{\"backgroundcolor\":\"#E5ECF6\",\"gridcolor\":\"white\",\"gridwidth\":2,\"linecolor\":\"white\",\"showbackground\":true,\"ticks\":\"\",\"zerolinecolor\":\"white\"}},\"shapedefaults\":{\"line\":{\"color\":\"#2a3f5f\"}},\"ternary\":{\"aaxis\":{\"gridcolor\":\"white\",\"linecolor\":\"white\",\"ticks\":\"\"},\"baxis\":{\"gridcolor\":\"white\",\"linecolor\":\"white\",\"ticks\":\"\"},\"bgcolor\":\"#E5ECF6\",\"caxis\":{\"gridcolor\":\"white\",\"linecolor\":\"white\",\"ticks\":\"\"}},\"title\":{\"x\":0.05},\"xaxis\":{\"automargin\":true,\"gridcolor\":\"white\",\"linecolor\":\"white\",\"ticks\":\"\",\"title\":{\"standoff\":15},\"zerolinecolor\":\"white\",\"zerolinewidth\":2},\"yaxis\":{\"automargin\":true,\"gridcolor\":\"white\",\"linecolor\":\"white\",\"ticks\":\"\",\"title\":{\"standoff\":15},\"zerolinecolor\":\"white\",\"zerolinewidth\":2}}},\"title\":{\"text\":\"Hold Duration : hugo vs benjamin vs theotime vs andrieu vs sylvain \",\"x\":0.5},\"xaxis\":{\"title\":{\"text\":\"x Axis Title\"}},\"yaxis\":{\"title\":{\"text\":\"y Axis Title\"}}},                        {\"responsive\": true}                    ).then(function(){\n",
       "                            \n",
       "var gd = document.getElementById('5d7ae0fb-3e10-4dab-bb50-5bc37d8ddb29');\n",
       "var x = new MutationObserver(function (mutations, observer) {{\n",
       "        var display = window.getComputedStyle(gd).display;\n",
       "        if (!display || display === 'none') {{\n",
       "            console.log([gd, 'removed!']);\n",
       "            Plotly.purge(gd);\n",
       "            observer.disconnect();\n",
       "        }}\n",
       "}});\n",
       "\n",
       "// Listen for the removal of the full notebook cells\n",
       "var notebookContainer = gd.closest('#notebook-container');\n",
       "if (notebookContainer) {{\n",
       "    x.observe(notebookContainer, {childList: true});\n",
       "}}\n",
       "\n",
       "// Listen for the clearing of the current output cell\n",
       "var outputEl = gd.closest('.output');\n",
       "if (outputEl) {{\n",
       "    x.observe(outputEl, {childList: true});\n",
       "}}\n",
       "\n",
       "                        })                };                });            </script>        </div>"
      ]
     },
     "metadata": {},
     "output_type": "display_data"
    }
   ],
   "source": [
    "\n",
    "def performance_polygon(Username, criterias):\n",
    "        colors = [\"blue\", \"red\", \"green\", \"orange\", \"brown\", \"deeppink\",\"sienna\",\n",
    "                \"gold\", \"olivedrab\", \"mediumspringgreen\", \"navy\", \"plum\", \"cadetblue\", \"darkmagenta\"\n",
    "                , \"black\"]\n",
    "        fig = go.Figure()\n",
    "        for i in range (0,len(Username)):\n",
    "            user = pd.read_csv(REFERENCE_FILEPATH+Username[i]+\".csv\",  sep=\"|\", names=columns_ref, encoding = \"ISO-8859-1\")\n",
    "            user = user.reset_index(drop=True)\n",
    "            user = user.drop([0])\n",
    "            user = user.reset_index(drop=True)\n",
    "            user[\"HD_mean\"] = pd.to_numeric(user[\"HD_mean\"], downcast=\"float\")\n",
    "\n",
    "            user = user.sort_values(\"Key\")\n",
    "            a = getPosa(user)\n",
    "            values1 = user.iloc[a:a+26, 2]\n",
    "            \n",
    "            fig.add_trace(go.Scatterpolar(\n",
    "                r=values1,\n",
    "                theta=criterias,\n",
    "                name=Username[i]\n",
    "            ))\n",
    "        name = \"\"\n",
    "        for i in Username:\n",
    "            name += i + \" vs \"\n",
    "        size = len(name)\n",
    "        name = name[:size - 3]\n",
    "        fig.update_layout(\n",
    "            title=\"Hold Duration : \"+ name,\n",
    "            xaxis_title=\"x Axis Title\",\n",
    "            yaxis_title=\"y Axis Title\",\n",
    "            font=dict(\n",
    "                family=\"Courier New, monospace\",\n",
    "                size=18,\n",
    "                color=\"#7f7f7f\"\n",
    "            )\n",
    "        )   \n",
    "        fig.update_layout(title_text=\"Hold Duration : \"+ name, title_x=0.5) \n",
    "        fig.show()\n",
    "\n",
    "            \n",
    "        \n",
    "\n",
    "criterias = listAlphabet()\n",
    "performance_polygon([\"hugo\", \"benjamin\", \"theotime\", \"andrieu\", \"sylvain\"], criterias)"
   ]
  },
  {
   "cell_type": "markdown",
   "metadata": {},
   "source": [
    "These charts prove that the hold duration is a good metric for key-stroke recognition.\n",
    "\n",
    "Even if the digraph latency does not show trends for users, it is a softer grain metric that allows to differentiate users with equivalent hold duration by analising keystroke rhythms."
   ]
  },
  {
   "cell_type": "markdown",
   "metadata": {},
   "source": [
    "<a name='6'></a>\n",
    "## 6 - Method 1 : Scaled Manhattan Distance"
   ]
  },
  {
   "cell_type": "markdown",
   "metadata": {},
   "source": [
    "We create a function that scales the train and test data needed for prediction. All model logic is implemented as functions so that we can call them later during evaluation."
   ]
  },
  {
   "cell_type": "code",
   "execution_count": 52,
   "metadata": {},
   "outputs": [],
   "source": [
    "from sklearn.preprocessing import StandardScaler\n",
    "\n",
    "def scale(df_reference, to_identify):\n",
    "    features = [\"key_numerical\", \"Shift\", \"HD_mean\", \"HD_std\", \"DL_mean\", \"DL_std\"]\n",
    "    target = \"label\"\n",
    "\n",
    "    scaler = StandardScaler()\n",
    "    scaled_data_reference_X = scaler.fit_transform(df_reference[features])\n",
    "    scaled_df_reference_X = pd.DataFrame(scaled_data_reference_X)\n",
    "    scaled_df_reference_X.columns = features\n",
    "    scaled_df_reference = pd.concat([scaled_df_reference_X.reset_index(drop=True), df_reference[target].reset_index(drop=True)], axis=1)\n",
    "\n",
    "    scaled_to_identify = []\n",
    "    for unknown in to_identify:\n",
    "        scaled_data_unknown = scaler.transform(unknown)\n",
    "        scaled_df_unknown = pd.DataFrame(scaled_data_unknown)\n",
    "        scaled_df_unknown.columns = features\n",
    "        scaled_to_identify.append(scaled_df_unknown)\n",
    "\n",
    "    return scaled_df_reference, scaled_to_identify"
   ]
  },
  {
   "cell_type": "markdown",
   "metadata": {},
   "source": [
    "We create a prediction method using the scaled manhattan distance."
   ]
  },
  {
   "cell_type": "code",
   "execution_count": 53,
   "metadata": {},
   "outputs": [],
   "source": [
    "def pred_SMD(df_reference, to_identify, verbose=False):\n",
    "    predictions = []\n",
    "\n",
    "    counter = 0\n",
    "    for unknown in to_identify:\n",
    "        distance_to_users = np.array([[0,0]])\n",
    "        distance_to_users = np.delete(distance_to_users, 0, 0)\n",
    "        index = 0\n",
    "\n",
    "        references = [x for _, x in df_reference.groupby('label')]\n",
    "        for reference in references:\n",
    "            distance = 0\n",
    "            reference = reference.reset_index(drop=True)\n",
    "            \n",
    "            for i in range(unknown.shape[0]):\n",
    "                for j in range(reference.shape[0]):\n",
    "                    if reference['key_numerical'][j] == unknown['key_numerical'][i]:\n",
    "                        if float(reference['HD_std'][j]) != 0 and math.isnan(float(reference['HD_std'][j])) == False:\n",
    "                            distance += abs(float(unknown['HD_mean'][i]) - float(reference['HD_mean'][j]))/float(reference['HD_std'][j])\n",
    "                        if float(reference['DL_std'][j]) != 0 and math.isnan(float(reference['DL_std'][j])) == False:\n",
    "                            distance += abs(float(unknown['DL_mean'][i]) - float(reference['DL_mean'][j]))/float(reference['DL_std'][j])\n",
    "\n",
    "            distance_to_users = np.append(distance_to_users, [[index, distance]], axis = 0)\n",
    "            index += 1\n",
    "\n",
    "        minim = float('inf')\n",
    "        res = 0\n",
    "        for i in range(len(distance_to_users)):\n",
    "            if distance_to_users[i][1] < minim:\n",
    "                minim = distance_to_users[i][1]\n",
    "                res = i\n",
    "        \n",
    "        pred = references[res]['label'].map(label_to_name_map).iloc[0]\n",
    "        if verbose:\n",
    "            counter += 1\n",
    "            print(counter, \"/\", len(to_identify), \"SMD-\", \"Predicting Class: \", pred)\n",
    "        predictions.append(pred)\n",
    "    \n",
    "    return predictions"
   ]
  },
  {
   "cell_type": "markdown",
   "metadata": {},
   "source": [
    "<a name='7'></a>\n",
    "## 7 - Method 2 : Keyboard Image Mapping"
   ]
  },
  {
   "cell_type": "markdown",
   "metadata": {},
   "source": [
    "This method is not taken from an article. It's a personal initiative. The aim is simple. Our other methods are based on Time dimension comparison only (Hold Duration, Flight Duration). However, the spatial dimension is also relevant because the keyboard layout is partly responsible for the way we type. Thus, the idea is to color a keyboard picture with a heatmap which represents one of our metrics. In order to so, we were inspired by a python library : tapmap (https://pypi.org/project/tapmap/). This library is used to color a keyboard whith a frequencies heatmap. So, we've modified it to fit with our metrics."
   ]
  },
  {
   "cell_type": "code",
   "execution_count": 54,
   "metadata": {},
   "outputs": [],
   "source": [
    "keyboard = Image.open(\n",
    "    'notebooks/images/keyboard.png'\n",
    ")\n",
    "\n",
    "def listAlphabet():\n",
    "  return list(string.ascii_lowercase)\n",
    "\n",
    "\n",
    "def getPosa(dataframe):\n",
    "  for i in dataframe.index:\n",
    "    if dataframe.loc[i, 'Key'] == \"\\'a\\'\":\n",
    "      return i\n",
    "\n",
    "def get_heatmap(filename):\n",
    "    \"\"\"Get the frequencies of certain keypresses.\"\"\"\n",
    "    print('Processing file {0}...'.format(filename))\n",
    "    pixels = []\n",
    "    values = []\n",
    "    heatmap_data = np.asarray([[0] * 57] * 21)\n",
    "    # Open the given file and read the contents\n",
    "    \"\"\"\n",
    "    with open(filename) as file:\n",
    "        contents = file.read()\n",
    "    # Get the pixels covered by each character, and append these to pixels\n",
    "    \"\"\"\n",
    "    contents = pd.read_csv(filename, sep = \"|\", encoding = 'ISO-8859-1')\n",
    "    contents[\"HD_mean\"] = pd.to_numeric(contents[\"HD_mean\"], downcast=\"float\")\n",
    "    contents = contents.drop([0])\n",
    "    contents = contents.reset_index(drop=True)\n",
    "    contents = contents.sort_values(\"Key\")\n",
    "    #a = getPosa(contents)\n",
    "    alphabet = listAlphabet()\n",
    "    #values1 = contents.iloc[a:a+26, 2]\n",
    "    for char in alphabet:\n",
    "        char = \"'\"+char+\"'\"\n",
    "        coords = get_coords(char)\n",
    "        i  = contents.loc[contents['Key'] == char]\n",
    "        if i.empty == False:\n",
    "            if coords:\n",
    "                for coord in coords:\n",
    "                    pixels.append(coord)\n",
    "                    values.append(i['HD_mean'])\n",
    "        \n",
    "    \"\"\"\n",
    "    for char in contents['Key']:\n",
    "        coords = get_coords(char)\n",
    "        i  = contents.loc[contents['Key'] == char]\n",
    "        \n",
    "        if coords:\n",
    "            for coord in coords:\n",
    "                pixels.append(coord)\n",
    "                values.append(i['HD_mean'])\n",
    "       \"\"\"       \n",
    "    \n",
    "    # Increment the appropriate coordinate for each pixel covered\n",
    "    heatmap_data = heatmap_data.astype(float)\n",
    "    for j, coordinate in enumerate(pixels):\n",
    "        x, y = coordinate\n",
    "        tmp = float(values[j])\n",
    "        heatmap_data[x][y] = tmp\n",
    "    # Get the sum of all data, and divide all values by that sum\n",
    "    #total = np.sum(heatmap_data)\n",
    "    np.savetxt(\"heatmap.csv\", heatmap_data, delimiter= \"|\")\n",
    "    #heatmap_data = heatmap_data / total\n",
    "    # Get the values for the shift key, and scale them down by 70%\n",
    "    for pixel in get_all_pixels(((18, 18), (19, 34))):\n",
    "        x, y = pixel\n",
    "        heatmap_data[x][y] = 0.0\n",
    "    #heatmap_data = NormalizeData(heatmap_data)\n",
    "    filename = filename.split('/')\n",
    "    print(filename)\n",
    "    if filename[1] == 'training':\n",
    "        name = \"data/training/heatmap_reference/\"+filename[3]\n",
    "        print(name)\n",
    "        np.savetxt(name, heatmap_data, delimiter= \";\")\n",
    "    else:\n",
    "        name = \"data/test/heatmap_unknown_reference/\"+filename[3]\n",
    "        np.savetxt(name, heatmap_data, delimiter= \";\")\n",
    "    print('Finished processing file {0}.'.format(filename))\n",
    "    # Return the final array\n",
    "    return heatmap_data\n",
    "\n",
    "\n",
    "def blend_and_save(heatmap_data, filename, colormap, dots):\n",
    "    \"\"\"Plot a heatmap, upscale it to the keyboard and save a blended image.\"\"\"\n",
    "    print('Generating heatmap...')\n",
    "    # Clear the heatmap plot and axes\n",
    "    plt.clf()\n",
    "    plt.xticks([])\n",
    "    plt.yticks([])\n",
    "    plt.axis('off')\n",
    "    # Display the data on the heatmap\n",
    "    plt.imshow(heatmap_data, interpolation=None, zorder=1, cmap=colormap)\n",
    "    # Save the heatmap plot\n",
    "    print(filename)\n",
    "    plt.savefig(\n",
    "        'heatmap.png',\n",
    "        dpi=dots,\n",
    "        pad_inches=0,\n",
    "        transparent=True,\n",
    "        bbox_inches='tight'\n",
    "    )\n",
    "    print('Blending and saving image...')\n",
    "    # Open the heatmap image\n",
    "    heatmap = Image.open(\n",
    "        'heatmap.png'\n",
    "    )\n",
    "    # Resize the heatmap to the keyboard's size, with antialiasing\n",
    "    heatmap = heatmap.resize(keyboard.size, Image.ANTIALIAS)\n",
    "\n",
    "    heatmap.save(\n",
    "        'heatmap.png'\n",
    "    )\n",
    "    # Blend the images, and save\n",
    "    blended = ImageChops.darker(keyboard, heatmap)\n",
    "    testOrTrain = filename.split('/')[1]\n",
    "    filename = filename.split('/')[-1]\n",
    "    filename = filename.split('.')[0]\n",
    "    filename = filename+'.png'\n",
    "    if testOrTrain == 'training':\n",
    "        filename = 'data/training/heatmap_reference/colormap/'+filename\n",
    "    else:\n",
    "        filename = 'data/test/heatmap_unknown_reference/colormap/'+filename\n",
    "    blended.save(filename)\n"
   ]
  },
  {
   "cell_type": "code",
   "execution_count": 55,
   "metadata": {},
   "outputs": [],
   "source": [
    "\"\"\"Key coordinate map, and various pixel-related methods.\"\"\"\n",
    "\n",
    "char_map = {\n",
    "    ' ': ((18, 18), (19, 34)),\n",
    "    '\\t': ((8, 1), (9, 4)),\n",
    "    '`¬': ((4, 1), (5, 2)),\n",
    "    '1!': ((4, 5), (5, 6)),\n",
    "    '2@': ((4, 9), (5, 10)),\n",
    "    '3#': ((4, 13), (5, 14)),\n",
    "    '4$': ((4, 17), (5, 18)),\n",
    "    '5%': ((4, 20), (5, 21)),\n",
    "    '6^': ((4, 24), (5, 25)),\n",
    "    '7&': ((4, 28), (5, 29)),\n",
    "    '8*': ((4, 32), (5, 33)),\n",
    "    '9(': ((4, 36), (5, 37)),\n",
    "    '0)': ((4, 40), (5, 41)),\n",
    "    '-_': ((4, 44), (5, 45)),\n",
    "    '=+': ((4, 48), (5, 49)),\n",
    "    'qQ': ((8, 7), (9, 8)),\n",
    "    'wW': ((8, 11), (9, 12)),\n",
    "    'eE': ((8, 15), (9, 16)),\n",
    "    'rR': ((8, 19), (9, 20)),\n",
    "    'tT': ((8, 22), (9, 23)),\n",
    "    'yY': ((8, 26), (9, 27)),\n",
    "    'uU': ((8, 30), (9, 31)),\n",
    "    'iI': ((8, 34), (9, 35)),\n",
    "    'oO': ((8, 38), (9, 39)),\n",
    "    'pP': ((8, 42), (9, 43)),\n",
    "    '[{': ((8, 46), (9, 47)),\n",
    "    ']}': ((8, 50), (9, 51)),\n",
    "    '\\\\|': ((8, 54), (9, 55)),\n",
    "    'aA': ((11, 8), (12, 9)),\n",
    "    'sS': ((11, 12), (12, 13)),\n",
    "    'dD': ((11, 16), (12, 17)),\n",
    "    'fF': ((11, 20), (12, 21)),\n",
    "    'gG': ((11, 23), (12, 24)),\n",
    "    'hH': ((11, 27), (12, 28)),\n",
    "    'jJ': ((11, 31), (12, 32)),\n",
    "    'kK': ((11, 35), (12, 36)),\n",
    "    'lL': ((11, 39), (12, 40)),\n",
    "    ';:': ((11, 43), (12, 44)),\n",
    "    'zZ': ((15, 10), (16, 11)),\n",
    "    'xX': ((15, 14), (16, 15)),\n",
    "    'cC': ((15, 18), (16, 19)),\n",
    "    'vV': ((15, 22), (16, 23)),\n",
    "    'bB': ((15, 25), (16, 26)),\n",
    "    'nN': ((15, 29), (16, 30)),\n",
    "    'mM': ((15, 33), (16, 34)),\n",
    "    ',<': ((15, 37), (16, 38)),\n",
    "    '.>': ((15, 41), (16, 42)),\n",
    "    '/?': ((15, 45), (16, 46)),\n",
    "    '\\n': ((11, 51), (12, 55)),\n",
    "    '\\'\"': ((11, 47), (12, 48))\n",
    "}\n",
    "\n",
    "keys = char_map.keys()\n",
    "\n",
    "left_shift = [\n",
    "    (15, 1), (15, 2), (15, 3), (15, 4), (15, 5), (15, 6), (15, 7),\n",
    "    (16, 1), (16, 2), (16, 3), (16, 4), (16, 5), (16, 6), (16, 7)\n",
    "]\n",
    "\n",
    "\n",
    "def get_all_pixels(coordinates):\n",
    "    \"\"\"Get all pixel coordinates, given the top left and bottom right.\"\"\"\n",
    "    pixels = []\n",
    "    x1, y1 = coordinates[0]\n",
    "    x2, y2 = coordinates[1]\n",
    "    for ix in range(x1, x2 + 1):\n",
    "        for iy in range(y1, y2 + 1):\n",
    "            pixels.append((ix, iy))\n",
    "    return pixels\n",
    "\n",
    "\n",
    "def get_coords(char):\n",
    "    \"\"\"Get the coordinate of a key from the key map.\"\"\"\n",
    "    \"\"\"print(char)\n",
    "    print(list(char_map)[15][0])\n",
    "    tmp = \"\\'\"+list(char_map)[15][0]+\"\\'\"\n",
    "    print(tmp == str(char))\"\"\"\n",
    "    char=char[:-1]\n",
    "    char = char[1:]\n",
    "    \n",
    "    for key in (item for item in keys if char in item):\n",
    "        pixels = get_all_pixels(char_map[key])\n",
    "        if key.index(char) == 1:\n",
    "            pixels += left_shift\n",
    "        return pixels"
   ]
  },
  {
   "cell_type": "code",
   "execution_count": 56,
   "metadata": {},
   "outputs": [
    {
     "name": "stdout",
     "output_type": "stream",
     "text": [
      "Processing file data/training/reference/andrieu.csv...\n",
      "['data', 'training', 'reference', 'andrieu.csv']\n",
      "data/training/heatmap_reference/andrieu.csv\n",
      "Finished processing file ['data', 'training', 'reference', 'andrieu.csv'].\n",
      "Generating heatmap...\n",
      "data/training/heatmap_reference/andrieu.png\n",
      "Blending and saving image...\n",
      "Image generated: data/training/heatmap_reference/andrieu.png\n",
      "Processing file data/training/reference/benjamin.csv...\n",
      "['data', 'training', 'reference', 'benjamin.csv']\n",
      "data/training/heatmap_reference/benjamin.csv\n",
      "Finished processing file ['data', 'training', 'reference', 'benjamin.csv'].\n",
      "Generating heatmap...\n",
      "data/training/heatmap_reference/benjamin.png\n",
      "Blending and saving image...\n",
      "Image generated: data/training/heatmap_reference/benjamin.png\n",
      "Processing file data/training/reference/hugo.csv...\n",
      "['data', 'training', 'reference', 'hugo.csv']\n",
      "data/training/heatmap_reference/hugo.csv\n",
      "Finished processing file ['data', 'training', 'reference', 'hugo.csv'].\n",
      "Generating heatmap...\n",
      "data/training/heatmap_reference/hugo.png\n",
      "Blending and saving image...\n",
      "Image generated: data/training/heatmap_reference/hugo.png\n",
      "Processing file data/training/reference/robin.csv...\n",
      "['data', 'training', 'reference', 'robin.csv']\n",
      "data/training/heatmap_reference/robin.csv\n",
      "Finished processing file ['data', 'training', 'reference', 'robin.csv'].\n",
      "Generating heatmap...\n",
      "data/training/heatmap_reference/robin.png\n",
      "Blending and saving image...\n",
      "Image generated: data/training/heatmap_reference/robin.png\n",
      "Processing file data/training/reference/sylvain.csv...\n",
      "['data', 'training', 'reference', 'sylvain.csv']\n",
      "data/training/heatmap_reference/sylvain.csv\n",
      "Finished processing file ['data', 'training', 'reference', 'sylvain.csv'].\n",
      "Generating heatmap...\n",
      "data/training/heatmap_reference/sylvain.png\n",
      "Blending and saving image...\n",
      "Image generated: data/training/heatmap_reference/sylvain.png\n",
      "Processing file data/training/reference/theotime.csv...\n",
      "['data', 'training', 'reference', 'theotime.csv']\n",
      "data/training/heatmap_reference/theotime.csv\n",
      "Finished processing file ['data', 'training', 'reference', 'theotime.csv'].\n",
      "Generating heatmap...\n",
      "data/training/heatmap_reference/theotime.png\n",
      "Blending and saving image...\n",
      "Image generated: data/training/heatmap_reference/theotime.png\n",
      "Processing file data/test/reference_unknown/andrieu_1.csv...\n",
      "['data', 'test', 'reference_unknown', 'andrieu_1.csv']\n",
      "Finished processing file ['data', 'test', 'reference_unknown', 'andrieu_1.csv'].\n",
      "Generating heatmap...\n",
      "data/test/heatmap_unknown_reference/andrieu_1.png\n",
      "Blending and saving image...\n",
      "Image generated: data/test/heatmap_unknown_reference/andrieu_1.png\n",
      "Processing file data/test/reference_unknown/andrieu_2.csv...\n",
      "['data', 'test', 'reference_unknown', 'andrieu_2.csv']\n",
      "Finished processing file ['data', 'test', 'reference_unknown', 'andrieu_2.csv'].\n",
      "Generating heatmap...\n",
      "data/test/heatmap_unknown_reference/andrieu_2.png\n",
      "Blending and saving image...\n",
      "Image generated: data/test/heatmap_unknown_reference/andrieu_2.png\n",
      "Processing file data/test/reference_unknown/andrieu_3.csv...\n",
      "['data', 'test', 'reference_unknown', 'andrieu_3.csv']\n",
      "Finished processing file ['data', 'test', 'reference_unknown', 'andrieu_3.csv'].\n",
      "Generating heatmap...\n",
      "data/test/heatmap_unknown_reference/andrieu_3.png\n",
      "Blending and saving image...\n",
      "Image generated: data/test/heatmap_unknown_reference/andrieu_3.png\n",
      "Processing file data/test/reference_unknown/andrieu_4.csv...\n",
      "['data', 'test', 'reference_unknown', 'andrieu_4.csv']\n",
      "Finished processing file ['data', 'test', 'reference_unknown', 'andrieu_4.csv'].\n",
      "Generating heatmap...\n",
      "data/test/heatmap_unknown_reference/andrieu_4.png\n",
      "Blending and saving image...\n",
      "Image generated: data/test/heatmap_unknown_reference/andrieu_4.png\n",
      "Processing file data/test/reference_unknown/andrieu_5.csv...\n",
      "['data', 'test', 'reference_unknown', 'andrieu_5.csv']\n",
      "Finished processing file ['data', 'test', 'reference_unknown', 'andrieu_5.csv'].\n",
      "Generating heatmap...\n",
      "data/test/heatmap_unknown_reference/andrieu_5.png\n",
      "Blending and saving image...\n",
      "Image generated: data/test/heatmap_unknown_reference/andrieu_5.png\n",
      "Processing file data/test/reference_unknown/andrieu_6.csv...\n",
      "['data', 'test', 'reference_unknown', 'andrieu_6.csv']\n",
      "Finished processing file ['data', 'test', 'reference_unknown', 'andrieu_6.csv'].\n",
      "Generating heatmap...\n",
      "data/test/heatmap_unknown_reference/andrieu_6.png\n",
      "Blending and saving image...\n",
      "Image generated: data/test/heatmap_unknown_reference/andrieu_6.png\n",
      "Processing file data/test/reference_unknown/andrieu_7.csv...\n",
      "['data', 'test', 'reference_unknown', 'andrieu_7.csv']\n",
      "Finished processing file ['data', 'test', 'reference_unknown', 'andrieu_7.csv'].\n",
      "Generating heatmap...\n",
      "data/test/heatmap_unknown_reference/andrieu_7.png\n",
      "Blending and saving image...\n",
      "Image generated: data/test/heatmap_unknown_reference/andrieu_7.png\n",
      "Processing file data/test/reference_unknown/benjamin_1.csv...\n",
      "['data', 'test', 'reference_unknown', 'benjamin_1.csv']\n",
      "Finished processing file ['data', 'test', 'reference_unknown', 'benjamin_1.csv'].\n",
      "Generating heatmap...\n",
      "data/test/heatmap_unknown_reference/benjamin_1.png\n",
      "Blending and saving image...\n",
      "Image generated: data/test/heatmap_unknown_reference/benjamin_1.png\n",
      "Processing file data/test/reference_unknown/benjamin_2.csv...\n",
      "['data', 'test', 'reference_unknown', 'benjamin_2.csv']\n",
      "Finished processing file ['data', 'test', 'reference_unknown', 'benjamin_2.csv'].\n",
      "Generating heatmap...\n",
      "data/test/heatmap_unknown_reference/benjamin_2.png\n",
      "Blending and saving image...\n",
      "Image generated: data/test/heatmap_unknown_reference/benjamin_2.png\n",
      "Processing file data/test/reference_unknown/benjamin_3.csv...\n",
      "['data', 'test', 'reference_unknown', 'benjamin_3.csv']\n",
      "Finished processing file ['data', 'test', 'reference_unknown', 'benjamin_3.csv'].\n",
      "Generating heatmap...\n",
      "data/test/heatmap_unknown_reference/benjamin_3.png\n",
      "Blending and saving image...\n",
      "Image generated: data/test/heatmap_unknown_reference/benjamin_3.png\n",
      "Processing file data/test/reference_unknown/benjamin_4.csv...\n",
      "['data', 'test', 'reference_unknown', 'benjamin_4.csv']\n",
      "Finished processing file ['data', 'test', 'reference_unknown', 'benjamin_4.csv'].\n",
      "Generating heatmap...\n",
      "data/test/heatmap_unknown_reference/benjamin_4.png\n",
      "Blending and saving image...\n",
      "Image generated: data/test/heatmap_unknown_reference/benjamin_4.png\n",
      "Processing file data/test/reference_unknown/benjamin_5.csv...\n",
      "['data', 'test', 'reference_unknown', 'benjamin_5.csv']\n",
      "Finished processing file ['data', 'test', 'reference_unknown', 'benjamin_5.csv'].\n",
      "Generating heatmap...\n",
      "data/test/heatmap_unknown_reference/benjamin_5.png\n",
      "Blending and saving image...\n",
      "Image generated: data/test/heatmap_unknown_reference/benjamin_5.png\n",
      "Processing file data/test/reference_unknown/theotime_1.csv...\n",
      "['data', 'test', 'reference_unknown', 'theotime_1.csv']\n",
      "Finished processing file ['data', 'test', 'reference_unknown', 'theotime_1.csv'].\n",
      "Generating heatmap...\n",
      "data/test/heatmap_unknown_reference/theotime_1.png\n",
      "Blending and saving image...\n",
      "Image generated: data/test/heatmap_unknown_reference/theotime_1.png\n"
     ]
    },
    {
     "data": {
      "image/png": "[encoded data removed]",
      "text/plain": [
       "<Figure size 432x288 with 1 Axes>"
      ]
     },
     "metadata": {},
     "output_type": "display_data"
    }
   ],
   "source": [
    "for file in listdir(REFERENCE_FILEPATH):\n",
    "    colormap = 'nipy_spectral'\n",
    "    dpi = 600 \n",
    "    heatmap_data = get_heatmap(REFERENCE_FILEPATH+file)\n",
    "    output_file = HEATMAP_REFERENCE+file\n",
    "    output_file = output_file.split('.')[0]+'.png'\n",
    "    blend_and_save(heatmap_data, output_file, colormap, dpi)\n",
    "    print('Image generated: {0}'.format(output_file))\n",
    "    \n",
    "for file in listdir(REFERENCE_UNKNOWN_FILEPATH):\n",
    "    colormap = 'nipy_spectral'\n",
    "    dpi = 600\n",
    "    heatmap_data = get_heatmap(REFERENCE_UNKNOWN_FILEPATH+file)\n",
    "    output_file = HEATMAP_UNKNOWN_REFERENCE+file\n",
    "    output_file = output_file.split('.')[0]+'.png'\n",
    "    blend_and_save(heatmap_data, output_file, colormap, dpi)\n",
    "    print('Image generated: {0}'.format(output_file))"
   ]
  },
  {
   "cell_type": "markdown",
   "metadata": {},
   "source": [
    "We only represent the lower alphabet. The reason is that we do not have a large amount of data, thus the lower caracters are the only ones which are sufficiently represented. If we had more data, we would have produced at least two heatmaps for each reference: one for shifted key, one for the other."
   ]
  },
  {
   "cell_type": "markdown",
   "metadata": {},
   "source": [
    "<a name='8'></a>\n",
    "## 8 - Method 3 : Decision Tree"
   ]
  },
  {
   "cell_type": "markdown",
   "metadata": {},
   "source": [
    "We need to create the decision tree and fit it to our dataframe containing all our references.\n",
    "We implement it as a function so that it can be called later during evaluation."
   ]
  },
  {
   "cell_type": "code",
   "execution_count": 57,
   "metadata": {},
   "outputs": [],
   "source": [
    "def fit_tree(df_reference):\n",
    "    # tree training\n",
    "    features = [\"key_numerical\", \"Shift\", \"HD_mean\", \"HD_std\", \"DL_mean\", \"DL_std\"]\n",
    "    target = \"label\"\n",
    "\n",
    "    Y_reference = df_reference[target]\n",
    "    X_reference = df_reference[features]\n",
    "\n",
    "    ## tree creation and fitting on the reference data\n",
    "    clf = tree.DecisionTreeClassifier()\n",
    "    clf = clf.fit(X_reference, Y_reference)\n",
    "    return clf"
   ]
  },
  {
   "cell_type": "markdown",
   "metadata": {},
   "source": [
    "Then, we need use the tree to get the predictions of the files we want to re-identify.\n",
    "\n",
    "- For each file that we need to identify, the tree outputs a user prediction for each keyboard key, i.e `'A','a','c',...`. Thus, it predicts and maps one user for one key\n",
    "- We need to compute the mean probability for each user, find the maximum mean probability, and get the user \n",
    "- We obtain a list of predictions for all unknown users"
   ]
  },
  {
   "cell_type": "code",
   "execution_count": 58,
   "metadata": {},
   "outputs": [],
   "source": [
    "def pred_tree(to_identify, clf, verbose=False):\n",
    "    # Run prediction for all unknowns and compare to truths to get accuracy\n",
    "    predictions = []\n",
    "    probabilities = []\n",
    "    i = 0\n",
    "    for unknown in to_identify:\n",
    "        # tree returns predictions and probabilities for each key entry\n",
    "        # average to get final prediction   \n",
    "        probs = clf.predict_proba(unknown)\n",
    "        prob_df = pd.DataFrame(probs)\n",
    "        prob_df = prob_df.rename(columns=label_to_name_map)\n",
    "        # calculate probability win sums for different labels\n",
    "        pred_df = pd.DataFrame(columns=['prob_sum'])\n",
    "        pred_df['prob_sum'] = prob_df.sum()\n",
    "        # calculate mean probability per label\n",
    "        pred_df['prob_mean'] = pred_df['prob_sum'] / pred_df['prob_sum'].sum()\n",
    "        # find label with max probability sum\n",
    "        pred_label = pred_df['prob_mean'].idxmax()\n",
    "        pred_probability = pred_df.loc[pred_label,'prob_mean']\n",
    "        # append\n",
    "        probabilities.append(pred_df['prob_mean'].values.tolist())\n",
    "        predictions.append(pred_label)   \n",
    "        # log result\n",
    "        if verbose:\n",
    "            i += 1\n",
    "            print(i, \"/\", len(to_identify), \"- Predicting Class: \", pred_label, ', with Proba: ', str(pred_probability))\n",
    "    return predictions, probabilities"
   ]
  },
  {
   "cell_type": "markdown",
   "metadata": {},
   "source": [
    "<a name='9'></a>\n",
    "## 9 - Evaluation"
   ]
  },
  {
   "cell_type": "markdown",
   "metadata": {},
   "source": [
    "Now that we have provided the different models, we evaluate them to enable a comparison."
   ]
  },
  {
   "cell_type": "markdown",
   "metadata": {},
   "source": [
    "#### 9.1.1 - Training References"
   ]
  },
  {
   "cell_type": "markdown",
   "metadata": {},
   "source": [
    "**Input:** reference files per user with the following format ``{Key|Shift|HD_mean|HD_std|DL_mean|DL_std}`` \\\n",
    "**Output:** one file with all reference files to perform evaluation, with the following format \\\n",
    "``{Label|Key Numerical|Shift[HD_mean|HD_std|DL_mean|DL_std}``\n",
    "\n",
    "1. We to add an attribute el` to the data to identify the user\n",
    "2. We merge all references in one dataframe\n",
    "3. The `key` values must have an integer value, we convert them using and store them in `key_numerical`\n",
    "4. The `label` values must have an integer value, we convert them using a map"
   ]
  },
  {
   "cell_type": "code",
   "execution_count": 59,
   "metadata": {},
   "outputs": [],
   "source": [
    "# import reference into pandas dataframe\n",
    "files = [f for f in listdir(REFERENCE_FILEPATH) if isfile(join(REFERENCE_FILEPATH, f))]\n",
    "\n",
    "# concat reference files in one dataframe\n",
    "dataframes_list = []\n",
    "possible_labels = []\n",
    "for file in files:\n",
    "    df_file = pd.read_csv(REFERENCE_FILEPATH + file, sep=\"|\", encoding = \"ISO-8859-1\")\n",
    "    # remove .csv suffix\n",
    "    df_file[\"name\"] = file[:-4]\n",
    "    possible_labels.append(file[:-4])\n",
    "    dataframes_list.append(df_file)\n",
    "    \n",
    "df_reference = pd.concat(dataframes_list)\n",
    "\n",
    "# map 'key' to integers (add a column 'key_numerical')\n",
    "key_map = dict(enumerate(df_reference['Key'].astype('category').cat.categories))\n",
    "key_mapping = {v: k for k, v in key_map.items()}\n",
    "\n",
    "df_reference['key_numerical'] = df_reference['Key'].map(key_mapping)\n",
    "\n",
    "# map 'name' to integers (add a column 'label')\n",
    "label_to_name_map = dict(enumerate(df_reference['name'].astype('category').cat.categories))\n",
    "name_to_label_map = {v: k for k, v in label_to_name_map.items()}\n",
    "\n",
    "df_reference['label'] = df_reference['name'].map(name_to_label_map)\n",
    "\n",
    "# re-organize dataframe to '{Label|Key Numerical|Shift[HD_mean|HD_std|DL_mean|DL_std}'\n",
    "df_reference = df_reference[['label', 'key_numerical', 'Shift', 'HD_mean', 'HD_std', 'DL_mean', 'DL_std']]"
   ]
  },
  {
   "cell_type": "markdown",
   "metadata": {},
   "source": [
    "Here's the mapping for the key and the name, as well as the representation of the dataframe : "
   ]
  },
  {
   "cell_type": "code",
   "execution_count": 60,
   "metadata": {},
   "outputs": [
    {
     "name": "stdout",
     "output_type": "stream",
     "text": [
      "KEY MAPPING\n",
      "{\"'\": 0, \"'&'\": 1, \"'('\": 2, \"','\": 3, \"'-'\": 4, \"'.'\": 5, \"'0'\": 6, \"'1'\": 7, \"';'\": 8, \"'?'\": 9, \"'B'\": 10, \"'C'\": 11, \"'D'\": 12, \"'E'\": 13, \"'G'\": 14, \"'H'\": 15, \"'I'\": 16, \"'J'\": 17, \"'K'\": 18, \"'M'\": 19, \"'P'\": 20, \"'S'\": 21, \"'V'\": 22, \"'W'\": 23, \"'X'\": 24, \"'Y'\": 25, \"'\\\\x01'\": 26, \"'_'\": 27, \"'a'\": 28, \"'b'\": 29, \"'c'\": 30, \"'d'\": 31, \"'e'\": 32, \"'f'\": 33, \"'g'\": 34, \"'h'\": 35, \"'i'\": 36, \"'j'\": 37, \"'k'\": 38, \"'l'\": 39, \"'m'\": 40, \"'n'\": 41, \"'o'\": 42, \"'p'\": 43, \"'q'\": 44, \"'r'\": 45, \"'s'\": 46, \"'t'\": 47, \"'u'\": 48, \"'v'\": 49, \"'w'\": 50, \"'x'\": 51, \"'y'\": 52, \"'z'\": 53, \"'Ã¨'\": 54, \"'Ã©'\": 55, \"'è'\": 56, \"'é'\": 57, 'Key.backspace': 58, 'Key.ctrl_l': 59, 'Key.enter': 60, 'Key.esc': 61, 'Key.right': 62, 'Key.shift': 63, 'Key.shift_r': 64, 'Key.space': 65}\n",
      "LABEL MAPPING\n",
      "{'andrieu': 0, 'benjamin': 1, 'hugo': 2, 'robin': 3, 'sylvain': 4, 'theotime': 5}\n",
      "DATAFRAME\n"
     ]
    },
    {
     "data": {
      "text/html": [
       "<div>\n",
       "<style scoped>\n",
       "    .dataframe tbody tr th:only-of-type {\n",
       "        vertical-align: middle;\n",
       "    }\n",
       "\n",
       "    .dataframe tbody tr th {\n",
       "        vertical-align: top;\n",
       "    }\n",
       "\n",
       "    .dataframe thead th {\n",
       "        text-align: right;\n",
       "    }\n",
       "</style>\n",
       "<table border=\"1\" class=\"dataframe\">\n",
       "  <thead>\n",
       "    <tr style=\"text-align: right;\">\n",
       "      <th></th>\n",
       "      <th>label</th>\n",
       "      <th>key_numerical</th>\n",
       "      <th>Shift</th>\n",
       "      <th>HD_mean</th>\n",
       "      <th>HD_std</th>\n",
       "      <th>DL_mean</th>\n",
       "      <th>DL_std</th>\n",
       "    </tr>\n",
       "  </thead>\n",
       "  <tbody>\n",
       "    <tr>\n",
       "      <th>0</th>\n",
       "      <td>0</td>\n",
       "      <td>63</td>\n",
       "      <td>1</td>\n",
       "      <td>0.253048</td>\n",
       "      <td>0.187260</td>\n",
       "      <td>-0.093205</td>\n",
       "      <td>0.228329</td>\n",
       "    </tr>\n",
       "    <tr>\n",
       "      <th>1</th>\n",
       "      <td>0</td>\n",
       "      <td>20</td>\n",
       "      <td>1</td>\n",
       "      <td>0.062200</td>\n",
       "      <td>0.014784</td>\n",
       "      <td>0.142200</td>\n",
       "      <td>0.028833</td>\n",
       "    </tr>\n",
       "    <tr>\n",
       "      <th>2</th>\n",
       "      <td>0</td>\n",
       "      <td>42</td>\n",
       "      <td>0</td>\n",
       "      <td>0.072855</td>\n",
       "      <td>0.010360</td>\n",
       "      <td>0.201289</td>\n",
       "      <td>0.289603</td>\n",
       "    </tr>\n",
       "    <tr>\n",
       "      <th>3</th>\n",
       "      <td>0</td>\n",
       "      <td>45</td>\n",
       "      <td>0</td>\n",
       "      <td>0.069390</td>\n",
       "      <td>0.011595</td>\n",
       "      <td>0.109506</td>\n",
       "      <td>0.117702</td>\n",
       "    </tr>\n",
       "    <tr>\n",
       "      <th>4</th>\n",
       "      <td>0</td>\n",
       "      <td>47</td>\n",
       "      <td>0</td>\n",
       "      <td>0.064707</td>\n",
       "      <td>0.010277</td>\n",
       "      <td>0.059780</td>\n",
       "      <td>0.062745</td>\n",
       "    </tr>\n",
       "  </tbody>\n",
       "</table>\n",
       "</div>"
      ],
      "text/plain": [
       "   label  key_numerical  Shift   HD_mean    HD_std   DL_mean    DL_std\n",
       "0      0             63      1  0.253048  0.187260 -0.093205  0.228329\n",
       "1      0             20      1  0.062200  0.014784  0.142200  0.028833\n",
       "2      0             42      0  0.072855  0.010360  0.201289  0.289603\n",
       "3      0             45      0  0.069390  0.011595  0.109506  0.117702\n",
       "4      0             47      0  0.064707  0.010277  0.059780  0.062745"
      ]
     },
     "execution_count": 60,
     "metadata": {},
     "output_type": "execute_result"
    }
   ],
   "source": [
    "print(\"KEY MAPPING\")\n",
    "print(key_mapping)\n",
    "print(\"LABEL MAPPING\")\n",
    "print(name_to_label_map)\n",
    "print(\"DATAFRAME\")\n",
    "df_reference.head()"
   ]
  },
  {
   "cell_type": "markdown",
   "metadata": {},
   "source": [
    "#### 9.1.2 - Unknown References"
   ]
  },
  {
   "cell_type": "markdown",
   "metadata": {},
   "source": [
    "Now, we need to get all files that we want to identify."
   ]
  },
  {
   "cell_type": "code",
   "execution_count": 61,
   "metadata": {},
   "outputs": [],
   "source": [
    "# import unknown into pandas dataframe\n",
    "files = [f for f in listdir(REFERENCE_UNKNOWN_FILEPATH) if isfile(join(REFERENCE_UNKNOWN_FILEPATH, f))]\n",
    "\n",
    "# concat reference files in one dataframe\n",
    "identification_list = []\n",
    "for file in files:\n",
    "    df_file = pd.read_csv(REFERENCE_UNKNOWN_FILEPATH + file, sep=\"|\", encoding = \"ISO-8859-1\")\n",
    "    # remove .csv suffix\n",
    "    df_file[\"name\"] = file[:-4]\n",
    "    identification_list.append(df_file)"
   ]
  },
  {
   "cell_type": "markdown",
   "metadata": {},
   "source": [
    "We perform modifications on the files we want to identify.\n",
    "\n",
    "1. Import data as dataframe\n",
    "2. Convert key to integer (key_numerical)\n",
    "    - if the key is not contained in the map, we delete the tuple because it never shows up in the reference and therefore isn't useful for identification\n",
    "    - otherwise convert key to integer\n",
    "3. Reorganize columns"
   ]
  },
  {
   "cell_type": "code",
   "execution_count": 62,
   "metadata": {},
   "outputs": [],
   "source": [
    "to_identify = []\n",
    "truths = []\n",
    "for df_reidentification in identification_list:\n",
    "    df_reidentification['key_numerical'] = np.nan\n",
    "    # use previous key mapping to translate key as string to key as integers\n",
    "    df_reidentification['key_numerical'] = df_reidentification['Key'].apply(lambda x: key_mapping[x] if x in key_mapping else None)\n",
    "    # drop key combinations which do not help in identification because they never appear in references\n",
    "    df_reidentification = df_reidentification.dropna()\n",
    "\n",
    "    # process name tappend to truths\n",
    "    # ex: unknown_benjamin_1.csv -> benjamin\n",
    "    name = df_reidentification['name'][0]\n",
    "    name = name.split('_')[0]\n",
    "    truths.append(name)\n",
    "    \n",
    "    # re-organize dataframe to '{Key Numerical|Shift[HD_mean|HD_std|DL_mean|DL_std}'\n",
    "    df_identify = df_reidentification[['key_numerical', 'Shift', 'HD_mean', 'HD_std', 'DL_mean', 'DL_std']]\n",
    "    to_identify.append(df_identify)"
   ]
  },
  {
   "cell_type": "markdown",
   "metadata": {},
   "source": [
    "Here's what an identification file looks like, as well as the list of files we want to identify."
   ]
  },
  {
   "cell_type": "code",
   "execution_count": 63,
   "metadata": {},
   "outputs": [
    {
     "name": "stdout",
     "output_type": "stream",
     "text": [
      "Files to identify:  ['andrieu', 'andrieu', 'andrieu', 'andrieu', 'andrieu', 'andrieu', 'andrieu', 'benjamin', 'benjamin', 'benjamin', 'benjamin', 'benjamin', 'theotime']\n"
     ]
    },
    {
     "data": {
      "text/html": [
       "<div>\n",
       "<style scoped>\n",
       "    .dataframe tbody tr th:only-of-type {\n",
       "        vertical-align: middle;\n",
       "    }\n",
       "\n",
       "    .dataframe tbody tr th {\n",
       "        vertical-align: top;\n",
       "    }\n",
       "\n",
       "    .dataframe thead th {\n",
       "        text-align: right;\n",
       "    }\n",
       "</style>\n",
       "<table border=\"1\" class=\"dataframe\">\n",
       "  <thead>\n",
       "    <tr style=\"text-align: right;\">\n",
       "      <th></th>\n",
       "      <th>key_numerical</th>\n",
       "      <th>Shift</th>\n",
       "      <th>HD_mean</th>\n",
       "      <th>HD_std</th>\n",
       "      <th>DL_mean</th>\n",
       "      <th>DL_std</th>\n",
       "    </tr>\n",
       "  </thead>\n",
       "  <tbody>\n",
       "    <tr>\n",
       "      <th>0</th>\n",
       "      <td>63.0</td>\n",
       "      <td>1</td>\n",
       "      <td>0.246600</td>\n",
       "      <td>0.042617</td>\n",
       "      <td>-0.094800</td>\n",
       "      <td>0.021903</td>\n",
       "    </tr>\n",
       "    <tr>\n",
       "      <th>1</th>\n",
       "      <td>23.0</td>\n",
       "      <td>1</td>\n",
       "      <td>0.042000</td>\n",
       "      <td>0.000000</td>\n",
       "      <td>0.187000</td>\n",
       "      <td>0.000000</td>\n",
       "    </tr>\n",
       "    <tr>\n",
       "      <th>2</th>\n",
       "      <td>36.0</td>\n",
       "      <td>0</td>\n",
       "      <td>0.067217</td>\n",
       "      <td>0.006560</td>\n",
       "      <td>0.109000</td>\n",
       "      <td>0.038187</td>\n",
       "    </tr>\n",
       "    <tr>\n",
       "      <th>3</th>\n",
       "      <td>41.0</td>\n",
       "      <td>0</td>\n",
       "      <td>0.072500</td>\n",
       "      <td>0.011440</td>\n",
       "      <td>0.282077</td>\n",
       "      <td>0.546691</td>\n",
       "    </tr>\n",
       "    <tr>\n",
       "      <th>4</th>\n",
       "      <td>46.0</td>\n",
       "      <td>0</td>\n",
       "      <td>0.077250</td>\n",
       "      <td>0.013453</td>\n",
       "      <td>0.309821</td>\n",
       "      <td>0.394215</td>\n",
       "    </tr>\n",
       "  </tbody>\n",
       "</table>\n",
       "</div>"
      ],
      "text/plain": [
       "   key_numerical  Shift   HD_mean    HD_std   DL_mean    DL_std\n",
       "0           63.0      1  0.246600  0.042617 -0.094800  0.021903\n",
       "1           23.0      1  0.042000  0.000000  0.187000  0.000000\n",
       "2           36.0      0  0.067217  0.006560  0.109000  0.038187\n",
       "3           41.0      0  0.072500  0.011440  0.282077  0.546691\n",
       "4           46.0      0  0.077250  0.013453  0.309821  0.394215"
      ]
     },
     "execution_count": 63,
     "metadata": {},
     "output_type": "execute_result"
    }
   ],
   "source": [
    "print(\"Files to identify: \", truths)\n",
    "to_identify[0].head()"
   ]
  },
  {
   "cell_type": "markdown",
   "metadata": {},
   "source": [
    "#### 9.1.3 - Manhattan Distance Evaluation"
   ]
  },
  {
   "cell_type": "markdown",
   "metadata": {},
   "source": [
    "We now use our models to make predictions.\n",
    "Given the array of predictions and the array of \"truths\", we can evaluate our models."
   ]
  },
  {
   "cell_type": "code",
   "execution_count": 64,
   "metadata": {},
   "outputs": [
    {
     "name": "stdout",
     "output_type": "stream",
     "text": [
      "1 / 13 SMD- Predicting Class:  theotime\n",
      "2 / 13 SMD- Predicting Class:  andrieu\n",
      "3 / 13 SMD- Predicting Class:  theotime\n",
      "4 / 13 SMD- Predicting Class:  andrieu\n",
      "5 / 13 SMD- Predicting Class:  andrieu\n",
      "6 / 13 SMD- Predicting Class:  theotime\n",
      "7 / 13 SMD- Predicting Class:  theotime\n",
      "8 / 13 SMD- Predicting Class:  andrieu\n",
      "9 / 13 SMD- Predicting Class:  andrieu\n",
      "10 / 13 SMD- Predicting Class:  andrieu\n",
      "11 / 13 SMD- Predicting Class:  andrieu\n",
      "12 / 13 SMD- Predicting Class:  andrieu\n",
      "13 / 13 SMD- Predicting Class:  andrieu\n",
      "---\n",
      "Manhattan Distance:\n",
      "Final accuracy for all predictions:  0.23076923076923078\n",
      "Final f1-score for all predictions:  0.20192307692307693\n"
     ]
    }
   ],
   "source": [
    "scaled_df_reference, scaled_to_identify = scale(df_reference, to_identify)\n",
    "smd_pred = pred_SMD(scaled_df_reference, scaled_to_identify, verbose=True)\n",
    "smd_acc = accuracy_score(truths, smd_pred)\n",
    "smd_f1 = f1_score(truths, smd_pred, labels=possible_labels, average='weighted', zero_division=1)\n",
    "print(\"---\\nManhattan Distance:\")\n",
    "print(\"Final accuracy for all predictions: \",smd_acc)\n",
    "print(\"Final f1-score for all predictions: \",smd_f1)"
   ]
  },
  {
   "cell_type": "markdown",
   "metadata": {},
   "source": [
    "#### 9.1.4 - Decision Tree Evaluation"
   ]
  },
  {
   "cell_type": "code",
   "execution_count": 65,
   "metadata": {},
   "outputs": [
    {
     "name": "stdout",
     "output_type": "stream",
     "text": [
      "1 / 13 - Predicting Class:  andrieu , with Proba:  0.3611111111111111\n",
      "2 / 13 - Predicting Class:  andrieu , with Proba:  0.2857142857142857\n",
      "3 / 13 - Predicting Class:  andrieu , with Proba:  0.42105263157894735\n",
      "4 / 13 - Predicting Class:  andrieu , with Proba:  0.3888888888888889\n",
      "5 / 13 - Predicting Class:  andrieu , with Proba:  0.3783783783783784\n",
      "6 / 13 - Predicting Class:  andrieu , with Proba:  0.42424242424242425\n",
      "7 / 13 - Predicting Class:  andrieu , with Proba:  0.4358974358974359\n",
      "8 / 13 - Predicting Class:  robin , with Proba:  0.28888888888888886\n",
      "9 / 13 - Predicting Class:  sylvain , with Proba:  0.24390243902439024\n",
      "10 / 13 - Predicting Class:  benjamin , with Proba:  0.32558139534883723\n",
      "11 / 13 - Predicting Class:  benjamin , with Proba:  0.38461538461538464\n",
      "12 / 13 - Predicting Class:  benjamin , with Proba:  0.42105263157894735\n",
      "13 / 13 - Predicting Class:  theotime , with Proba:  0.7380952380952381\n",
      "---\n",
      "Decision Tree:\n",
      "Final accuracy for all predictions:  0.8461538461538461\n",
      "Final f1-score for all predictions:  0.9038461538461539\n",
      "Final crossentropy log loss for all predictions:  1.0370513585308514\n",
      "Final area under ROC for all predictions:  0.9714285714285714\n"
     ]
    }
   ],
   "source": [
    "clf = fit_tree(df_reference)\n",
    "tree_pred, tree_prob = pred_tree(to_identify, clf, verbose=True)\n",
    "tree_acc = accuracy_score(truths, tree_pred)\n",
    "tree_f1 = f1_score(truths, tree_pred, labels=possible_labels, average='weighted', zero_division=1)\n",
    "tree_log_loss = log_loss(truths, tree_prob, labels=possible_labels)\n",
    "tree_roc = roc_auc_score(truths, tree_prob, labels=possible_labels, multi_class='ovo')\n",
    "print(\"---\\nDecision Tree:\")\n",
    "print(\"Final accuracy for all predictions: \",tree_acc)\n",
    "print(\"Final f1-score for all predictions: \",tree_f1)\n",
    "print(\"Final crossentropy log loss for all predictions: \",tree_log_loss)\n",
    "print(\"Final area under ROC for all predictions: \",tree_roc)"
   ]
  },
  {
   "cell_type": "markdown",
   "metadata": {},
   "source": [
    "#### 9.1.5 - Keyboard Image Mapping Evaluation"
   ]
  },
  {
   "cell_type": "code",
   "execution_count": 66,
   "metadata": {},
   "outputs": [
    {
     "name": "stdout",
     "output_type": "stream",
     "text": [
      "Keyboard Image Mapping:\n",
      "Final accuracy for all predictions: 0.6153846153846154\n",
      "Final f1-score for all predictions: 0.611111111111111\n"
     ]
    }
   ],
   "source": [
    "accuracy = 0\n",
    "count = 0\n",
    "kim_pred = []\n",
    "for file in listdir(HEATMAP_UNKNOWN_REFERENCE+'/colormap'):\n",
    "    target_img = cv2.imread(HEATMAP_UNKNOWN_REFERENCE+'/colormap/'+file)#, cv2.IMREAD_GRAYSCALE)\n",
    "    bf = cv2.BFMatcher(cv2.NORM_HAMMING)\n",
    "    detector = cv2.ORB_create()\n",
    "    (target_kp, target_des) = detector.detectAndCompute(target_img, None)\n",
    "    target = file.split('_')[0]\n",
    "    recog_user = ''\n",
    "    val = 9999999\n",
    "    for file in listdir(HEATMAP_REFERENCE+'/colormap'):\n",
    "        \"\"\"if file == '.DS_Store' or file == TARGET_FILE:\n",
    "            continue\n",
    "        \"\"\"\n",
    "        comparing_img_path = HEATMAP_REFERENCE+'/colormap/'+ file\n",
    "        try:\n",
    "            comparing_img = cv2.imread(comparing_img_path)#, cv2.IMREAD_GRAYSCALE)\n",
    "            #comparing_img = cv2.resize(comparing_img, IMG_SIZE)\n",
    "            (comparing_kp, comparing_des) = detector.detectAndCompute(comparing_img, None)\n",
    "            matches = bf.match(target_des, comparing_des)\n",
    "            dist = [m.distance for m in matches]\n",
    "            ret = sum(dist) / len(dist)\n",
    "            if ret < val:\n",
    "                val = ret\n",
    "                recog_user = file.split('.')[0]\n",
    "        except cv2.error:\n",
    "            ret = 100000\n",
    "    count +=1\n",
    "    kim_pred.append(recog_user)\n",
    "    if recog_user == target:\n",
    "        accuracy +=1\n",
    "accuracy = accuracy / count\n",
    "print('Keyboard Image Mapping:')\n",
    "print('Final accuracy for all predictions: ' +str(accuracy_score(truths, kim_pred)))\n",
    "print(\"Final f1-score for all predictions: \"+str(f1_score(truths, kim_pred, labels=possible_labels, average='weighted', zero_division=1)))\n"
   ]
  },
  {
   "cell_type": "markdown",
   "metadata": {},
   "source": [
    "<a name='10'></a>\n",
    "## 10 - Conclusion"
   ]
  },
  {
   "cell_type": "markdown",
   "metadata": {},
   "source": [
    "##### To what extent can we identify users only using their keystrokes signature?\n",
    "Our 3 models show different results in accuracy, with scaled manhattan distance at 20%, Keyboard image mapping at 60%, Decision Tree at 80-90%. With the high accuracy of over 80%, we can determine that we are able to identify users by only using their keystroles.\n",
    "    \n",
    "##### Has the keyboard layout an influence on the users keystroke profile?\n",
    "We unfortunately were not able to compare the influence of the keyboard layout because the way we acquire the keylog data does not work when using different keyboard layouts. The input from other keyboard layout could not be processed by the pinput library. We believe that the layout would make a difference if it worked, because the time needed to press some keys is very different on different layouts, and the distances between the keys are different too.\n",
    "\n",
    "##### What are the most important (i.e discriminant) features extractable from the data?\n",
    "The temporal features [Hold duration] and [Dwell time] are needed to be able to identify users. By adding a boolean for when shift is activated, we were able to add further information useful in the learning process, because users might press keys differently while holding down shift. This could be extended to other special keys in a more advanced model. The model could also be expanded by including Hold duration and Dwell time metrics between digraphs (two key presses that follow one another). We believe that this would improve the model, but it would require a lot more training and testing data because these digraphs would only be very sparsely populated with metrics given our amount of data."
   ]
  }
 ],
 "metadata": {
  "kernelspec": {
   "display_name": "Python 3",
   "language": "python",
   "name": "python3"
  },
  "language_info": {
   "codemirror_mode": {
    "name": "ipython",
    "version": 3
   },
   "file_extension": ".py",
   "mimetype": "text/x-python",
   "name": "python",
   "nbconvert_exporter": "python",
   "pygments_lexer": "ipython3",
   "version": "3.8.5"
  }
 },
 "nbformat": 4,
 "nbformat_minor": 4
}
