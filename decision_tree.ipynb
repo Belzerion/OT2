{
 "cells": [
  {
   "cell_type": "markdown",
   "id": "a07bdd06",
   "metadata": {
    "pycharm": {
     "name": "#%% md\n"
    }
   },
   "source": [
    "# Decision Tree Method\n",
    "\n",
    "This notebook focuses on implementing the decision tree method to study keystroke dynamics "
   ]
  },
  {
   "cell_type": "markdown",
   "id": "2ffa3ae1",
   "metadata": {
    "pycharm": {
     "name": "#%% md\n"
    }
   },
   "source": [
    "## List of imports"
   ]
  },
  {
   "cell_type": "code",
   "execution_count": 1,
   "id": "50b5e08d",
   "metadata": {},
   "outputs": [],
   "source": [
    "from sklearn import tree\n",
    "import pandas as pd\n",
    "import numpy as np"
   ]
  },
  {
   "cell_type": "markdown",
   "id": "b6136f6a",
   "metadata": {
    "pycharm": {
     "name": "#%% md\n"
    }
   },
   "source": [
    "## Pre-processing\n",
    "\n",
    "**Input:** reference files per user with the following format ``{Key|Shift|HD_mean|HD_std|DL_mean|DL_std}`` \\\n",
    "**Output:** one file with all reference files to perform decision tree classifier with the following format \n",
    "``{Label|Key Numerical|Shift[HD_mean|HD_std|DL_mean|DL_std}``\n",
    "\n",
    "1. We need to add an attribute `name` to the data to identify the user\n",
    "2. We need to merge all references in one pandas dataframe\n",
    "3. The `key` values must have an integer value\n",
    "4. The `name` values must have an integer value"
   ]
  },
  {
   "cell_type": "code",
   "execution_count": 2,
   "id": "dd6afb8d",
   "metadata": {},
   "outputs": [],
   "source": [
    "# import reference into pandas dataframe\n",
    "\n",
    "files = [\"benjamin\", \"hugo\"]\n",
    "\n",
    "# concat reference files in one dataframe\n",
    "dataframes_list = []\n",
    "for file in files:\n",
    "    df_file = pd.read_csv(\"reference_1/\" + file + \".csv\", sep=\"|\", encoding = \"ISO-8859-1\")\n",
    "    df_file[\"name\"] = file\n",
    "    dataframes_list.append(df_file)\n",
    "    \n",
    "df_reference = pd.concat(dataframes_list)\n",
    "\n",
    "# map 'key' to integers (add a column 'key_numerical')\n",
    "key_map = dict(enumerate(df_reference['Key'].astype('category').cat.categories))\n",
    "key_mapping = {v: k for k, v in key_map.items()}\n",
    "\n",
    "df_reference['key_numerical'] = df_reference['Key'].map(key_mapping)\n",
    "\n",
    "# map 'name' to intgers (add a column 'label')\n",
    "label_map = dict(enumerate(df_reference['name'].astype('category').cat.categories))\n",
    "label_mapping = {v: k for k, v in label_map.items()}\n",
    "\n",
    "df_reference['label'] = df_reference['name'].map(label_mapping)\n",
    "\n",
    "# re-organize dataframe to '{Label|Key Numerical|Shift[HD_mean|HD_std|DL_mean|DL_std}'\n",
    "df_reference = df_reference[['label', 'key_numerical', 'Shift', 'HD_mean', 'HD_std', 'DL_mean', 'DL_std']]\n",
    "\n"
   ]
  },
  {
   "cell_type": "markdown",
   "source": [
    "Here's the mapping for the key and the name, as well as the representation of the dataframe : "
   ],
   "metadata": {
    "collapsed": false
   }
  },
  {
   "cell_type": "code",
   "execution_count": null,
   "outputs": [],
   "source": [
    "print(\"KEY MAPPING\")\n",
    "print(key_mapping)\n",
    "print(\"LABEL MAPPING\")\n",
    "print(label_mapping)\n",
    "print(\"DATAFRAME\")\n",
    "df_reference.head()"
   ],
   "metadata": {
    "collapsed": false,
    "pycharm": {
     "name": "#%%\n"
    }
   }
  },
  {
   "cell_type": "markdown",
   "source": [
    "Now, we need to perform modifications on the file we want to re-identify \n",
    "\n",
    "1. Import data as dataframe\n",
    "2. Convert key as integer (key_numerical)\n",
    "    - if the key is not contained in the map, we must delete the tuple\n",
    "    - otherwise convert key to integer\n",
    "3. Reorganize columns"
   ],
   "metadata": {
    "collapsed": false
   }
  },
  {
   "cell_type": "code",
   "execution_count": null,
   "outputs": [],
   "source": [
    "# Set filename that we want to reidentify, should be in 'reference_1/' directory\n",
    "reidentification_file = 'benjamin'\n",
    "\n",
    "# export data to dataframe\n",
    "df_reidentification = pd.read_csv(\"reference_1/\" + reidentification_file + \".csv\", sep=\"|\", encoding = \"ISO-8859-1\")\n",
    "\n",
    "# use previous key mapping to translate key as string to key as integers\n",
    "df_reidentification['key_numerical'] = np.nan\n",
    "df_reidentification['key_numerical'] = df_reidentification['Key'].apply(lambda x: key_mapping[x])\n",
    "\n",
    "# re-organize dataframe to '{Key Numerical|Shift[HD_mean|HD_std|DL_mean|DL_std}'\n",
    "df_reidentification = df_reidentification[['key_numerical', 'Shift', 'HD_mean', 'HD_std', 'DL_mean', 'DL_std']]\n"
   ],
   "metadata": {
    "collapsed": false,
    "pycharm": {
     "name": "#%%\n"
    }
   }
  },
  {
   "cell_type": "markdown",
   "source": [
    "Here's what the reidentification file look like"
   ],
   "metadata": {
    "collapsed": false
   }
  },
  {
   "cell_type": "code",
   "execution_count": null,
   "outputs": [],
   "source": [
    "df_reidentification.head()"
   ],
   "metadata": {
    "collapsed": false,
    "pycharm": {
     "name": "#%%\n"
    }
   }
  },
  {
   "cell_type": "markdown",
   "source": [
    "## Decision Tree Implementation"
   ],
   "metadata": {
    "collapsed": false
   }
  },
  {
   "cell_type": "code",
   "execution_count": null,
   "outputs": [],
   "source": [
    "features = [\"key_numerical\", \"Shift\", \"HD_mean\", \"HD_std\", \"DL_mean\", \"DL_std\"]\n",
    "target = \"label\"\n",
    "\n",
    "Y_reference = df_reference[target]\n",
    "X_reference = df_reference[features]\n",
    "\n",
    "clf = tree.DecisionTreeClassifier()\n",
    "clf = clf.fit(X_reference, Y_reference)"
   ],
   "metadata": {
    "collapsed": false,
    "pycharm": {
     "name": "#%%\n"
    }
   }
  },
  {
   "cell_type": "code",
   "execution_count": null,
   "outputs": [],
   "source": [
    "clf.predict(df_reidentification)"
   ],
   "metadata": {
    "collapsed": false,
    "pycharm": {
     "name": "#%%\n"
    }
   }
  },
  {
   "cell_type": "code",
   "execution_count": null,
   "outputs": [],
   "source": [
    "clf.predict_proba(df_reidentification)"
   ],
   "metadata": {
    "collapsed": false,
    "pycharm": {
     "name": "#%%\n"
    }
   }
  },
  {
   "cell_type": "markdown",
   "id": "7d4f8a44",
   "metadata": {},
   "source": []
  },
  {
   "cell_type": "code",
   "execution_count": 3,
   "id": "606e9d5d",
   "metadata": {},
   "outputs": [
    {
     "name": "stdout",
     "output_type": "stream",
     "text": [
      "KEY MAPPING\n",
      "{\"'\": 0, \"'&'\": 1, \"'('\": 2, \"','\": 3, \"'-'\": 4, \"'.'\": 5, \"'?'\": 6, \"'B'\": 7, \"'C'\": 8, \"'D'\": 9, \"'H'\": 10, \"'J'\": 11, \"'K'\": 12, \"'M'\": 13, \"'P'\": 14, \"'S'\": 15, \"'W'\": 16, \"'X'\": 17, \"'Y'\": 18, \"'\\\\x01'\": 19, \"'a'\": 20, \"'b'\": 21, \"'c'\": 22, \"'d'\": 23, \"'e'\": 24, \"'f'\": 25, \"'g'\": 26, \"'h'\": 27, \"'i'\": 28, \"'j'\": 29, \"'k'\": 30, \"'l'\": 31, \"'m'\": 32, \"'n'\": 33, \"'o'\": 34, \"'p'\": 35, \"'q'\": 36, \"'r'\": 37, \"'s'\": 38, \"'t'\": 39, \"'u'\": 40, \"'v'\": 41, \"'w'\": 42, \"'x'\": 43, \"'y'\": 44, \"'z'\": 45, \"'è'\": 46, \"'é'\": 47, 'Key.backspace': 48, 'Key.ctrl_l': 49, 'Key.enter': 50, 'Key.esc': 51, 'Key.right': 52, 'Key.shift': 53, 'Key.space': 54}\n",
      "LABEL MAPPING\n",
      "{'benjamin': 0, 'hugo': 1}\n",
      "DATAFRAME\n"
     ]
    },
    {
     "data": {
      "text/html": [
       "<div>\n",
       "<style scoped>\n",
       "    .dataframe tbody tr th:only-of-type {\n",
       "        vertical-align: middle;\n",
       "    }\n",
       "\n",
       "    .dataframe tbody tr th {\n",
       "        vertical-align: top;\n",
       "    }\n",
       "\n",
       "    .dataframe thead th {\n",
       "        text-align: right;\n",
       "    }\n",
       "</style>\n",
       "<table border=\"1\" class=\"dataframe\">\n",
       "  <thead>\n",
       "    <tr style=\"text-align: right;\">\n",
       "      <th></th>\n",
       "      <th>label</th>\n",
       "      <th>key_numerical</th>\n",
       "      <th>Shift</th>\n",
       "      <th>HD_mean</th>\n",
       "      <th>HD_std</th>\n",
       "      <th>DL_mean</th>\n",
       "      <th>DL_std</th>\n",
       "    </tr>\n",
       "  </thead>\n",
       "  <tbody>\n",
       "    <tr>\n",
       "      <th>0</th>\n",
       "      <td>0</td>\n",
       "      <td>53</td>\n",
       "      <td>1</td>\n",
       "      <td>0.260692</td>\n",
       "      <td>0.194857</td>\n",
       "      <td>-0.119282</td>\n",
       "      <td>0.216057</td>\n",
       "    </tr>\n",
       "    <tr>\n",
       "      <th>1</th>\n",
       "      <td>0</td>\n",
       "      <td>14</td>\n",
       "      <td>1</td>\n",
       "      <td>0.097000</td>\n",
       "      <td>0.012617</td>\n",
       "      <td>0.127600</td>\n",
       "      <td>0.032463</td>\n",
       "    </tr>\n",
       "    <tr>\n",
       "      <th>2</th>\n",
       "      <td>0</td>\n",
       "      <td>34</td>\n",
       "      <td>0</td>\n",
       "      <td>0.079286</td>\n",
       "      <td>0.014217</td>\n",
       "      <td>0.119584</td>\n",
       "      <td>0.202539</td>\n",
       "    </tr>\n",
       "    <tr>\n",
       "      <th>3</th>\n",
       "      <td>0</td>\n",
       "      <td>37</td>\n",
       "      <td>0</td>\n",
       "      <td>0.082557</td>\n",
       "      <td>0.020573</td>\n",
       "      <td>0.069759</td>\n",
       "      <td>0.092685</td>\n",
       "    </tr>\n",
       "    <tr>\n",
       "      <th>4</th>\n",
       "      <td>0</td>\n",
       "      <td>39</td>\n",
       "      <td>0</td>\n",
       "      <td>0.081304</td>\n",
       "      <td>0.011329</td>\n",
       "      <td>0.052630</td>\n",
       "      <td>0.073434</td>\n",
       "    </tr>\n",
       "  </tbody>\n",
       "</table>\n",
       "</div>"
      ],
      "text/plain": [
       "   label  key_numerical  Shift   HD_mean    HD_std   DL_mean    DL_std\n",
       "0      0             53      1  0.260692  0.194857 -0.119282  0.216057\n",
       "1      0             14      1  0.097000  0.012617  0.127600  0.032463\n",
       "2      0             34      0  0.079286  0.014217  0.119584  0.202539\n",
       "3      0             37      0  0.082557  0.020573  0.069759  0.092685\n",
       "4      0             39      0  0.081304  0.011329  0.052630  0.073434"
      ]
     },
     "execution_count": 3,
     "metadata": {},
     "output_type": "execute_result"
    }
   ],
   "source": [
    "print(\"KEY MAPPING\")\n",
    "print(key_mapping)\n",
    "print(\"LABEL MAPPING\")\n",
    "print(label_mapping)\n",
    "print(\"DATAFRAME\")\n",
    "df_reference.head()"
   ]
  },
  {
   "cell_type": "markdown",
   "id": "179ffeac",
   "metadata": {},
   "source": [
    "Now, we need to perform modifications on the file we want to re-identify \n",
    "\n",
    "1. Import data as dataframe\n",
    "2. Convert key as integer (key_numerical)\n",
    "    - if the key is not contained in the map, we must delete the tuple\n",
    "    - otherwise convert key to integer\n",
    "3. Reorganize columns"
   ]
  },
  {
   "cell_type": "code",
   "execution_count": 5,
   "id": "5a4d0179",
   "metadata": {
    "scrolled": true
   },
   "outputs": [],
   "source": [
    "# Set filename that we want to reidentify, should be in 'reference_1/' directory\n",
    "reidentification_file = 'benjamin'\n",
    "\n",
    "# export data to dataframe\n",
    "df_reidentification = pd.read_csv(\"reference_1/\" + reidentification_file + \".csv\", sep=\"|\", encoding = \"ISO-8859-1\")\n",
    "\n",
    "# use previous key mapping to translate key as string to key as integers\n",
    "df_reidentification['key_numerical'] = np.nan\n",
    "df_reidentification['key_numerical'] = df_reidentification['Key'].apply(lambda x: key_mapping[x])\n",
    "\n",
    "# re-organize dataframe to '{Key Numerical|Shift[HD_mean|HD_std|DL_mean|DL_std}'\n",
    "df_reidentification = df_reidentification[['key_numerical', 'Shift', 'HD_mean', 'HD_std', 'DL_mean', 'DL_std']]\n"
   ]
  },
  {
   "cell_type": "markdown",
   "id": "52ef0742",
   "metadata": {},
   "source": [
    "Here's what the reidentification file look like"
   ]
  },
  {
   "cell_type": "code",
   "execution_count": 6,
   "id": "38e4b5ee",
   "metadata": {},
   "outputs": [
    {
     "data": {
      "text/html": [
       "<div>\n",
       "<style scoped>\n",
       "    .dataframe tbody tr th:only-of-type {\n",
       "        vertical-align: middle;\n",
       "    }\n",
       "\n",
       "    .dataframe tbody tr th {\n",
       "        vertical-align: top;\n",
       "    }\n",
       "\n",
       "    .dataframe thead th {\n",
       "        text-align: right;\n",
       "    }\n",
       "</style>\n",
       "<table border=\"1\" class=\"dataframe\">\n",
       "  <thead>\n",
       "    <tr style=\"text-align: right;\">\n",
       "      <th></th>\n",
       "      <th>key_numerical</th>\n",
       "      <th>Shift</th>\n",
       "      <th>HD_mean</th>\n",
       "      <th>HD_std</th>\n",
       "      <th>DL_mean</th>\n",
       "      <th>DL_std</th>\n",
       "    </tr>\n",
       "  </thead>\n",
       "  <tbody>\n",
       "    <tr>\n",
       "      <th>0</th>\n",
       "      <td>53</td>\n",
       "      <td>1</td>\n",
       "      <td>0.260692</td>\n",
       "      <td>0.194857</td>\n",
       "      <td>-0.119282</td>\n",
       "      <td>0.216057</td>\n",
       "    </tr>\n",
       "    <tr>\n",
       "      <th>1</th>\n",
       "      <td>14</td>\n",
       "      <td>1</td>\n",
       "      <td>0.097000</td>\n",
       "      <td>0.012617</td>\n",
       "      <td>0.127600</td>\n",
       "      <td>0.032463</td>\n",
       "    </tr>\n",
       "    <tr>\n",
       "      <th>2</th>\n",
       "      <td>34</td>\n",
       "      <td>0</td>\n",
       "      <td>0.079286</td>\n",
       "      <td>0.014217</td>\n",
       "      <td>0.119584</td>\n",
       "      <td>0.202539</td>\n",
       "    </tr>\n",
       "    <tr>\n",
       "      <th>3</th>\n",
       "      <td>37</td>\n",
       "      <td>0</td>\n",
       "      <td>0.082557</td>\n",
       "      <td>0.020573</td>\n",
       "      <td>0.069759</td>\n",
       "      <td>0.092685</td>\n",
       "    </tr>\n",
       "    <tr>\n",
       "      <th>4</th>\n",
       "      <td>39</td>\n",
       "      <td>0</td>\n",
       "      <td>0.081304</td>\n",
       "      <td>0.011329</td>\n",
       "      <td>0.052630</td>\n",
       "      <td>0.073434</td>\n",
       "    </tr>\n",
       "  </tbody>\n",
       "</table>\n",
       "</div>"
      ],
      "text/plain": [
       "   key_numerical  Shift   HD_mean    HD_std   DL_mean    DL_std\n",
       "0             53      1  0.260692  0.194857 -0.119282  0.216057\n",
       "1             14      1  0.097000  0.012617  0.127600  0.032463\n",
       "2             34      0  0.079286  0.014217  0.119584  0.202539\n",
       "3             37      0  0.082557  0.020573  0.069759  0.092685\n",
       "4             39      0  0.081304  0.011329  0.052630  0.073434"
      ]
     },
     "execution_count": 6,
     "metadata": {},
     "output_type": "execute_result"
    }
   ],
   "source": [
    "df_reidentification.head()"
   ]
  },
  {
   "cell_type": "markdown",
   "id": "cab41c9a",
   "metadata": {},
   "source": [
    "## Decision Tree Implementation"
   ]
  },
  {
   "cell_type": "code",
   "execution_count": 9,
   "id": "5f27cb51",
   "metadata": {},
   "outputs": [],
   "source": [
    "features = [\"key_numerical\", \"Shift\", \"HD_mean\", \"HD_std\", \"DL_mean\", \"DL_std\"]\n",
    "target = \"label\"\n",
    "\n",
    "Y_reference = df_reference[target]\n",
    "X_reference = df_reference[features]\n",
    "\n",
    "clf = tree.DecisionTreeClassifier()\n",
    "clf = clf.fit(X_reference, Y_reference)"
   ]
  },
  {
   "cell_type": "code",
   "execution_count": 11,
   "id": "f6c63b85",
   "metadata": {},
   "outputs": [
    {
     "data": {
      "text/plain": [
       "array([0, 0, 0, 0, 0, 0, 0, 0, 0, 0, 0, 0, 0, 0, 0, 0, 0, 0, 0, 0, 0, 0,\n",
       "       0, 0, 0, 0, 0, 0, 0, 0, 0, 0, 0, 0, 0, 0, 0, 0, 0, 0, 0, 0, 0, 0,\n",
       "       0, 0, 0, 0, 0, 0, 0], dtype=int64)"
      ]
     },
     "execution_count": 11,
     "metadata": {},
     "output_type": "execute_result"
    }
   ],
   "source": [
    "clf.predict(df_reidentification)"
   ]
  },
  {
   "cell_type": "code",
   "execution_count": 14,
   "id": "51b9c6d1",
   "metadata": {},
   "outputs": [
    {
     "data": {
      "text/plain": [
       "array([[1., 0.],\n",
       "       [1., 0.],\n",
       "       [1., 0.],\n",
       "       [1., 0.],\n",
       "       [1., 0.],\n",
       "       [1., 0.],\n",
       "       [1., 0.],\n",
       "       [1., 0.],\n",
       "       [1., 0.],\n",
       "       [1., 0.],\n",
       "       [1., 0.],\n",
       "       [1., 0.],\n",
       "       [1., 0.],\n",
       "       [1., 0.],\n",
       "       [1., 0.],\n",
       "       [1., 0.],\n",
       "       [1., 0.],\n",
       "       [1., 0.],\n",
       "       [1., 0.],\n",
       "       [1., 0.],\n",
       "       [1., 0.],\n",
       "       [1., 0.],\n",
       "       [1., 0.],\n",
       "       [1., 0.],\n",
       "       [1., 0.],\n",
       "       [1., 0.],\n",
       "       [1., 0.],\n",
       "       [1., 0.],\n",
       "       [1., 0.],\n",
       "       [1., 0.],\n",
       "       [1., 0.],\n",
       "       [1., 0.],\n",
       "       [1., 0.],\n",
       "       [1., 0.],\n",
       "       [1., 0.],\n",
       "       [1., 0.],\n",
       "       [1., 0.],\n",
       "       [1., 0.],\n",
       "       [1., 0.],\n",
       "       [1., 0.],\n",
       "       [1., 0.],\n",
       "       [1., 0.],\n",
       "       [1., 0.],\n",
       "       [1., 0.],\n",
       "       [1., 0.],\n",
       "       [1., 0.],\n",
       "       [1., 0.],\n",
       "       [1., 0.],\n",
       "       [1., 0.],\n",
       "       [1., 0.],\n",
       "       [1., 0.]])"
      ]
     },
     "execution_count": 14,
     "metadata": {},
     "output_type": "execute_result"
    }
   ],
   "source": [
    "clf.predict_proba(df_reidentification)"
   ]
  },
  {
   "cell_type": "code",
   "execution_count": null,
   "id": "4da6adab",
   "metadata": {},
   "outputs": [],
   "source": []
  }
 ],
 "metadata": {
  "kernelspec": {
   "display_name": "Python 3",
   "language": "python",
   "name": "python3"
  },
  "language_info": {
   "codemirror_mode": {
    "name": "ipython",
    "version": 3
   },
   "file_extension": ".py",
   "mimetype": "text/x-python",
   "name": "python",
   "nbconvert_exporter": "python",
   "pygments_lexer": "ipython3",
   "version": "3.8.8"
  }
 },
 "nbformat": 4,
 "nbformat_minor": 5
}