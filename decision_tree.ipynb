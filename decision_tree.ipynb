{
 "cells": [
  {
   "cell_type": "markdown",
   "id": "a07bdd06",
   "metadata": {
    "pycharm": {
     "name": "#%% md\n"
    }
   },
   "source": [
    "# Decision Tree Method\n",
    "\n",
    "This notebook focuses on implementing the decision tree method to study keystroke dynamics "
   ]
  },
  {
   "cell_type": "markdown",
   "id": "2ffa3ae1",
   "metadata": {
    "pycharm": {
     "name": "#%% md\n"
    }
   },
   "source": [
    "## List of imports"
   ]
  },
  {
   "cell_type": "code",
   "execution_count": 41,
   "id": "50b5e08d",
   "metadata": {},
   "outputs": [],
   "source": [
    "from sklearn import tree\n",
    "from sklearn.metrics import accuracy_score\n",
    "import pandas as pd\n",
    "import numpy as np\n",
    "from os import listdir\n",
    "from os.path import isfile, join"
   ]
  },
  {
   "cell_type": "markdown",
   "id": "b6136f6a",
   "metadata": {
    "pycharm": {
     "name": "#%% md\n"
    }
   },
   "source": [
    "## Pre-processing\n",
    "\n",
    "**Input:** reference files per user with the following format ``{Key|Shift|HD_mean|HD_std|DL_mean|DL_std}`` \\\n",
    "**Output:** one file with all reference files to perform decision tree classifier with the following format \n",
    "``{Label|Key Numerical|Shift[HD_mean|HD_std|DL_mean|DL_std}``\n",
    "\n",
    "1. We need to add an attribute `name` to the data to identify the user\n",
    "2. We need to merge all references in one pandas dataframe\n",
    "3. The `key` values must have an integer value\n",
    "4. The `name` values must have an integer value"
   ]
  },
  {
   "cell_type": "code",
   "execution_count": 2,
   "id": "dd6afb8d",
   "metadata": {},
   "outputs": [],
   "source": [
    "# import reference into pandas dataframe\n",
    "\n",
    "files = [f for f in listdir(\"reference_1/\") if isfile(join(\"reference_1/\", f))]\n",
    "\n",
    "# concat reference files in one dataframe\n",
    "dataframes_list = []\n",
    "for file in files:\n",
    "    df_file = pd.read_csv(\"reference_1/\" + file, sep=\"|\", encoding = \"ISO-8859-1\")\n",
    "    # remove .csv suffix\n",
    "    df_file[\"name\"] = file[:-4]\n",
    "    dataframes_list.append(df_file)\n",
    "    \n",
    "df_reference = pd.concat(dataframes_list)\n",
    "\n",
    "# map 'key' to integers (add a column 'key_numerical')\n",
    "key_map = dict(enumerate(df_reference['Key'].astype('category').cat.categories))\n",
    "key_mapping = {v: k for k, v in key_map.items()}\n",
    "\n",
    "df_reference['key_numerical'] = df_reference['Key'].map(key_mapping)\n",
    "\n",
    "# map 'name' to integers (add a column 'label')\n",
    "label_to_name_map = dict(enumerate(df_reference['name'].astype('category').cat.categories))\n",
    "name_to_label_map = {v: k for k, v in label_to_name_map.items()}\n",
    "\n",
    "df_reference['label'] = df_reference['name'].map(name_to_label_map)\n",
    "\n",
    "# re-organize dataframe to '{Label|Key Numerical|Shift[HD_mean|HD_std|DL_mean|DL_std}'\n",
    "df_reference = df_reference[['label', 'key_numerical', 'Shift', 'HD_mean', 'HD_std', 'DL_mean', 'DL_std']]\n",
    "\n"
   ]
  },
  {
   "cell_type": "markdown",
   "metadata": {
    "collapsed": false
   },
   "source": [
    "Here's the mapping for the key and the name, as well as the representation of the dataframe : "
   ]
  },
  {
   "cell_type": "code",
   "execution_count": 3,
   "metadata": {
    "collapsed": false,
    "pycharm": {
     "name": "#%%\n"
    }
   },
   "outputs": [
    {
     "name": "stdout",
     "output_type": "stream",
     "text": [
      "KEY MAPPING\n",
      "{\"'\": 0, \"'&'\": 1, \"'('\": 2, \"','\": 3, \"'-'\": 4, \"'.'\": 5, \"'?'\": 6, \"'B'\": 7, \"'C'\": 8, \"'D'\": 9, \"'H'\": 10, \"'J'\": 11, \"'K'\": 12, \"'M'\": 13, \"'P'\": 14, \"'S'\": 15, \"'W'\": 16, \"'X'\": 17, \"'Y'\": 18, \"'\\\\x01'\": 19, \"'a'\": 20, \"'b'\": 21, \"'c'\": 22, \"'d'\": 23, \"'e'\": 24, \"'f'\": 25, \"'g'\": 26, \"'h'\": 27, \"'i'\": 28, \"'j'\": 29, \"'k'\": 30, \"'l'\": 31, \"'m'\": 32, \"'n'\": 33, \"'o'\": 34, \"'p'\": 35, \"'q'\": 36, \"'r'\": 37, \"'s'\": 38, \"'t'\": 39, \"'u'\": 40, \"'v'\": 41, \"'w'\": 42, \"'x'\": 43, \"'y'\": 44, \"'z'\": 45, \"'è'\": 46, \"'é'\": 47, 'Key.backspace': 48, 'Key.ctrl_l': 49, 'Key.enter': 50, 'Key.esc': 51, 'Key.right': 52, 'Key.shift': 53, 'Key.shift_r': 54, 'Key.space': 55}\n",
      "LABEL MAPPING\n",
      "{'andrieu': 0, 'benjamin': 1, 'hugo': 2}\n",
      "DATAFRAME\n"
     ]
    },
    {
     "data": {
      "text/html": [
       "<div>\n",
       "<style scoped>\n",
       "    .dataframe tbody tr th:only-of-type {\n",
       "        vertical-align: middle;\n",
       "    }\n",
       "\n",
       "    .dataframe tbody tr th {\n",
       "        vertical-align: top;\n",
       "    }\n",
       "\n",
       "    .dataframe thead th {\n",
       "        text-align: right;\n",
       "    }\n",
       "</style>\n",
       "<table border=\"1\" class=\"dataframe\">\n",
       "  <thead>\n",
       "    <tr style=\"text-align: right;\">\n",
       "      <th></th>\n",
       "      <th>label</th>\n",
       "      <th>key_numerical</th>\n",
       "      <th>Shift</th>\n",
       "      <th>HD_mean</th>\n",
       "      <th>HD_std</th>\n",
       "      <th>DL_mean</th>\n",
       "      <th>DL_std</th>\n",
       "    </tr>\n",
       "  </thead>\n",
       "  <tbody>\n",
       "    <tr>\n",
       "      <th>0</th>\n",
       "      <td>0</td>\n",
       "      <td>53</td>\n",
       "      <td>1</td>\n",
       "      <td>0.253048</td>\n",
       "      <td>0.187260</td>\n",
       "      <td>-0.093205</td>\n",
       "      <td>0.228329</td>\n",
       "    </tr>\n",
       "    <tr>\n",
       "      <th>1</th>\n",
       "      <td>0</td>\n",
       "      <td>14</td>\n",
       "      <td>1</td>\n",
       "      <td>0.062200</td>\n",
       "      <td>0.014784</td>\n",
       "      <td>0.142200</td>\n",
       "      <td>0.028833</td>\n",
       "    </tr>\n",
       "    <tr>\n",
       "      <th>2</th>\n",
       "      <td>0</td>\n",
       "      <td>34</td>\n",
       "      <td>0</td>\n",
       "      <td>0.072855</td>\n",
       "      <td>0.010360</td>\n",
       "      <td>0.201289</td>\n",
       "      <td>0.289603</td>\n",
       "    </tr>\n",
       "    <tr>\n",
       "      <th>3</th>\n",
       "      <td>0</td>\n",
       "      <td>37</td>\n",
       "      <td>0</td>\n",
       "      <td>0.069390</td>\n",
       "      <td>0.011595</td>\n",
       "      <td>0.109506</td>\n",
       "      <td>0.117702</td>\n",
       "    </tr>\n",
       "    <tr>\n",
       "      <th>4</th>\n",
       "      <td>0</td>\n",
       "      <td>39</td>\n",
       "      <td>0</td>\n",
       "      <td>0.064707</td>\n",
       "      <td>0.010277</td>\n",
       "      <td>0.059780</td>\n",
       "      <td>0.062745</td>\n",
       "    </tr>\n",
       "  </tbody>\n",
       "</table>\n",
       "</div>"
      ],
      "text/plain": [
       "   label  key_numerical  Shift   HD_mean    HD_std   DL_mean    DL_std\n",
       "0      0             53      1  0.253048  0.187260 -0.093205  0.228329\n",
       "1      0             14      1  0.062200  0.014784  0.142200  0.028833\n",
       "2      0             34      0  0.072855  0.010360  0.201289  0.289603\n",
       "3      0             37      0  0.069390  0.011595  0.109506  0.117702\n",
       "4      0             39      0  0.064707  0.010277  0.059780  0.062745"
      ]
     },
     "execution_count": 3,
     "metadata": {},
     "output_type": "execute_result"
    }
   ],
   "source": [
    "print(\"KEY MAPPING\")\n",
    "print(key_mapping)\n",
    "print(\"LABEL MAPPING\")\n",
    "print(name_to_label_map)\n",
    "print(\"DATAFRAME\")\n",
    "df_reference.head()"
   ]
  },
  {
   "cell_type": "markdown",
   "id": "1cc6f53c",
   "metadata": {},
   "source": [
    "Get all files to be identified"
   ]
  },
  {
   "cell_type": "code",
   "execution_count": 4,
   "id": "5c103561",
   "metadata": {},
   "outputs": [],
   "source": [
    "# import unknown into pandas dataframe\n",
    "\n",
    "files = [f for f in listdir(\"identification/\") if isfile(join(\"identification/\", f))]\n",
    "# concat reference files in one dataframe\n",
    "identification_list = []\n",
    "for file in files:\n",
    "    df_file = pd.read_csv(\"identification/\" + file, sep=\"|\", encoding = \"ISO-8859-1\")\n",
    "    # remove .csv suffix\n",
    "    df_file[\"name\"] = file[:-4]\n",
    "    identification_list.append(df_file)"
   ]
  },
  {
   "cell_type": "markdown",
   "metadata": {
    "collapsed": false
   },
   "source": [
    "Now, we need to perform modifications on the file we want to re-identify \n",
    "(re-identification refers to us trying to identify the user of an unknown keylog)\n",
    "\n",
    "1. Import data as dataframe\n",
    "2. Convert key as integer (key_numerical)\n",
    "    - if the key is not contained in the map, we must delete the tuple\n",
    "    - otherwise convert key to integer\n",
    "3. Reorganize columns"
   ]
  },
  {
   "cell_type": "code",
   "execution_count": 5,
   "metadata": {
    "collapsed": false,
    "pycharm": {
     "name": "#%%\n"
    }
   },
   "outputs": [
    {
     "data": {
      "text/plain": [
       "['benjamin', 'hugo']"
      ]
     },
     "execution_count": 5,
     "metadata": {},
     "output_type": "execute_result"
    }
   ],
   "source": [
    "to_identify = []\n",
    "truths = []\n",
    "for df_reidentification in identification_list:\n",
    "    df_reidentification['key_numerical'] = np.nan\n",
    "    # use previous key mapping to translate key as string to key as integers\n",
    "    df_reidentification['key_numerical'] = df_reidentification['Key'].apply(lambda x: key_mapping[x])\n",
    "    # drop key combinations which do not help in identification because they never appear in references\n",
    "    df_reidentification = df_reidentification.dropna()\n",
    "\n",
    "    # re-organize dataframe to '{Key Numerical|Shift[HD_mean|HD_std|DL_mean|DL_std}'\n",
    "    truths.append(df_reidentification['name'][0])\n",
    "    df_reidentification = df_reidentification[['key_numerical', 'Shift', 'HD_mean', 'HD_std', 'DL_mean', 'DL_std']]\n",
    "    to_identify.append(df_reidentification)\n",
    "truths"
   ]
  },
  {
   "cell_type": "markdown",
   "metadata": {
    "collapsed": false
   },
   "source": [
    "Here's what the reidentification file look like"
   ]
  },
  {
   "cell_type": "code",
   "execution_count": 6,
   "metadata": {
    "collapsed": false,
    "pycharm": {
     "name": "#%%\n"
    }
   },
   "outputs": [
    {
     "data": {
      "text/html": [
       "<div>\n",
       "<style scoped>\n",
       "    .dataframe tbody tr th:only-of-type {\n",
       "        vertical-align: middle;\n",
       "    }\n",
       "\n",
       "    .dataframe tbody tr th {\n",
       "        vertical-align: top;\n",
       "    }\n",
       "\n",
       "    .dataframe thead th {\n",
       "        text-align: right;\n",
       "    }\n",
       "</style>\n",
       "<table border=\"1\" class=\"dataframe\">\n",
       "  <thead>\n",
       "    <tr style=\"text-align: right;\">\n",
       "      <th></th>\n",
       "      <th>key_numerical</th>\n",
       "      <th>Shift</th>\n",
       "      <th>HD_mean</th>\n",
       "      <th>HD_std</th>\n",
       "      <th>DL_mean</th>\n",
       "      <th>DL_std</th>\n",
       "    </tr>\n",
       "  </thead>\n",
       "  <tbody>\n",
       "    <tr>\n",
       "      <th>0</th>\n",
       "      <td>53</td>\n",
       "      <td>1</td>\n",
       "      <td>0.260692</td>\n",
       "      <td>0.194857</td>\n",
       "      <td>-0.119282</td>\n",
       "      <td>0.216057</td>\n",
       "    </tr>\n",
       "    <tr>\n",
       "      <th>1</th>\n",
       "      <td>14</td>\n",
       "      <td>1</td>\n",
       "      <td>0.097000</td>\n",
       "      <td>0.012617</td>\n",
       "      <td>0.127600</td>\n",
       "      <td>0.032463</td>\n",
       "    </tr>\n",
       "    <tr>\n",
       "      <th>2</th>\n",
       "      <td>34</td>\n",
       "      <td>0</td>\n",
       "      <td>0.079286</td>\n",
       "      <td>0.014217</td>\n",
       "      <td>0.119584</td>\n",
       "      <td>0.202539</td>\n",
       "    </tr>\n",
       "    <tr>\n",
       "      <th>3</th>\n",
       "      <td>37</td>\n",
       "      <td>0</td>\n",
       "      <td>0.082557</td>\n",
       "      <td>0.020573</td>\n",
       "      <td>0.069759</td>\n",
       "      <td>0.092685</td>\n",
       "    </tr>\n",
       "    <tr>\n",
       "      <th>4</th>\n",
       "      <td>39</td>\n",
       "      <td>0</td>\n",
       "      <td>0.081304</td>\n",
       "      <td>0.011329</td>\n",
       "      <td>0.052630</td>\n",
       "      <td>0.073434</td>\n",
       "    </tr>\n",
       "  </tbody>\n",
       "</table>\n",
       "</div>"
      ],
      "text/plain": [
       "   key_numerical  Shift   HD_mean    HD_std   DL_mean    DL_std\n",
       "0             53      1  0.260692  0.194857 -0.119282  0.216057\n",
       "1             14      1  0.097000  0.012617  0.127600  0.032463\n",
       "2             34      0  0.079286  0.014217  0.119584  0.202539\n",
       "3             37      0  0.082557  0.020573  0.069759  0.092685\n",
       "4             39      0  0.081304  0.011329  0.052630  0.073434"
      ]
     },
     "execution_count": 6,
     "metadata": {},
     "output_type": "execute_result"
    }
   ],
   "source": [
    "to_identify[0].head()"
   ]
  },
  {
   "cell_type": "markdown",
   "metadata": {
    "collapsed": false
   },
   "source": [
    "## Decision Tree Implementation"
   ]
  },
  {
   "cell_type": "code",
   "execution_count": 7,
   "metadata": {
    "collapsed": false,
    "pycharm": {
     "name": "#%%\n"
    }
   },
   "outputs": [],
   "source": [
    "# tree training\n",
    "features = [\"key_numerical\", \"Shift\", \"HD_mean\", \"HD_std\", \"DL_mean\", \"DL_std\"]\n",
    "target = \"label\"\n",
    "\n",
    "Y_reference = df_reference[target]\n",
    "X_reference = df_reference[features]\n",
    "\n",
    "clf = tree.DecisionTreeClassifier()\n",
    "clf = clf.fit(X_reference, Y_reference)"
   ]
  },
  {
   "cell_type": "code",
   "execution_count": 44,
   "id": "42bee925",
   "metadata": {},
   "outputs": [
    {
     "name": "stdout",
     "output_type": "stream",
     "text": [
      "Prediction:  benjamin  with probability  1.0\n",
      "Prediction:  hugo  with probability  1.0\n",
      "---\n",
      "Final accuracy for all predictions:  1.0\n"
     ]
    }
   ],
   "source": [
    "# Run prediction for all unknowns and compare to truths to get accuracy\n",
    "\n",
    "predictions = []\n",
    "for unknown in to_identify:\n",
    "    # tree returns predictions and probabilities for each key entry\n",
    "    # average to get final prediction   \n",
    "    probs = clf.predict_proba(unknown)\n",
    "    prob_df = pd.DataFrame(probs)\n",
    "    prob_df = prob_df.rename(columns=label_to_name_map)\n",
    "    # calculate probability win sums for different labels\n",
    "    pred_df = pd.DataFrame(columns=['prob_sum'])\n",
    "    pred_df['prob_sum'] = prob_df.sum()\n",
    "    # calculate mean probability per label\n",
    "    pred_df['prob_mean'] = pred_df['prob_sum'] / pred_df['prob_sum'].sum()\n",
    "    # find label with max probability sum\n",
    "    pred_label = pred_df['prob_mean'].idxmax()\n",
    "    pred_probability = pred_df.loc[pred_label,'prob_mean']\n",
    "    # log result\n",
    "    print(\"Prediction: \",pred_label,\" with probability \",pred_probability)\n",
    "    predictions.append(pred_label)\n",
    "\n",
    "tree_acc = accuracy_score(truths, predictions)\n",
    "print(\"---\\nFinal accuracy for all predictions: \",tree_acc)\n",
    "        "
   ]
  }
 ],
 "metadata": {
  "kernelspec": {
   "display_name": "Python 3",
   "language": "python",
   "name": "python3"
  },
  "language_info": {
   "codemirror_mode": {
    "name": "ipython",
    "version": 3
   },
   "file_extension": ".py",
   "mimetype": "text/x-python",
   "name": "python",
   "nbconvert_exporter": "python",
   "pygments_lexer": "ipython3",
   "version": "3.8.8"
  }
 },
 "nbformat": 4,
 "nbformat_minor": 5
}
