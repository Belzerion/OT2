{
 "cells": [
  {
   "cell_type": "code",
   "execution_count": 1,
   "metadata": {},
   "outputs": [
    {
     "name": "stdout",
     "output_type": "stream",
     "text": [
      "Veuillez écrire le text ci-dessous et arrêter le programme une fois fini:\n",
      "\n",
      "Portez ce vieux whisky au juge blond qui fume.\n",
      "Joyeux, ivre, fatigué, le nez qui pique, Clown Hary skie dans l’ombre.\n",
      "Monsieur Jack, vous dactylographiez bien mieux que Wolf.\n",
      "Hier, au zoo, j'ai vu dix guépards, cinq zébus, un yak et le wapiti fumer.\n",
      "Yves fugue en BMX chez Will, qui est près du Kilimandjaro.\n",
      "J’aime l’idée que le plus grand des Sex-symbols new-yorkais n’était qu’un chien dans un foyer de Brazzaville.\n",
      "\n"
     ]
    }
   ],
   "source": [
    "from pynput.keyboard import Key, Listener\n",
    "import logging\n",
    "\n",
    "user_filename = input(\"Filename (ex. andrieu_1): \")\n",
    "logging.basicConfig(filename=(\"input_data/\"+user_filename + \".csv\"), level=logging.DEBUG, format=\"%(asctime)s|%(message)s\")\n",
    "\n",
    "text = \"Portez ce vieux whisky au juge blond qui fume.\\n\"\n",
    "text += \"Joyeux, ivre, fatigué, le nez qui pique, Clown Hary skie dans l’ombre.\\n\"\n",
    "text += \"Monsieur Jack, vous dactylographiez bien mieux que Wolf.\\n\"\n",
    "text += \"Hier, au zoo, j'ai vu dix guépards, cinq zébus, un yak et le wapiti fumer.\\n\"\n",
    "text += \"Yves fugue en BMX chez Will, qui est près du Kilimandjaro.\\n\"\n",
    "text += \"J’aime l’idée que le plus grand des Sex-symbols new-yorkais n’était qu’un chien dans un foyer de Brazzaville.\\n\"\n",
    "\n",
    "print(\"Veuillez écrire le text ci-dessous et arrêter le programme une fois fini:\\n\\n\" + text)\n",
    "\n",
    "\n",
    "def on_press(key):\n",
    "    logging.info(str(key)+\"|press\")\n",
    "def on_release(key):\n",
    "    logging.info(str(key)+\"|release\")\n",
    " \n",
    "with Listener(on_press=on_press, on_release=on_release) as listener :\n",
    "    listener.join()"
   ]
  },
  {
   "cell_type": "code",
   "execution_count": null,
   "metadata": {},
   "outputs": [],
   "source": [
    "bonjour je m'appelle Hugo"
   ]
  },
  {
   "cell_type": "code",
   "execution_count": null,
   "metadata": {},
   "outputs": [],
   "source": [
    "La production de Peter et Elliott le dragon est lancée en parallèle de celle des Aventures de Bernard et Bianca, sorti à l'été 1977. Malgrté une animation à un seul personnage, qui'était pas prévu comme étant visible à l'origine, le film nécessite de nombreux animateurs."
   ]
  }
 ],
 "metadata": {
  "kernelspec": {
   "display_name": "Python 3",
   "language": "python",
   "name": "python3"
  },
  "language_info": {
   "codemirror_mode": {
    "name": "ipython",
    "version": 3
   },
   "file_extension": ".py",
   "mimetype": "text/x-python",
   "name": "python",
   "nbconvert_exporter": "python",
   "pygments_lexer": "ipython3",
   "version": "3.8.8"
  }
 },
 "nbformat": 4,
 "nbformat_minor": 4
}
