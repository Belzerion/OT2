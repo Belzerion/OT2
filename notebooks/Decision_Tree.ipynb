{
 "cells": [
  {
   "cell_type": "markdown",
   "id": "a07bdd06",
   "metadata": {
    "pycharm": {
     "name": "#%% md\n"
    }
   },
   "source": [
    "# Decision Tree Method\n",
    "\n",
    "This notebook focuses on implementing the decision tree method to study keystroke dynamics "
   ]
  },
  {
   "cell_type": "markdown",
   "id": "2ffa3ae1",
   "metadata": {
    "pycharm": {
     "name": "#%% md\n"
    }
   },
   "source": [
    "## List of imports"
   ]
  },
  {
   "cell_type": "code",
   "execution_count": 6,
   "id": "50b5e08d",
   "metadata": {},
   "outputs": [],
   "source": [
    "from sklearn import tree\n",
    "from sklearn.metrics import accuracy_score\n",
    "import pandas as pd\n",
    "import numpy as np\n",
    "from os import listdir\n",
    "from os.path import isfile, join"
   ]
  },
  {
   "cell_type": "markdown",
   "id": "b6136f6a",
   "metadata": {
    "pycharm": {
     "name": "#%% md\n"
    }
   },
   "source": [
    "## Pre-processing\n",
    "\n",
    "### References\n",
    "\n",
    "**Input:** reference files per user with the following format ``{Key|Shift|HD_mean|HD_std|DL_mean|DL_std}`` \\\n",
    "**Output:** one file with all reference files to perform decision tree classifier with the following format \\\n",
    "``{Label|Key Numerical|Shift[HD_mean|HD_std|DL_mean|DL_std}``\n",
    "\n",
    "1. We need to add an attribute `name` to the data to identify the user\n",
    "2. We need to merge all references in one pandas dataframe\n",
    "3. The `key` values must have an integer value\n",
    "4. The `name` values must have an integer value"
   ]
  },
  {
   "cell_type": "code",
   "execution_count": 7,
   "id": "dd6afb8d",
   "metadata": {},
   "outputs": [],
   "source": [
    "REFERENCE_FILEPATH = \"reference/\"\n",
    "\n",
    "# import reference into pandas dataframe\n",
    "\n",
    "files = [f for f in listdir(REFERENCE_FILEPATH) if isfile(join(REFERENCE_FILEPATH, f))]\n",
    "\n",
    "# concat reference files in one dataframe\n",
    "dataframes_list = []\n",
    "for file in files:\n",
    "    df_file = pd.read_csv(REFERENCE_FILEPATH + file, sep=\"|\", encoding = \"ISO-8859-1\")\n",
    "    # remove .csv suffix\n",
    "    df_file[\"name\"] = file[:-4]\n",
    "    dataframes_list.append(df_file)\n",
    "    \n",
    "df_reference = pd.concat(dataframes_list)\n",
    "\n",
    "# map 'key' to integers (add a column 'key_numerical')\n",
    "key_map = dict(enumerate(df_reference['Key'].astype('category').cat.categories))\n",
    "key_mapping = {v: k for k, v in key_map.items()}\n",
    "\n",
    "df_reference['key_numerical'] = df_reference['Key'].map(key_mapping)\n",
    "\n",
    "# map 'name' to integers (add a column 'label')\n",
    "label_to_name_map = dict(enumerate(df_reference['name'].astype('category').cat.categories))\n",
    "name_to_label_map = {v: k for k, v in label_to_name_map.items()}\n",
    "\n",
    "df_reference['label'] = df_reference['name'].map(name_to_label_map)\n",
    "\n",
    "# re-organize dataframe to '{Label|Key Numerical|Shift[HD_mean|HD_std|DL_mean|DL_std}'\n",
    "df_reference = df_reference[['label', 'key_numerical', 'Shift', 'HD_mean', 'HD_std', 'DL_mean', 'DL_std']]\n",
    "\n"
   ]
  },
  {
   "cell_type": "markdown",
   "id": "faa9df59",
   "metadata": {},
   "source": [
    "Here's the mapping for the key and the name, as well as the representation of the dataframe : "
   ]
  },
  {
   "cell_type": "code",
   "execution_count": 8,
   "id": "c4f870a0",
   "metadata": {
    "pycharm": {
     "name": "#%%\n"
    }
   },
   "outputs": [
    {
     "name": "stdout",
     "output_type": "stream",
     "text": [
      "KEY MAPPING\n",
      "{\"'\": 0, \"'&'\": 1, \"'('\": 2, \"','\": 3, \"'-'\": 4, \"'.'\": 5, \"'?'\": 6, \"'B'\": 7, \"'C'\": 8, \"'D'\": 9, \"'H'\": 10, \"'J'\": 11, \"'K'\": 12, \"'M'\": 13, \"'P'\": 14, \"'S'\": 15, \"'W'\": 16, \"'X'\": 17, \"'Y'\": 18, \"'\\\\x01'\": 19, \"'a'\": 20, \"'b'\": 21, \"'c'\": 22, \"'d'\": 23, \"'e'\": 24, \"'f'\": 25, \"'g'\": 26, \"'h'\": 27, \"'i'\": 28, \"'j'\": 29, \"'k'\": 30, \"'l'\": 31, \"'m'\": 32, \"'n'\": 33, \"'o'\": 34, \"'p'\": 35, \"'q'\": 36, \"'r'\": 37, \"'s'\": 38, \"'t'\": 39, \"'u'\": 40, \"'v'\": 41, \"'w'\": 42, \"'x'\": 43, \"'y'\": 44, \"'z'\": 45, \"'è'\": 46, \"'é'\": 47, 'Key.backspace': 48, 'Key.ctrl_l': 49, 'Key.enter': 50, 'Key.esc': 51, 'Key.right': 52, 'Key.shift': 53, 'Key.shift_r': 54, 'Key.space': 55}\n",
      "LABEL MAPPING\n",
      "{'andrieu': 0, 'benjamin': 1, 'hugo': 2}\n",
      "DATAFRAME\n"
     ]
    },
    {
     "data": {
      "text/html": [
       "<div>\n",
       "<style scoped>\n",
       "    .dataframe tbody tr th:only-of-type {\n",
       "        vertical-align: middle;\n",
       "    }\n",
       "\n",
       "    .dataframe tbody tr th {\n",
       "        vertical-align: top;\n",
       "    }\n",
       "\n",
       "    .dataframe thead th {\n",
       "        text-align: right;\n",
       "    }\n",
       "</style>\n",
       "<table border=\"1\" class=\"dataframe\">\n",
       "  <thead>\n",
       "    <tr style=\"text-align: right;\">\n",
       "      <th></th>\n",
       "      <th>label</th>\n",
       "      <th>key_numerical</th>\n",
       "      <th>Shift</th>\n",
       "      <th>HD_mean</th>\n",
       "      <th>HD_std</th>\n",
       "      <th>DL_mean</th>\n",
       "      <th>DL_std</th>\n",
       "    </tr>\n",
       "  </thead>\n",
       "  <tbody>\n",
       "    <tr>\n",
       "      <th>0</th>\n",
       "      <td>0</td>\n",
       "      <td>53</td>\n",
       "      <td>1</td>\n",
       "      <td>0.253048</td>\n",
       "      <td>0.187260</td>\n",
       "      <td>-0.093205</td>\n",
       "      <td>0.228329</td>\n",
       "    </tr>\n",
       "    <tr>\n",
       "      <th>1</th>\n",
       "      <td>0</td>\n",
       "      <td>14</td>\n",
       "      <td>1</td>\n",
       "      <td>0.062200</td>\n",
       "      <td>0.014784</td>\n",
       "      <td>0.142200</td>\n",
       "      <td>0.028833</td>\n",
       "    </tr>\n",
       "    <tr>\n",
       "      <th>2</th>\n",
       "      <td>0</td>\n",
       "      <td>34</td>\n",
       "      <td>0</td>\n",
       "      <td>0.072855</td>\n",
       "      <td>0.010360</td>\n",
       "      <td>0.201289</td>\n",
       "      <td>0.289603</td>\n",
       "    </tr>\n",
       "    <tr>\n",
       "      <th>3</th>\n",
       "      <td>0</td>\n",
       "      <td>37</td>\n",
       "      <td>0</td>\n",
       "      <td>0.069390</td>\n",
       "      <td>0.011595</td>\n",
       "      <td>0.109506</td>\n",
       "      <td>0.117702</td>\n",
       "    </tr>\n",
       "    <tr>\n",
       "      <th>4</th>\n",
       "      <td>0</td>\n",
       "      <td>39</td>\n",
       "      <td>0</td>\n",
       "      <td>0.064707</td>\n",
       "      <td>0.010277</td>\n",
       "      <td>0.059780</td>\n",
       "      <td>0.062745</td>\n",
       "    </tr>\n",
       "  </tbody>\n",
       "</table>\n",
       "</div>"
      ],
      "text/plain": [
       "   label  key_numerical  Shift   HD_mean    HD_std   DL_mean    DL_std\n",
       "0      0             53      1  0.253048  0.187260 -0.093205  0.228329\n",
       "1      0             14      1  0.062200  0.014784  0.142200  0.028833\n",
       "2      0             34      0  0.072855  0.010360  0.201289  0.289603\n",
       "3      0             37      0  0.069390  0.011595  0.109506  0.117702\n",
       "4      0             39      0  0.064707  0.010277  0.059780  0.062745"
      ]
     },
     "execution_count": 8,
     "metadata": {},
     "output_type": "execute_result"
    }
   ],
   "source": [
    "print(\"KEY MAPPING\")\n",
    "print(key_mapping)\n",
    "print(\"LABEL MAPPING\")\n",
    "print(name_to_label_map)\n",
    "print(\"DATAFRAME\")\n",
    "df_reference.head()"
   ]
  },
  {
   "cell_type": "markdown",
   "id": "1cc6f53c",
   "metadata": {},
   "source": [
    "### Unknown references\n",
    "\n",
    "Now, we need to get all files that we want to re-identify using the decision tree method"
   ]
  },
  {
   "cell_type": "code",
   "execution_count": 9,
   "id": "5c103561",
   "metadata": {},
   "outputs": [],
   "source": [
    "UNKNOWN_REFERENCE_FILEPATH = \"reference_unknown/\"\n",
    "\n",
    "# import unknown into pandas dataframe\n",
    "files = [f for f in listdir(UNKNOWN_REFERENCE_FILEPATH) if isfile(join(UNKNOWN_REFERENCE_FILEPATH, f))]\n",
    "\n",
    "# concat reference files in one dataframe\n",
    "identification_list = []\n",
    "for file in files:\n",
    "    df_file = pd.read_csv(UNKNOWN_REFERENCE_FILEPATH + file, sep=\"|\", encoding = \"ISO-8859-1\")\n",
    "    # remove .csv suffix\n",
    "    df_file[\"name\"] = file[:-4]\n",
    "    identification_list.append(df_file)"
   ]
  },
  {
   "cell_type": "markdown",
   "id": "6501e5c4",
   "metadata": {},
   "source": [
    "Now, we need to perform modifications on the file we want to re-identify \n",
    "(re-identification refers to us trying to identify the user of an unknown keylog trace)\n",
    "\n",
    "1. Import data as dataframe\n",
    "2. Convert key as integer (key_numerical)\n",
    "    - if the key is not contained in the map, we must delete the tuple\n",
    "    - otherwise convert key to integer\n",
    "3. Reorganize columns"
   ]
  },
  {
   "cell_type": "code",
   "execution_count": 103,
   "id": "fba80748",
   "metadata": {
    "pycharm": {
     "name": "#%%\n"
    }
   },
   "outputs": [],
   "source": [
    "to_identify = []\n",
    "truths = []\n",
    "for df_reidentification in identification_list:\n",
    "    df_reidentification['key_numerical'] = np.nan\n",
    "    # use previous key mapping to translate key as string to key as integers\n",
    "    df_reidentification['key_numerical'] = df_reidentification['Key'].apply(lambda x: key_mapping[x] if x in key_mapping else None)\n",
    "    # drop key combinations which do not help in identification because they never appear in references\n",
    "    df_reidentification = df_reidentification.dropna()\n",
    "\n",
    "    # process name tappend to truths\n",
    "    # ex: unknown_benjamin_1.csv -> benjamin\n",
    "    name = df_reidentification['name'][0]\n",
    "    name = name.split('_')[1]\n",
    "    truths.append(name)\n",
    "    \n",
    "    # re-organize dataframe to '{Key Numerical|Shift[HD_mean|HD_std|DL_mean|DL_std}'\n",
    "    df_reidentification = df_reidentification[['key_numerical', 'Shift', 'HD_mean', 'HD_std', 'DL_mean', 'DL_std']]\n",
    "    to_identify.append(df_reidentification)\n"
   ]
  },
  {
   "cell_type": "markdown",
   "id": "29194b4e",
   "metadata": {},
   "source": [
    "Here's what one the reidentification file looks like"
   ]
  },
  {
   "cell_type": "code",
   "execution_count": 104,
   "id": "78a9450d",
   "metadata": {
    "pycharm": {
     "name": "#%%\n"
    }
   },
   "outputs": [
    {
     "data": {
      "text/html": [
       "<div>\n",
       "<style scoped>\n",
       "    .dataframe tbody tr th:only-of-type {\n",
       "        vertical-align: middle;\n",
       "    }\n",
       "\n",
       "    .dataframe tbody tr th {\n",
       "        vertical-align: top;\n",
       "    }\n",
       "\n",
       "    .dataframe thead th {\n",
       "        text-align: right;\n",
       "    }\n",
       "</style>\n",
       "<table border=\"1\" class=\"dataframe\">\n",
       "  <thead>\n",
       "    <tr style=\"text-align: right;\">\n",
       "      <th></th>\n",
       "      <th>key_numerical</th>\n",
       "      <th>Shift</th>\n",
       "      <th>HD_mean</th>\n",
       "      <th>HD_std</th>\n",
       "      <th>DL_mean</th>\n",
       "      <th>DL_std</th>\n",
       "    </tr>\n",
       "  </thead>\n",
       "  <tbody>\n",
       "    <tr>\n",
       "      <th>0</th>\n",
       "      <td>53.0</td>\n",
       "      <td>1</td>\n",
       "      <td>0.220086</td>\n",
       "      <td>0.160359</td>\n",
       "      <td>-0.141314</td>\n",
       "      <td>0.155903</td>\n",
       "    </tr>\n",
       "    <tr>\n",
       "      <th>1</th>\n",
       "      <td>8.0</td>\n",
       "      <td>1</td>\n",
       "      <td>0.088200</td>\n",
       "      <td>0.008704</td>\n",
       "      <td>0.246400</td>\n",
       "      <td>0.199058</td>\n",
       "    </tr>\n",
       "    <tr>\n",
       "      <th>2</th>\n",
       "      <td>27.0</td>\n",
       "      <td>0</td>\n",
       "      <td>0.085812</td>\n",
       "      <td>0.014139</td>\n",
       "      <td>0.191375</td>\n",
       "      <td>0.261791</td>\n",
       "    </tr>\n",
       "    <tr>\n",
       "      <th>3</th>\n",
       "      <td>48.0</td>\n",
       "      <td>0</td>\n",
       "      <td>0.087667</td>\n",
       "      <td>0.013649</td>\n",
       "      <td>0.485267</td>\n",
       "      <td>0.317950</td>\n",
       "    </tr>\n",
       "    <tr>\n",
       "      <th>4</th>\n",
       "      <td>10.0</td>\n",
       "      <td>1</td>\n",
       "      <td>0.098000</td>\n",
       "      <td>0.000000</td>\n",
       "      <td>0.054000</td>\n",
       "      <td>0.000000</td>\n",
       "    </tr>\n",
       "  </tbody>\n",
       "</table>\n",
       "</div>"
      ],
      "text/plain": [
       "   key_numerical  Shift   HD_mean    HD_std   DL_mean    DL_std\n",
       "0           53.0      1  0.220086  0.160359 -0.141314  0.155903\n",
       "1            8.0      1  0.088200  0.008704  0.246400  0.199058\n",
       "2           27.0      0  0.085812  0.014139  0.191375  0.261791\n",
       "3           48.0      0  0.087667  0.013649  0.485267  0.317950\n",
       "4           10.0      1  0.098000  0.000000  0.054000  0.000000"
      ]
     },
     "execution_count": 104,
     "metadata": {},
     "output_type": "execute_result"
    }
   ],
   "source": [
    "to_identify[0].head()"
   ]
  },
  {
   "cell_type": "markdown",
   "id": "7fde1762",
   "metadata": {},
   "source": [
    "Here's the list of files we want to re-identify"
   ]
  },
  {
   "cell_type": "code",
   "execution_count": 105,
   "id": "1b0ae50c",
   "metadata": {},
   "outputs": [
    {
     "name": "stdout",
     "output_type": "stream",
     "text": [
      "['benjamin']\n"
     ]
    }
   ],
   "source": [
    "print(truths)"
   ]
  },
  {
   "cell_type": "markdown",
   "id": "97a2e914",
   "metadata": {},
   "source": [
    "## Decision Tree Implementation"
   ]
  },
  {
   "cell_type": "markdown",
   "id": "0a8bcaaa",
   "metadata": {},
   "source": [
    "### Decision tree creation\n",
    "\n",
    "We need to create the decision tree and fit it to our dataframe containing all our references."
   ]
  },
  {
   "cell_type": "code",
   "execution_count": 121,
   "id": "4b1e541b",
   "metadata": {
    "pycharm": {
     "name": "#%%\n"
    }
   },
   "outputs": [],
   "source": [
    "# tree training\n",
    "features = [\"key_numerical\", \"Shift\", \"HD_mean\", \"HD_std\", \"DL_mean\", \"DL_std\"]\n",
    "target = \"label\"\n",
    "\n",
    "Y_reference = df_reference[target]\n",
    "X_reference = df_reference[features]\n",
    "\n",
    "## tree creation and fitting on the reference data\n",
    "clf = tree.DecisionTreeClassifier()\n",
    "clf = clf.fit(X_reference, Y_reference)"
   ]
  },
  {
   "cell_type": "markdown",
   "id": "3a3da992",
   "metadata": {},
   "source": [
    "### Making predictions\n",
    "\n",
    "Then, we need use the tree to get the predictions of the files we want to re-identify.\n",
    "\n",
    "For each file that we need to identify:\n",
    "- The tree output for each keyboard key, i.e `'A','a','c',...`, a user prediction. Thus, it predict and maps one user for one key\n",
    "- Hence, we need to compute the mean probability for each user, find the maximum mean probability, and get the user attached to it\n",
    "- Finally we obtain a list of predictions (predicted class) and a list of \"truths\" (actual class) to compute the accuracy"
   ]
  },
  {
   "cell_type": "code",
   "execution_count": 123,
   "id": "42bee925",
   "metadata": {},
   "outputs": [
    {
     "name": "stdout",
     "output_type": "stream",
     "text": [
      "Prediction|Actual|Proba :  benjamin|benjamin|0.6097560975609756\n"
     ]
    }
   ],
   "source": [
    "# Run prediction for all unknowns and compare to truths to get accuracy\n",
    "\n",
    "predictions = []\n",
    "i = 0\n",
    "for unknown in to_identify:\n",
    "    # tree returns predictions and probabilities for each key entry\n",
    "    # average to get final prediction   \n",
    "    probs = clf.predict_proba(unknown)\n",
    "    prob_df = pd.DataFrame(probs)\n",
    "    prob_df = prob_df.rename(columns=label_to_name_map)\n",
    "    # calculate probability win sums for different labels\n",
    "    pred_df = pd.DataFrame(columns=['prob_sum'])\n",
    "    pred_df['prob_sum'] = prob_df.sum()\n",
    "    # calculate mean probability per label\n",
    "    pred_df['prob_mean'] = pred_df['prob_sum'] / pred_df['prob_sum'].sum()\n",
    "    # find label with max probability sum\n",
    "    pred_label = pred_df['prob_mean'].idxmax()\n",
    "    pred_probability = pred_df.loc[pred_label,'prob_mean']\n",
    "    \n",
    "    predictions.append(pred_label)   \n",
    "    # log result\n",
    "    print(\"Prediction|Actual|Proba : \", pred_label + '|' + truths[0] + '|' + str(pred_probability))\n",
    "    i += 1"
   ]
  },
  {
   "cell_type": "markdown",
   "id": "b0659c46",
   "metadata": {},
   "source": [
    "## Decision tree evaluation\n",
    "### Accuracy\n",
    "Given the array of predictions and the array of \"truths\", we can easily compute the accuracy of our decision tree model"
   ]
  },
  {
   "cell_type": "code",
   "execution_count": 124,
   "id": "d26cfaa8",
   "metadata": {},
   "outputs": [
    {
     "name": "stdout",
     "output_type": "stream",
     "text": [
      "---\n",
      "Final accuracy for all predictions:  1.0\n"
     ]
    }
   ],
   "source": [
    "tree_acc = accuracy_score(truths, predictions)\n",
    "print(\"---\\nFinal accuracy for all predictions: \",tree_acc)"
   ]
  },
  {
   "cell_type": "code",
   "execution_count": null,
   "id": "417ed4cb",
   "metadata": {},
   "outputs": [],
   "source": []
  }
 ],
 "metadata": {
  "kernelspec": {
   "display_name": "Python 3",
   "language": "python",
   "name": "python3"
  },
  "language_info": {
   "codemirror_mode": {
    "name": "ipython",
    "version": 3
   },
   "file_extension": ".py",
   "mimetype": "text/x-python",
   "name": "python",
   "nbconvert_exporter": "python",
   "pygments_lexer": "ipython3",
   "version": "3.8.8"
  }
 },
 "nbformat": 4,
 "nbformat_minor": 5
}
